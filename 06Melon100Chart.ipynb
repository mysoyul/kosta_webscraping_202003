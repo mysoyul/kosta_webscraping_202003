{
 "cells": [
  {
   "cell_type": "markdown",
   "id": "62f64745-6d72-408b-8876-a41dcb23dbf4",
   "metadata": {},
   "source": [
    "### Melon 100 chart 수집/분석/저장\n",
    "* 100곡 노래의 제목,번호,노래상세정보url을 List에 저장하기 (정규표현식 사용)\n",
    "* 노래의 상세정보를 추출해서 자료구조에 저장하고, json 파일로 저장하기\n",
    "* json 파일을 Pandas의 read_json() 이용해서 DataFrame 객체로 저장하기\n",
    "* DataFrame객체를 DB의 Table로 저장하기"
   ]
  },
  {
   "cell_type": "code",
   "execution_count": 1,
   "id": "0dd6a663-8bc3-4895-a78a-65e0e2558a22",
   "metadata": {},
   "outputs": [],
   "source": [
    "import requests\n",
    "from bs4 import BeautifulSoup\n",
    "import re # Regular Expression\n",
    "import pandas as pd\n",
    "import json"
   ]
  },
  {
   "cell_type": "code",
   "execution_count": null,
   "id": "83396df7-1b47-4dfe-a125-74cd5b0ecdf4",
   "metadata": {},
   "outputs": [],
   "source": [
    "url = 'https://www.melon.com/chart/index.htm'\n",
    "req_header = {\n",
    "    'user-agent':''\n",
    "}"
   ]
  }
 ],
 "metadata": {
  "kernelspec": {
   "display_name": "Python 3",
   "language": "python",
   "name": "python3"
  },
  "language_info": {
   "codemirror_mode": {
    "name": "ipython",
    "version": 3
   },
   "file_extension": ".py",
   "mimetype": "text/x-python",
   "name": "python",
   "nbconvert_exporter": "python",
   "pygments_lexer": "ipython3",
   "version": "3.8.8"
  }
 },
 "nbformat": 4,
 "nbformat_minor": 5
}
