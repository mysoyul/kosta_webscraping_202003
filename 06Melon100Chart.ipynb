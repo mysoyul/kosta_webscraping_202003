{
 "cells": [
  {
   "cell_type": "markdown",
   "id": "62f64745-6d72-408b-8876-a41dcb23dbf4",
   "metadata": {},
   "source": [
    "### Melon 100 chart 수집/분석/저장\n",
    "* 100곡 노래의 제목,번호,노래상세정보url을 List에 저장하기 (정규표현식 사용)\n",
    "* 노래의 상세정보를 추출해서 자료구조에 저장하고, json 파일로 저장하기\n",
    "* json 파일을 Pandas의 read_json() 이용해서 DataFrame 객체로 저장하기\n",
    "* DataFrame객체를 DB의 Table로 저장하기"
   ]
  },
  {
   "cell_type": "code",
   "execution_count": 1,
   "id": "0dd6a663-8bc3-4895-a78a-65e0e2558a22",
   "metadata": {},
   "outputs": [],
   "source": [
    "import requests\n",
    "from bs4 import BeautifulSoup\n",
    "import re # Regular Expression\n",
    "import pandas as pd\n",
    "import json"
   ]
  },
  {
   "cell_type": "code",
   "execution_count": 19,
   "id": "83396df7-1b47-4dfe-a125-74cd5b0ecdf4",
   "metadata": {},
   "outputs": [
    {
     "name": "stdout",
     "output_type": "stream",
     "text": [
      "200\n",
      "100\n",
      "100\n",
      "100\n",
      "[{'song_title': 'GANADARA (Feat. 아이유)', 'song_id': '34752700', 'song_url': 'https://www.melon.com/song/detail.htm?songId=34752700'}, {'song_title': 'INVU', 'song_id': '34626109', 'song_url': 'https://www.melon.com/song/detail.htm?songId=34626109'}, {'song_title': '사랑은 늘 도망가', 'song_id': '34061322', 'song_url': 'https://www.melon.com/song/detail.htm?songId=34061322'}]\n"
     ]
    }
   ],
   "source": [
    "url = 'https://www.melon.com/chart/index.htm'\n",
    "req_header = {\n",
    "    'user-agent':'Mozilla/5.0 (Windows NT 10.0; Win64; x64) AppleWebKit/537.36 (KHTML, like Gecko) Chrome/99.0.4844.51 Safari/537.36'\n",
    "}\n",
    "\n",
    "res = requests.get(url, headers=req_header)\n",
    "print(res.status_code)\n",
    "if res.ok:\n",
    "    soup = BeautifulSoup(res.text, 'html.parser')\n",
    "    print(len(soup.select(\"a[href*='playSong']\")))\n",
    "    print(len(soup.select(\"div#tb_list tr a[href*='playSong']\")))\n",
    "    a_tags = soup.select(\"a[href*='playSong']\")\n",
    "    \n",
    "    # 100곡의 songs 정보를 저장할 List\n",
    "    song_list = []\n",
    "    for idx,a_tag in enumerate(a_tags,1):\n",
    "        # 1곡의 song 정보를 저장할 dict\n",
    "        song_dict = {}\n",
    "        song_title = a_tag.text\n",
    "        song_dict['song_title'] = song_title\n",
    "        \n",
    "        #print(idx, type(a_tag), a_tag, song_title)\n",
    "        href_value = a_tag['href']\n",
    "        #song id를 찾기 위한 정규표현식\n",
    "        matched = re.search(r'(\\d+)\\);', href_value)\n",
    "        if matched:\n",
    "            song_id = matched.group(1)\n",
    "            song_dict['song_id'] = song_id\n",
    "                \n",
    "            song_detail_url = f'https://www.melon.com/song/detail.htm?songId={song_id}'\n",
    "            song_dict['song_url'] = song_detail_url\n",
    "        song_list.append(song_dict)\n",
    "\n",
    "print(len(song_list))\n",
    "print(song_list[0:3])"
   ]
  },
  {
   "cell_type": "markdown",
   "id": "a0400edd-e3ae-4796-930b-fb5d7f2b1c52",
   "metadata": {},
   "source": [
    "#### 100개의 노래 상세정보 추출하기"
   ]
  },
  {
   "cell_type": "code",
   "execution_count": 20,
   "id": "ed32537d-8940-4b12-8435-78868b614bdc",
   "metadata": {},
   "outputs": [
    {
     "name": "stdout",
     "output_type": "stream",
     "text": [
      "200\n",
      "200\n"
     ]
    }
   ],
   "source": [
    "import requests\n",
    "from bs4 import BeautifulSoup\n",
    "import re # Regular Expression\n",
    "import pandas as pd\n",
    "import json\n",
    "\n",
    "req_header = {\n",
    "    'user-agent':'Mozilla/5.0 (Windows NT 10.0; Win64; x64) AppleWebKit/537.36 (KHTML, like Gecko) Chrome/99.0.4844.51 Safari/537.36'\n",
    "}\n",
    "\n",
    "song_detail_list = []\n",
    "for idx,song in enumerate(song_list[0:2],1):\n",
    "    song_detail_dict = {}\n",
    "    \n",
    "    song_detail_url = song['song_url']\n",
    "    res = requests.get(song_detail_url, headers=req_header)\n",
    "    print(res.status_code)"
   ]
  }
 ],
 "metadata": {
  "kernelspec": {
   "display_name": "Python 3",
   "language": "python",
   "name": "python3"
  },
  "language_info": {
   "codemirror_mode": {
    "name": "ipython",
    "version": 3
   },
   "file_extension": ".py",
   "mimetype": "text/x-python",
   "name": "python",
   "nbconvert_exporter": "python",
   "pygments_lexer": "ipython3",
   "version": "3.8.8"
  }
 },
 "nbformat": 4,
 "nbformat_minor": 5
}
