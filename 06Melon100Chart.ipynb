{
 "cells": [
  {
   "cell_type": "markdown",
   "id": "62f64745-6d72-408b-8876-a41dcb23dbf4",
   "metadata": {},
   "source": [
    "### Melon 100 chart 수집/분석/저장\n",
    "* 100곡 노래의 제목,번호,노래상세정보url을 List에 저장하기 (정규표현식 사용)\n",
    "* 노래의 상세정보를 추출해서 자료구조에 저장하고, json 파일로 저장하기\n",
    "* json 파일을 Pandas의 read_json() 이용해서 DataFrame 객체로 저장하기\n",
    "* DataFrame객체를 DB의 Table로 저장하기"
   ]
  },
  {
   "cell_type": "code",
   "execution_count": 1,
   "id": "0dd6a663-8bc3-4895-a78a-65e0e2558a22",
   "metadata": {},
   "outputs": [],
   "source": [
    "import requests\n",
    "from bs4 import BeautifulSoup\n",
    "import re # Regular Expression\n",
    "import pandas as pd\n",
    "import json"
   ]
  },
  {
   "cell_type": "code",
   "execution_count": 19,
   "id": "83396df7-1b47-4dfe-a125-74cd5b0ecdf4",
   "metadata": {},
   "outputs": [
    {
     "name": "stdout",
     "output_type": "stream",
     "text": [
      "200\n",
      "100\n",
      "100\n",
      "100\n",
      "[{'song_title': 'GANADARA (Feat. 아이유)', 'song_id': '34752700', 'song_url': 'https://www.melon.com/song/detail.htm?songId=34752700'}, {'song_title': 'INVU', 'song_id': '34626109', 'song_url': 'https://www.melon.com/song/detail.htm?songId=34626109'}, {'song_title': '사랑은 늘 도망가', 'song_id': '34061322', 'song_url': 'https://www.melon.com/song/detail.htm?songId=34061322'}]\n"
     ]
    }
   ],
   "source": [
    "url = 'https://www.melon.com/chart/index.htm'\n",
    "req_header = {\n",
    "    'user-agent':'Mozilla/5.0 (Windows NT 10.0; Win64; x64) AppleWebKit/537.36 (KHTML, like Gecko) Chrome/99.0.4844.51 Safari/537.36'\n",
    "}\n",
    "\n",
    "res = requests.get(url, headers=req_header)\n",
    "print(res.status_code)\n",
    "if res.ok:\n",
    "    soup = BeautifulSoup(res.text, 'html.parser')\n",
    "    print(len(soup.select(\"a[href*='playSong']\")))\n",
    "    print(len(soup.select(\"div#tb_list tr a[href*='playSong']\")))\n",
    "    a_tags = soup.select(\"a[href*='playSong']\")\n",
    "    \n",
    "    # 100곡의 songs 정보를 저장할 List\n",
    "    song_list = []\n",
    "    for idx,a_tag in enumerate(a_tags,1):\n",
    "        # 1곡의 song 정보를 저장할 dict\n",
    "        song_dict = {}\n",
    "        song_title = a_tag.text\n",
    "        song_dict['song_title'] = song_title\n",
    "        \n",
    "        #print(idx, type(a_tag), a_tag, song_title)\n",
    "        href_value = a_tag['href']\n",
    "        #song id를 찾기 위한 정규표현식\n",
    "        matched = re.search(r'(\\d+)\\);', href_value)\n",
    "        if matched:\n",
    "            song_id = matched.group(1)\n",
    "            song_dict['song_id'] = song_id\n",
    "                \n",
    "            song_detail_url = f'https://www.melon.com/song/detail.htm?songId={song_id}'\n",
    "            song_dict['song_url'] = song_detail_url\n",
    "        song_list.append(song_dict)\n",
    "\n",
    "print(len(song_list))\n",
    "print(song_list[0:3])"
   ]
  },
  {
   "cell_type": "markdown",
   "id": "a0400edd-e3ae-4796-930b-fb5d7f2b1c52",
   "metadata": {},
   "source": [
    "#### 100개의 노래 상세정보 추출하기"
   ]
  },
  {
   "cell_type": "code",
   "execution_count": 44,
   "id": "ed32537d-8940-4b12-8435-78868b614bdc",
   "metadata": {},
   "outputs": [
    {
     "name": "stdout",
     "output_type": "stream",
     "text": [
      "2\n"
     ]
    },
    {
     "data": {
      "text/plain": [
       "[{'곡명': 'GANADARA (Feat. 아이유)',\n",
       "  '가수': '박재범',\n",
       "  '앨범': 'GANADARA',\n",
       "  '발매일': '2022.03.11',\n",
       "  '장르': '2022.03.11',\n",
       "  '좋아요': 34752700,\n",
       "  '가사': '길거리를 걷다 보면사랑 노래만 흘러나와나는 왜 저런 게 낯설까난 한국말까지 서툴러번역기도 전혀 도움 안 돼네 맘엔 어떨까 걱정만어떤 단어를 쓸지 I don’t know어떤 말을 할지 I don’t know나는 왜 이런지 I don’t knowYou’re on my mind어떤 단어를 쓸지 I don’t know어떤 말을 할지 I don’t know나는 왜 이런지 I don’t knowYou’re on my mindBaby 정말 생각 안 나Body language로 자신 있어보여줄게girl just give me some your time너를 보면 손에 땀 나긴장 풀게 한 번 웃어줘Let me take u on a magic carpet ride손을 잡아 따라와맑은 날씨 보름달가르쳐줘 오늘 밤가나다라마바사손을 잡아 따라와맑은 날씨 보름달가르쳐줘 오늘 밤가나다라마바사너무 완벽하지 않아도걱정 마 네 맘을 조금 알 것 같아네게 좀 더 다가서 볼까고민해 매일 밤길거리를 걷다 보면계속 계속 네 생각이 나이런 내 모습이 왜 낯설까번역기 위에서헤매는 네 손가락까지자꾸만 생각이 나는 걸Body language도 나는 괜찮아But 생각 안 나면 그냥 웃어줘모든 것을 알려줄게 오늘 밤내가 나쁜 남자처럼 보여도너를 볼 때면 맘이 여려져I wouldn’t mind if I died in your arms손을 잡아 따라와맑은 날씨 보름달가르쳐줘 오늘 밤가나다라마바사손을 잡아 따라와맑은 날씨 보름달가르쳐줘 오늘 밤가나다라마바사손을 잡아 따라와맑은 날씨 보름달가르쳐줘 오늘 밤가나다라마바사손을 잡아 따라와맑은 날씨 보름달가르쳐줘 오늘 밤가나다라마바사'},\n",
       " {'곡명': 'INVU',\n",
       "  '가수': '태연 (TAEYEON)',\n",
       "  '앨범': 'INVU - The 3rd Album',\n",
       "  '발매일': '2022.02.14',\n",
       "  '장르': '2022.02.14',\n",
       "  '좋아요': 34626109,\n",
       "  '가사': 'Falling in love너에겐 난 Option시작부터 다른 너와 나깨지는 Heart빗나간 네 Mention익숙하거든I think I lost my mindBut It’s my kind of love아끼지 않고 다쏟아내고는 주저앉아문득 어느 순간지친 내가 보여애쓰고 있지만So I can’t love youEven though I do밀어내 봐도난 너를 못 이겨날 버리고날 잃을수록넌 반짝이는 아이러니So I N V UI N V UI N V U기대지 마기대하지도 마몇 번을 되뇌고 되놰도그 손길 한 번에무너지는 날 볼 때네 기분은 어때I guess I lost my mindYeah It’s my kind of love늘 처음인 것처럼서툴러서 또 상처가 나무뎌지기 전에아물기도 전에잔뜩 헤집어놔So I can’t love youEven though I do밀어내 봐도난 너를 못 이겨날 버리고날 잃을수록넌 반짝이는 아이러니So I N V UI N V UI N V U식은 온기부서진 맘이자꾸 날 할퀴어아파도 못 멈춰So when you leavePlease make it easyCause I N V UI N V UI N V UI N V UI N V U'}]"
      ]
     },
     "execution_count": 44,
     "metadata": {},
     "output_type": "execute_result"
    }
   ],
   "source": [
    "import requests\n",
    "from bs4 import BeautifulSoup\n",
    "import re # Regular Expression\n",
    "import pandas as pd\n",
    "import json\n",
    "\n",
    "req_header = {\n",
    "    'user-agent':'Mozilla/5.0 (Windows NT 10.0; Win64; x64) AppleWebKit/537.36 (KHTML, like Gecko) Chrome/99.0.4844.51 Safari/537.36'\n",
    "}\n",
    "\n",
    "song_detail_list = []\n",
    "for idx,song in enumerate(song_list[0:2],1):\n",
    "    song_detail_dict = {}\n",
    "    \n",
    "    song_detail_url = song['song_url']\n",
    "    res = requests.get(song_detail_url, headers=req_header)\n",
    "    if res.ok:\n",
    "        soup = BeautifulSoup(res.text, 'html.parser')\n",
    "        #곡명\n",
    "        song_detail_dict['곡명'] = song['song_title']\n",
    "        \n",
    "        #가수이름\n",
    "        singer_span = soup.select(\"a[href*='goArtistDetail'] span\")\n",
    "        if singer_span:            \n",
    "            song_detail_dict['가수'] = singer_span[0].text\n",
    "        \n",
    "        #앨범,발매일,장르\n",
    "        song_dd = soup.select('div.meta dd')    \n",
    "        if song_dd:\n",
    "            song_detail_dict['앨범'] = song_dd[0].text\n",
    "            song_detail_dict['발매일'] = song_dd[1].text\n",
    "            song_detail_dict['장르'] = song_dd[2].text\n",
    "        \n",
    "        #좋아요 건수\n",
    "        song_id = song['song_id']\n",
    "        ajax_url = f'https://www.melon.com/commonlike/getSongLike.json?contsIds={song_id}'    \n",
    "        res = requests.get(ajax_url, headers=req_header)\n",
    "        if res.ok:\n",
    "            song_detail_dict['좋아요'] = res.json()['contsLike'][0]['CONTSID']\n",
    "        \n",
    "        #가사\n",
    "        lyric_div = soup.select('div#d_video_summary')\n",
    "        if lyric_div:\n",
    "            lyric_temp = lyric_div[0].text\n",
    "            # \\n\\r\\t 특수문자를 찾아주는 Pattern 객체생성\n",
    "            pattern = re.compile(r'[\\r\\n\\t]')\n",
    "            # 특수문자를 ''(empty string) 으로 대체(substitute)해라\n",
    "            lyric = pattern.sub('', lyric_temp.strip())                        \n",
    "        else: #가사가 없는 경우\n",
    "            lyric = ''\n",
    "        \n",
    "        song_detail_dict['가사'] = lyric\n",
    "        \n",
    "        #song_detail_dict를 song_detail_list에 추가\n",
    "        song_detail_list.append(song_detail_dict)\n",
    "\n",
    "print(len(song_detail_list))        \n",
    "song_detail_list[0:2]        "
   ]
  }
 ],
 "metadata": {
  "kernelspec": {
   "display_name": "Python 3",
   "language": "python",
   "name": "python3"
  },
  "language_info": {
   "codemirror_mode": {
    "name": "ipython",
    "version": 3
   },
   "file_extension": ".py",
   "mimetype": "text/x-python",
   "name": "python",
   "nbconvert_exporter": "python",
   "pygments_lexer": "ipython3",
   "version": "3.8.8"
  }
 },
 "nbformat": 4,
 "nbformat_minor": 5
}
