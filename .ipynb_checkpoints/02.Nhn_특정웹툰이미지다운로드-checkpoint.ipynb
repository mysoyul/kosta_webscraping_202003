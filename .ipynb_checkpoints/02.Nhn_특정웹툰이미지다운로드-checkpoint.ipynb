{
 "cells": [
  {
   "cell_type": "markdown",
   "metadata": {},
   "source": [
    "### 특정 웹툰 페이지의 모든 image를 다운로드 받기\n",
    "* soup.select(\"img[src$='jpg']\")\n",
    "* img 폴더를 생성하고 그 아래에 파일을 저장하기"
   ]
  },
  {
   "cell_type": "code",
   "execution_count": 1,
   "metadata": {},
   "outputs": [
    {
     "name": "stdout",
     "output_type": "stream",
     "text": [
      "200\n",
      "59\n",
      "59\n"
     ]
    },
    {
     "data": {
      "text/plain": [
       "['https://shared-comic.pstatic.net/thumb/webtoon/712362/thumbnail/thumbnail_IMAG04_2f7f06c2-18b4-438c-b633-94f7e53670a3.jpg',\n",
       " 'https://image-comic.pstatic.net/webtoon/712362/94/20200924121949_aa6b0fd732e9b69f06ad265061e37edb_IMAG01_1.jpg',\n",
       " 'https://image-comic.pstatic.net/webtoon/712362/94/20200924121949_aa6b0fd732e9b69f06ad265061e37edb_IMAG01_2.jpg']"
      ]
     },
     "execution_count": 1,
     "metadata": {},
     "output_type": "execute_result"
    }
   ],
   "source": [
    "import requests\n",
    "from bs4 import BeautifulSoup\n",
    "import re\n",
    "\n",
    "main_url = 'https://comic.naver.com/webtoon/detail.nhn?titleId=712362&no=94&amp;weekday=fri'\n",
    "res = requests.get(main_url)\n",
    "print(res.status_code)\n",
    "if res.ok:\n",
    "    html = res.text\n",
    "    soup = BeautifulSoup(html,'html.parser')\n",
    "    \n",
    "    print(len(soup.select(\"img[src$='.jpg']\")))\n",
    "    img_url_list = []\n",
    "    for img_url in soup.select(\"img[src$='.jpg']\"):\n",
    "        #print(type(img_url),img_url)\n",
    "        # img 태그의 src 속성의 값을 가져와서 img_url_list에 추가하기\n",
    "        img_url_list.append(img_url['src'])\n",
    "\n",
    "print(len(img_url_list))        \n",
    "img_url_list[0:3]   "
   ]
  },
  {
   "cell_type": "code",
   "execution_count": 2,
   "metadata": {},
   "outputs": [],
   "source": [
    "import os\n",
    "#img 디렉토리가 없으면 img 디렉토리 생성\n",
    "if not os.path.isdir('img'):\n",
    "    os.mkdir('img')    "
   ]
  },
  {
   "cell_type": "code",
   "execution_count": 11,
   "metadata": {},
   "outputs": [
    {
     "name": "stdout",
     "output_type": "stream",
     "text": [
      "---> 다운로드 번호 1\n",
      "---> 다운로드 번호 2\n",
      "---> 다운로드 번호 3\n",
      "---> 다운로드 번호 4\n",
      "---> 다운로드 번호 5\n",
      "---> 다운로드 번호 6\n",
      "---> 다운로드 번호 7\n",
      "---> 다운로드 번호 8\n",
      "---> 다운로드 번호 9\n",
      "---> 다운로드 번호 10\n",
      "---> 다운로드 번호 11\n",
      "---> 다운로드 번호 12\n",
      "---> 다운로드 번호 13\n",
      "---> 다운로드 번호 14\n",
      "---> 다운로드 번호 15\n",
      "---> 다운로드 번호 16\n",
      "---> 다운로드 번호 17\n",
      "---> 다운로드 번호 18\n",
      "---> 다운로드 번호 19\n",
      "---> 다운로드 번호 20\n",
      "---> 다운로드 번호 21\n",
      "---> 다운로드 번호 22\n",
      "---> 다운로드 번호 23\n",
      "---> 다운로드 번호 24\n",
      "---> 다운로드 번호 25\n",
      "---> 다운로드 번호 26\n",
      "---> 다운로드 번호 27\n",
      "---> 다운로드 번호 28\n",
      "---> 다운로드 번호 29\n",
      "---> 다운로드 번호 30\n"
     ]
    },
    {
     "ename": "FileNotFoundError",
     "evalue": "[Errno 2] No such file or directory: 'img/20200924121949_aa6b0fd732e9b69f06ad265061e37edb_IMAG01_29.jpg'",
     "output_type": "error",
     "traceback": [
      "\u001b[1;31m---------------------------------------------------------------------------\u001b[0m",
      "\u001b[1;31mFileNotFoundError\u001b[0m                         Traceback (most recent call last)",
      "\u001b[1;32m<ipython-input-11-a7e33f17a73d>\u001b[0m in \u001b[0;36m<module>\u001b[1;34m\u001b[0m\n\u001b[0;32m      9\u001b[0m         \u001b[0mimg_data\u001b[0m \u001b[1;33m=\u001b[0m \u001b[0mres\u001b[0m\u001b[1;33m.\u001b[0m\u001b[0mcontent\u001b[0m\u001b[1;33m\u001b[0m\u001b[1;33m\u001b[0m\u001b[0m\n\u001b[0;32m     10\u001b[0m         \u001b[0mfile_name\u001b[0m \u001b[1;33m=\u001b[0m \u001b[0mos\u001b[0m\u001b[1;33m.\u001b[0m\u001b[0mpath\u001b[0m\u001b[1;33m.\u001b[0m\u001b[0mbasename\u001b[0m\u001b[1;33m(\u001b[0m\u001b[0mimg_url\u001b[0m\u001b[1;33m)\u001b[0m\u001b[1;33m\u001b[0m\u001b[1;33m\u001b[0m\u001b[0m\n\u001b[1;32m---> 11\u001b[1;33m         \u001b[1;32mwith\u001b[0m \u001b[0mopen\u001b[0m\u001b[1;33m(\u001b[0m\u001b[1;34m'img/'\u001b[0m\u001b[1;33m+\u001b[0m\u001b[0mfile_name\u001b[0m\u001b[1;33m,\u001b[0m\u001b[1;34m'wb'\u001b[0m\u001b[1;33m)\u001b[0m \u001b[1;32mas\u001b[0m \u001b[0mfile\u001b[0m\u001b[1;33m:\u001b[0m\u001b[1;33m\u001b[0m\u001b[1;33m\u001b[0m\u001b[0m\n\u001b[0m\u001b[0;32m     12\u001b[0m             \u001b[1;31m#print(f'파일명 :{file_name} ({len(img_data)}) bytes')\u001b[0m\u001b[1;33m\u001b[0m\u001b[1;33m\u001b[0m\u001b[1;33m\u001b[0m\u001b[0m\n\u001b[0;32m     13\u001b[0m             \u001b[0mfile\u001b[0m\u001b[1;33m.\u001b[0m\u001b[0mwrite\u001b[0m\u001b[1;33m(\u001b[0m\u001b[0mimg_data\u001b[0m\u001b[1;33m)\u001b[0m\u001b[1;33m\u001b[0m\u001b[1;33m\u001b[0m\u001b[0m\n",
      "\u001b[1;31mFileNotFoundError\u001b[0m: [Errno 2] No such file or directory: 'img/20200924121949_aa6b0fd732e9b69f06ad265061e37edb_IMAG01_29.jpg'"
     ]
    }
   ],
   "source": [
    "#image_url_list에 있는 url로 요청해서 image들을 다운로드 하기\n",
    "for idx,img_url in enumerate(img_url_list,1):\n",
    "    print(f'---> 다운로드 번호 {idx}')\n",
    "    req_header = {\n",
    "        'referer':main_url\n",
    "    }\n",
    "    res = requests.get(img_url, headers=req_header)\n",
    "    if res.ok:\n",
    "        img_data = res.content\n",
    "        file_name = os.path.basename(img_url)\n",
    "        with open('img/'+file_name,'wb') as file:\n",
    "            #print(f'파일명 :{file_name} ({len(img_data)}) bytes')\n",
    "            file.write(img_data)"
   ]
  },
  {
   "cell_type": "markdown",
   "metadata": {},
   "source": [
    "### image 다운로드\n",
    "* 위의 코드를 함수로 정리\n",
    "* os.mkdir와 os.makedirs \n",
    "    - mkdir은 한 폴더만 생성이 가능\n",
    "    - makedirs는 './a/b/c' 처럼 Sub 디렉토리를 생성이 가능"
   ]
  },
  {
   "cell_type": "code",
   "execution_count": 8,
   "metadata": {},
   "outputs": [
    {
     "name": "stdout",
     "output_type": "stream",
     "text": [
      "True\n",
      "98\n"
     ]
    }
   ],
   "source": [
    "def download_image(title,url):\n",
    "    import requests\n",
    "    from bs4 import BeautifulSoup\n",
    "    import os\n",
    "    \n",
    "    req_header = {\n",
    "        'referer': url\n",
    "    }\n",
    "    \n",
    "    res = requests.get(url)\n",
    "    print(res.ok)\n",
    "    if res.ok:\n",
    "        soup = BeautifulSoup(res.text, 'html.parser')\n",
    "        \n",
    "        imgurl_list = []\n",
    "        print(len(soup.select('img[src$=\".jpg\"]')))\n",
    "        for img_tag in soup.select('img[src$=\".jpg\"]'):\n",
    "            imgurl_list.append(img_tag['src'])\n",
    "            #print(img_tag)\n",
    "                \n",
    "        #image를 저장할 디렉토리 생성\n",
    "        \n",
    "        #dir_name = 'img/' + title\n",
    "        dir_name = os.path.join('img',title)\n",
    "        #print(dir_name)\n",
    "        if not os.path.isdir(dir_name):\n",
    "            os.makedirs(dir_name)\n",
    "        \n",
    "        for idx,img_url in enumerate(imgurl_list,1):\n",
    "            #print(idx, img_url)\n",
    "            res = requests.get(img_url,headers=req_header)\n",
    "            #print(res.status_code)\n",
    "            if res.ok:\n",
    "                img_data = res.content\n",
    "                #print(len(img_data))\n",
    "                file_name = os.path.basename(img_url)\n",
    "                #print(file_name)\n",
    "                file_name = dir_name + '/' + file_name\n",
    "                with open(file_name,'wb') as file:\n",
    "                    #print(f'{file_name} (파일크기 : {len(img_data)}))')\n",
    "                    file.write(img_data)\n",
    "                \n",
    "\n",
    "#https://comic.naver.com/webtoon/detail?titleId=742889&no=6&weekday=mon\n",
    "#download_image('노력의결과','https://comic.naver.com/webtoon/detail.nhn?titleId=742889&no=32&weekday=mon')   \n",
    "download_image('노력의결과','https://comic.naver.com/webtoon/detail?titleId=742889&no=6&weekday=mon')"
   ]
  },
  {
   "cell_type": "markdown",
   "metadata": {},
   "source": [
    "#### 네이버 웹툰 홈에서 추천웹툰의 제목과 url 를 알아내기"
   ]
  },
  {
   "cell_type": "code",
   "execution_count": 9,
   "metadata": {},
   "outputs": [
    {
     "name": "stdout",
     "output_type": "stream",
     "text": [
      "6\n"
     ]
    }
   ],
   "source": [
    "import requests\n",
    "from bs4 import BeautifulSoup\n",
    "from urllib.parse import urljoin\n",
    "\n",
    "main_url = 'https://comic.naver.com/index.nhn'\n",
    "\n",
    "res = requests.get(main_url)\n",
    "if res.ok:\n",
    "    soup = BeautifulSoup(res.text,'html.parser')\n",
    "    print(len(soup.select('div.genreRecomInfo2')))\n",
    "    \n",
    "    recom_webtoon_list = []\n",
    "    for div_tag in soup.select('div.genreRecomInfo2'):\n",
    "        recom_webtoon_dict = {}\n",
    "        a_tag1 = div_tag.select('h6 a')[0]\n",
    "        #웹툰제목\n",
    "        title = a_tag1.text.strip()\n",
    "        #웹툰의 url\n",
    "        webtoon_url=urljoin(main_url, a_tag1['href'])\n",
    "        \n",
    "        #웹툰의 회차의 url\n",
    "        a_tag2 = div_tag.select('p a')[0]\n",
    "        webtoon_episode_url = urljoin(main_url,a_tag2['href'])\n",
    "                \n",
    "        recom_webtoon_dict['title'] = title\n",
    "        recom_webtoon_dict['webtoon_url'] = webtoon_url\n",
    "        recom_webtoon_dict['episode_url'] = webtoon_episode_url\n",
    "        \n",
    "        recom_webtoon_list.append(recom_webtoon_dict)\n",
    "        \n",
    "    #print(recom_webtoon_list)                "
   ]
  },
  {
   "cell_type": "markdown",
   "metadata": {},
   "source": [
    "#### 6개의 만화의 제목과 회차url을 꺼내서 download_image() 함수를 호출한다."
   ]
  },
  {
   "cell_type": "code",
   "execution_count": 10,
   "metadata": {},
   "outputs": [
    {
     "name": "stdout",
     "output_type": "stream",
     "text": [
      "True\n",
      "39\n",
      "True\n",
      "18\n",
      "True\n",
      "29\n",
      "True\n",
      "73\n",
      "True\n",
      "67\n",
      "True\n",
      "63\n"
     ]
    }
   ],
   "source": [
    "for idx,webtoon in enumerate(recom_webtoon_list,1):\n",
    "    #print('---->>> ', idx, webtoon['title'])\n",
    "    download_image(webtoon['title'],webtoon['episode_url'])"
   ]
  }
 ],
 "metadata": {
  "kernelspec": {
   "display_name": "Python 3",
   "language": "python",
   "name": "python3"
  },
  "language_info": {
   "codemirror_mode": {
    "name": "ipython",
    "version": 3
   },
   "file_extension": ".py",
   "mimetype": "text/x-python",
   "name": "python",
   "nbconvert_exporter": "python",
   "pygments_lexer": "ipython3",
   "version": "3.8.8"
  }
 },
 "nbformat": 4,
 "nbformat_minor": 4
}
