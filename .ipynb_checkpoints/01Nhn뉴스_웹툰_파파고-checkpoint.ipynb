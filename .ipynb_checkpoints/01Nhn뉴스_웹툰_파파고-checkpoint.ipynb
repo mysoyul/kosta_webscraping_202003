{
 "cells": [
  {
   "cell_type": "markdown",
   "id": "1f0235c4-11d1-4e7b-bbce-23b4564514d6",
   "metadata": {},
   "source": [
    "## 뉴스 제목 가져오기\n"
   ]
  },
  {
   "cell_type": "code",
   "execution_count": 33,
   "id": "fb05970c-71e9-49f4-a325-12e5650f965e",
   "metadata": {},
   "outputs": [],
   "source": [
    "import requests\n",
    "import bs4\n",
    "from bs4 import BeautifulSoup\n",
    "from urllib.parse import urljoin"
   ]
  },
  {
   "cell_type": "code",
   "execution_count": 3,
   "id": "ab033982-cae0-4206-adee-bc5220ae7dde",
   "metadata": {},
   "outputs": [
    {
     "name": "stdout",
     "output_type": "stream",
     "text": [
      "Name: requests\n",
      "Version: 2.25.1\n",
      "Summary: Python HTTP for Humans.\n",
      "Home-page: https://requests.readthedocs.io\n",
      "Author: Kenneth Reitz\n",
      "Author-email: me@kennethreitz.org\n",
      "License: Apache 2.0\n",
      "Location: c:\\users\\vega2\\anaconda3\\lib\\site-packages\n",
      "Requires: certifi, idna, chardet, urllib3\n",
      "Required-by: Sphinx, jupyterlab-server, conda, conda-repo-cli, conda-build, anaconda-project, anaconda-client\n"
     ]
    }
   ],
   "source": [
    "!pip show requests"
   ]
  },
  {
   "cell_type": "code",
   "execution_count": 4,
   "id": "d1cecfc4-8d3a-4c54-9ae1-1e3af69d7b3a",
   "metadata": {},
   "outputs": [],
   "source": [
    "#! pip install --upgrade requests"
   ]
  },
  {
   "cell_type": "code",
   "execution_count": 5,
   "id": "d8e9da4c-f3ff-42e6-a9ec-ecb21c6fc68e",
   "metadata": {},
   "outputs": [
    {
     "name": "stdout",
     "output_type": "stream",
     "text": [
      "requests version 2.25.1\n"
     ]
    }
   ],
   "source": [
    "print('requests version' , requests.__version__ )"
   ]
  },
  {
   "cell_type": "code",
   "execution_count": 10,
   "id": "a62c8820-0318-456e-a1c2-637c383299a8",
   "metadata": {},
   "outputs": [
    {
     "name": "stdout",
     "output_type": "stream",
     "text": [
      "bs4 version 4.9.3\n"
     ]
    }
   ],
   "source": [
    "print('bs4 version', bs4.__version__)"
   ]
  },
  {
   "cell_type": "code",
   "execution_count": 35,
   "id": "05d07f32-968c-48af-b3a7-3b6fb13594cb",
   "metadata": {},
   "outputs": [
    {
     "name": "stdout",
     "output_type": "stream",
     "text": [
      "True\n",
      "200\n"
     ]
    }
   ],
   "source": [
    "# 생활/문화 뉴스\n",
    "url = 'https://news.naver.com/main/main.naver?mode=LSD&mid=shm&sid1=103'\n",
    "# 요청 헤더 : 브라우저 정보 \n",
    "req_header = {\n",
    "    'user-agent':'Mozilla/5.0 (Windows NT 10.0; Win64; x64) AppleWebKit/537.36 (KHTML, like Gecko) Chrome/99.0.4844.51 Safari/537.36'\n",
    "}\n",
    "\n",
    "res = requests.get(url, headers=req_header)\n",
    "print(res.ok) # 200\n",
    "print(res.status_code)\n",
    "#print(type(res))\n",
    "if res.ok:\n",
    "    # 소스보기에서 보여지는 텍스트\n",
    "    html = res.text\n",
    "    # parser 역힐을 하는 BeautifulSoup 객체 생성\n",
    "    soup = BeautifulSoup(html, 'html.parser')\n",
    "    #print(len(soup.select(\"a[href*='read.naver']\")))\n",
    "    # a 태그를 찾기 : href 속성의 값에 read.naver 문자열이 부분적으로 매칭되는 a tag\n",
    "    atag_list = soup.select(\"a[href*='read.naver']\")\n",
    "    for atag in atag_list:\n",
    "        #print(type(atag), atag)\n",
    "        #<a href=\"\">제목</a> atag.text => 제목\n",
    "        title = atag.text.strip()\n",
    "        if title:\n",
    "            href = urljoin(url, atag['href'])\n",
    "            #print(title, href)\n",
    "else:\n",
    "    print('Error 발생 : ', res.status_code)"
   ]
  },
  {
   "cell_type": "markdown",
   "id": "372b9541-50ea-4bf0-bd31-2785d63d4fb0",
   "metadata": {},
   "source": [
    "### 웹툰 이미지 다운로드 하기\n",
    "* referer 헤더를 반드시 설정해야 합니다."
   ]
  },
  {
   "cell_type": "code",
   "execution_count": 48,
   "id": "2b09e890-9f86-46c4-8e18-13fa496087d2",
   "metadata": {},
   "outputs": [
    {
     "name": "stdout",
     "output_type": "stream",
     "text": [
      "200\n",
      "writing to 20220204165510_02a7b0a87388bc8f89111d78c0c3ec1c_IMAG01_2.jpg (209,392) bytes\n",
      "200\n",
      "writing to 20220204165510_02a7b0a87388bc8f89111d78c0c3ec1c_IMAG01_3.jpg (173,550) bytes\n",
      "200\n",
      "writing to 20220204165510_02a7b0a87388bc8f89111d78c0c3ec1c_IMAG01_4.jpg (120,260) bytes\n"
     ]
    }
   ],
   "source": [
    "import requests\n",
    "import os\n",
    "\n",
    "req_header = {\n",
    "    'referer':'https://comic.naver.com/webtoon/detail?titleId=183559&no=531&weekday=mon'\n",
    "}\n",
    "img_urls = [\n",
    "    'https://image-comic.pstatic.net/webtoon/183559/531/20220204165510_02a7b0a87388bc8f89111d78c0c3ec1c_IMAG01_2.jpg',\n",
    "    'https://image-comic.pstatic.net/webtoon/183559/531/20220204165510_02a7b0a87388bc8f89111d78c0c3ec1c_IMAG01_3.jpg',\n",
    "    'https://image-comic.pstatic.net/webtoon/183559/531/20220204165510_02a7b0a87388bc8f89111d78c0c3ec1c_IMAG01_4.jpg'\n",
    "]\n",
    "for img_url in img_urls:\n",
    "    res = requests.get(img_url, headers=req_header)\n",
    "    print(res.status_code)\n",
    "    if res.ok:\n",
    "        # binary data는 content 속성 사용\n",
    "        img_data = res.content\n",
    "        # url의 filename만 추출하기\n",
    "        file_name = os.path.basename(img_url)\n",
    "        \n",
    "        # open() 함수 mode : r(read), w(write), rb(read binary), wb(write binary), a(append)\n",
    "        with open(file_name, 'wb') as file:\n",
    "            #print('writing to {} ({}) bytes'.format(file_name, len(img_data)))\n",
    "            print(f'writing to {file_name} ({len(img_data):,}) bytes')\n",
    "            # binary data를 image file로 저장하기\n",
    "            file.write(img_data)"
   ]
  },
  {
   "cell_type": "markdown",
   "id": "7ef3b48c-f1a4-4d7f-a3a1-6d76f0751dc8",
   "metadata": {},
   "source": [
    "### 웹툰 이미지 업로드 하기\n",
    "* http://httpbin.org/post 업로드 요청할 수 있는 url"
   ]
  },
  {
   "cell_type": "code",
   "execution_count": 50,
   "id": "a253918b-b134-417f-bac8-5fe9188fe420",
   "metadata": {},
   "outputs": [
    {
     "data": {
      "text/plain": [
       "200"
      ]
     },
     "execution_count": 50,
     "metadata": {},
     "output_type": "execute_result"
    }
   ],
   "source": [
    "import requests\n",
    "\n",
    "upload_files_dict = {\n",
    "    'img1': open('f2.jpg','rb'),\n",
    "    'img2': open('f3.jpg','rb'),\n",
    "}\n",
    "url = 'http://httpbin.org/post'\n",
    "res = requests.post(url, files=upload_files_dict)\n",
    "res.status_code"
   ]
  },
  {
   "cell_type": "code",
   "execution_count": 55,
   "id": "f3966151-359f-412a-8240-9f85f99d83e7",
   "metadata": {},
   "outputs": [],
   "source": [
    "#res.json()['files']['img1']"
   ]
  },
  {
   "cell_type": "markdown",
   "id": "a18e2e6b-9d4c-41ff-bab3-6481b6a87add",
   "metadata": {},
   "source": [
    "### urllib 기반 파파고 예제"
   ]
  },
  {
   "cell_type": "code",
   "execution_count": 56,
   "id": "eab5e54b-be57-4ef2-80e7-66d5af5c4563",
   "metadata": {},
   "outputs": [
    {
     "name": "stdout",
     "output_type": "stream",
     "text": [
      "{\"message\":{\"result\":{\"srcLangType\":\"en\",\"tarLangType\":\"ko\",\"translatedText\":\"어제는 내 모든 고민이 너무 멀리 있는 것 같았어.\",\"engineType\":\"N2MT\",\"pivot\":null,\"dict\":null,\"tarDict\":null,\"modelVer\":\"Unknown\"},\"@type\":\"response\",\"@service\":\"naverservice.nmt.proxy\",\"@version\":\"1.0.0\"}}\n"
     ]
    }
   ],
   "source": [
    "import os\n",
    "import sys\n",
    "import urllib.request\n",
    "\n",
    "client_id = \"mldU421g1Whc8Jv0wPt5\" # 개발자센터에서 발급받은 Client ID 값\n",
    "client_secret = \"QEctC2tbME\" # 개발자센터에서 발급받은 Client Secret 값\n",
    "encText = urllib.parse.quote(\"Yesterday all my troubles seemed so far away.\")\n",
    "data = \"source=en&target=ko&text=\" + encText\n",
    "url = \"https://openapi.naver.com/v1/papago/n2mt\"\n",
    "request = urllib.request.Request(url)\n",
    "request.add_header(\"X-Naver-Client-Id\",client_id)\n",
    "request.add_header(\"X-Naver-Client-Secret\",client_secret)\n",
    "response = urllib.request.urlopen(request, data=data.encode(\"utf-8\"))\n",
    "rescode = response.getcode()\n",
    "if(rescode==200):\n",
    "    response_body = response.read()\n",
    "    print(response_body.decode('utf-8'))\n",
    "else:\n",
    "    print(\"Error Code:\" + rescode)"
   ]
  },
  {
   "cell_type": "markdown",
   "id": "6e675652-56dc-4fb3-82bd-6fe43791fd70",
   "metadata": {},
   "source": [
    "### requests 기반 파파고 사용 예제"
   ]
  },
  {
   "cell_type": "code",
   "execution_count": 59,
   "id": "757471bc-58e4-471a-af9f-df23fc6ffa1b",
   "metadata": {},
   "outputs": [
    {
     "data": {
      "text/plain": [
       "{'X-Naver-Client-Id': 'mldU421g1Whc8Jv0wPt5',\n",
       " 'X-Naver-Client-Secret': 'QEctC2tbME'}"
      ]
     },
     "execution_count": 59,
     "metadata": {},
     "output_type": "execute_result"
    }
   ],
   "source": [
    "import requests\n",
    "\n",
    "client_id = \"mldU421g1Whc8Jv0wPt5\" \n",
    "client_secret = \"QEctC2tbME\" \n",
    "url = \"https://openapi.naver.com/v1/papago/n2mt\"\n",
    "\n",
    "enc_text = \"Suddenly I'm not half the man I used to be.\"\n",
    "req_param = {\n",
    "    'source':'en',\n",
    "    'target':'ko',\n",
    "    'text':enc_text\n",
    "}\n",
    "req_header = {\n",
    "    'X-Naver-Client-Id':client_id,\n",
    "    'X-Naver-Client-Secret':client_secret\n",
    "}\n",
    "req_header"
   ]
  },
  {
   "cell_type": "code",
   "execution_count": null,
   "id": "69b64ddc-28b8-426e-b83e-d8457c82511a",
   "metadata": {},
   "outputs": [],
   "source": []
  }
 ],
 "metadata": {
  "kernelspec": {
   "display_name": "Python 3",
   "language": "python",
   "name": "python3"
  },
  "language_info": {
   "codemirror_mode": {
    "name": "ipython",
    "version": 3
   },
   "file_extension": ".py",
   "mimetype": "text/x-python",
   "name": "python",
   "nbconvert_exporter": "python",
   "pygments_lexer": "ipython3",
   "version": "3.8.8"
  }
 },
 "nbformat": 4,
 "nbformat_minor": 5
}
