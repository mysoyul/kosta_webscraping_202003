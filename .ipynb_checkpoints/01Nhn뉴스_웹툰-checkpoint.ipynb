{
 "cells": [
  {
   "cell_type": "markdown",
   "id": "1f0235c4-11d1-4e7b-bbce-23b4564514d6",
   "metadata": {},
   "source": [
    "## 뉴스 제목 가져오기\n"
   ]
  },
  {
   "cell_type": "code",
   "execution_count": 33,
   "id": "fb05970c-71e9-49f4-a325-12e5650f965e",
   "metadata": {},
   "outputs": [],
   "source": [
    "import requests\n",
    "import bs4\n",
    "from bs4 import BeautifulSoup\n",
    "from urllib.parse import urljoin"
   ]
  },
  {
   "cell_type": "code",
   "execution_count": 3,
   "id": "ab033982-cae0-4206-adee-bc5220ae7dde",
   "metadata": {},
   "outputs": [
    {
     "name": "stdout",
     "output_type": "stream",
     "text": [
      "Name: requests\n",
      "Version: 2.25.1\n",
      "Summary: Python HTTP for Humans.\n",
      "Home-page: https://requests.readthedocs.io\n",
      "Author: Kenneth Reitz\n",
      "Author-email: me@kennethreitz.org\n",
      "License: Apache 2.0\n",
      "Location: c:\\users\\vega2\\anaconda3\\lib\\site-packages\n",
      "Requires: certifi, idna, chardet, urllib3\n",
      "Required-by: Sphinx, jupyterlab-server, conda, conda-repo-cli, conda-build, anaconda-project, anaconda-client\n"
     ]
    }
   ],
   "source": [
    "!pip show requests"
   ]
  },
  {
   "cell_type": "code",
   "execution_count": 4,
   "id": "d1cecfc4-8d3a-4c54-9ae1-1e3af69d7b3a",
   "metadata": {},
   "outputs": [],
   "source": [
    "#! pip install --upgrade requests"
   ]
  },
  {
   "cell_type": "code",
   "execution_count": 5,
   "id": "d8e9da4c-f3ff-42e6-a9ec-ecb21c6fc68e",
   "metadata": {},
   "outputs": [
    {
     "name": "stdout",
     "output_type": "stream",
     "text": [
      "requests version 2.25.1\n"
     ]
    }
   ],
   "source": [
    "print('requests version' , requests.__version__ )"
   ]
  },
  {
   "cell_type": "code",
   "execution_count": 10,
   "id": "a62c8820-0318-456e-a1c2-637c383299a8",
   "metadata": {},
   "outputs": [
    {
     "name": "stdout",
     "output_type": "stream",
     "text": [
      "bs4 version 4.9.3\n"
     ]
    }
   ],
   "source": [
    "print('bs4 version', bs4.__version__)"
   ]
  },
  {
   "cell_type": "code",
   "execution_count": 34,
   "id": "05d07f32-968c-48af-b3a7-3b6fb13594cb",
   "metadata": {},
   "outputs": [
    {
     "name": "stdout",
     "output_type": "stream",
     "text": [
      "True\n",
      "200\n",
      "쉐보레 첫 전기 SUV '볼트 EUV' 본격 마케팅…이제훈·이동휘 광고 https://news.naver.com/main/read.naver?mode=LSD&mid=shm&sid1=103&oid=001&aid=0013048735\n",
      "쉐보레, 이제훈·이동휘 출연 '볼트 EUV' TV 광고 공개 https://news.naver.com/main/read.naver?mode=LSD&mid=shm&sid1=103&oid=629&aid=0000137423\n",
      "“이제훈·이동휘의 EV 라이프”…쉐보레, '볼트EUV' TV 광고 공개 https://news.naver.com/main/read.naver?mode=LSD&mid=shm&sid1=103&oid=009&aid=0004934028\n",
      "쉐보레, 배우 이제훈‧이동휘와 '볼트EUV' 마케팅 본격화 https://news.naver.com/main/read.naver?mode=LSD&mid=shm&sid1=103&oid=119&aid=0002584705\n",
      "이정재, 美크리틱스초이스 남우주연상… “오마이갓, 땡큐 갓” https://news.naver.com/main/read.naver?mode=LSD&mid=shm&sid1=103&oid=023&aid=0003678551\n",
      "'오징어 게임', 美 크리틱스초이스 2관왕...외국어시리즈·남우주연상 https://news.naver.com/main/read.naver?mode=LSD&mid=shm&sid1=103&oid=052&aid=0001713355\n",
      "‘오징어 게임’ 이정재, 美 크리틱스초이스 남우주연상 수상 https://news.naver.com/main/read.naver?mode=LSD&mid=shm&sid1=103&oid=366&aid=0000799427\n",
      "'오징어 게임' 美 크리틱스 초이스 어워즈 외국어드라마상 https://news.naver.com/main/read.naver?mode=LSD&mid=shm&sid1=103&oid=079&aid=0003620002\n",
      "아우디폭스바겐코리아, 인사관리 전문가 오경아 신임 부사장 선임 https://news.naver.com/main/read.naver?mode=LSD&mid=shm&sid1=103&oid=009&aid=0004934038\n",
      "아우디폭스바겐코리아, 산불 피해 지역에 1억4000만원 쾌척 https://news.naver.com/main/read.naver?mode=LSD&mid=shm&sid1=103&oid=016&aid=0001963428\n",
      "벤츠, 서울 강남에 '신사 서비스센터' 신규 개점 https://news.naver.com/main/read.naver?mode=LSD&mid=shm&sid1=103&oid=014&aid=0004802547\n",
      "'하루 40대 이상 수리'…벤츠, 신사서비스센터 오픈 https://news.naver.com/main/read.naver?mode=LSD&mid=shm&sid1=103&oid=092&aid=0002250341\n",
      "띄어앉기 해제에 관객불안 해소한다…공연장 방역안전지킴이 440명 배치 https://news.naver.com/main/read.naver?mode=LSD&mid=shm&sid1=103&oid=421&aid=0005966753\n",
      "문체부, 공연장 방역안전지킴이 440명 배치 지원 https://news.naver.com/main/read.naver?mode=LSD&mid=shm&sid1=103&oid=003&aid=0011060127\n",
      "국립현대미술관,  ‘올해의 작가상 2021’ 수상자에 최찬숙 https://news.naver.com/main/read.naver?mode=LSD&mid=shm&sid1=103&oid=016&aid=0001963111\n",
      "올해의 작가상 2021 최찬숙 작가 수상 https://news.naver.com/main/read.naver?mode=LSD&mid=shm&sid1=103&oid=082&aid=0001145745\n",
      "[우리말 바루기] ‘개나리봇짐’은 맞는 말일까? https://news.naver.com/main/read.naver?mode=LSD&mid=shm&sid1=103&oid=025&aid=0003179836\n",
      "[우리말 바루기] 플래그십 스토어 https://news.naver.com/main/read.naver?mode=LSD&mid=shm&sid1=103&oid=025&aid=0003179076\n",
      "[우리말 바루기] 산 넘어 오솔길? 산 너머 오솔길? https://news.naver.com/main/read.naver?mode=LSD&mid=shm&sid1=103&oid=025&aid=0003178250\n",
      "[우리말 바루기] 자기 ‘계발’과 능력 ‘개발’ https://news.naver.com/main/read.naver?mode=LSD&mid=shm&sid1=103&oid=025&aid=0003177484\n",
      "\"주행거리 걱정했는데…\" 미니 첫 전기차 '반전' [신차털기] https://news.naver.com/main/read.naver?mode=LSD&mid=shm&sid1=103&oid=015&aid=0004673489\n",
      "괴물 같은 덩치에 승차감은 세단…레인지로버 스포츠 SVR [신차털기] https://news.naver.com/main/read.naver?mode=LSD&mid=shm&sid1=103&oid=015&aid=0004670930\n",
      "보조금 100% 나오는데 700만원 더 싸졌다…볼트 EV 타보니 [신차털기] https://news.naver.com/main/read.naver?mode=LSD&mid=shm&sid1=103&oid=015&aid=0004668385\n",
      "\"지금 계약해도 1년 걸린다\"…벤츠 EQA, 돌풍 이유 있네 [신차털기] https://news.naver.com/main/read.naver?mode=LSD&mid=shm&sid1=103&oid=015&aid=0004665515\n",
      "동영상기사 https://news.naver.com/main/ranking/read.naver?mode=LSD&mid=shm&sid1=001&oid=422&aid=0000532427&rankingType=RANKING\n",
      "문대통령 '안희정 근조화환'에…\"이러니 내로남불\" 쓴소리 https://news.naver.com/main/ranking/read.naver?mode=LSD&mid=shm&sid1=001&oid=422&aid=0000532427&rankingType=RANKING\n",
      "“새 대통령 우리 사정 알려나?” “경제가 맘대로 되는 게 … https://news.naver.com/main/ranking/read.naver?mode=LSD&mid=shm&sid1=001&oid=028&aid=0002582685&rankingType=RANKING\n",
      "\"이근 살아있나\"…외국인 용병 180명 전사소식 나왔다 https://news.naver.com/main/ranking/read.naver?mode=LSD&mid=shm&sid1=001&oid=011&aid=0004029196&rankingType=RANKING\n",
      "\"유니클로 반드시 잡겠다\" 결심했던 토종브랜드…10년만에  … https://news.naver.com/main/ranking/read.naver?mode=LSD&mid=shm&sid1=001&oid=009&aid=0004933850&rankingType=RANKING\n",
      "뇌졸중 생방 중  쓰러졌다… ‘무엇이든 물어보세요’ 패널  … https://news.naver.com/main/ranking/read.naver?mode=LSD&mid=shm&sid1=001&oid=023&aid=0003678547&rankingType=RANKING\n",
      "의대 교수 돌연 의식잃고 '꽈당'…KBS 아침 생방 중 긴 … https://news.naver.com/main/ranking/read.naver?mode=LSD&mid=shm&sid1=001&oid=025&aid=0003179948&rankingType=RANKING\n",
      "동영상기사 https://news.naver.com/main/ranking/read.naver?mode=LSD&mid=shm&sid1=001&oid=449&aid=0000223811&rankingType=RANKING\n",
      "윤석열 당선인 집무실 첫 출근…安과 차담회 https://news.naver.com/main/ranking/read.naver?mode=LSD&mid=shm&sid1=001&oid=449&aid=0000223811&rankingType=RANKING\n",
      "동영상기사 https://news.naver.com/main/ranking/read.naver?mode=LSD&mid=shm&sid1=001&oid=052&aid=0001713296&rankingType=RANKING\n",
      "한계 넘어선 PCR 검사량...오늘부터 병·의원 신속검사  … https://news.naver.com/main/ranking/read.naver?mode=LSD&mid=shm&sid1=001&oid=052&aid=0001713296&rankingType=RANKING\n",
      "우크라 간 이근 사망설…외교부 \"예정대로 여권무효화 조치\" https://news.naver.com/main/ranking/read.naver?mode=LSD&mid=shm&sid1=001&oid=437&aid=0000292357&rankingType=RANKING\n",
      "밥상머리에서도 욕 먹었다…공부 지옥에 빠진 조선의 왕세자들 … https://news.naver.com/main/ranking/read.naver?mode=LSD&mid=shm&sid1=001&oid=032&aid=0003133983&rankingType=RANKING\n",
      "동영상기사 https://news.naver.com/main/ranking/read.naver?mode=LSD&mid=shm&sid1=001&oid=057&aid=0001648737&rankingType=RANKING\n",
      "코로나19 자가격리 직장인들 \"연차 휴가 사라지고, 월급  … https://news.naver.com/main/ranking/read.naver?mode=LSD&mid=shm&sid1=001&oid=057&aid=0001648737&rankingType=RANKING\n",
      "‘우크라 체류’ 이근, 현재 어디에 있고 무슨 활동하나 https://news.naver.com/main/ranking/read.naver?mode=LSD&mid=shm&sid1=001&oid=081&aid=0003257953&rankingType=RANKING\n",
      "“치킨 한 마리 5000원” 짜증나는 배달비 더 비싸진다? https://news.naver.com/main/ranking/read.naver?mode=LSD&mid=shm&sid1=001&oid=016&aid=0001963049&rankingType=RANKING\n",
      "\"얼마나 쏴 댔으면\"…러시아 포격 불꽃, 위성에서도 보인다 … https://news.naver.com/main/ranking/read.naver?mode=LSD&mid=shm&sid1=001&oid=277&aid=0005057472&rankingType=RANKING\n",
      "진중권 \"유시민 정리해야\" 유시민 \"개가 공자 보고 짖어\" https://news.naver.com/main/ranking/read.naver?mode=LSD&mid=shm&sid1=001&oid=055&aid=0000960001&rankingType=RANKING\n",
      "\"BTS의 종말이 다가온다\"…해외서도 뜨거운 병역 문제 [ … https://news.naver.com/main/ranking/read.naver?mode=LSD&mid=shm&sid1=001&oid=015&aid=0004673577&rankingType=RANKING\n",
      "\"오마이갓!\" 이정재 호명에 깜짝…美크리틱스초이스 남우주연 … https://news.naver.com/main/ranking/read.naver?mode=LSD&mid=shm&sid1=001&oid=008&aid=0004719415&rankingType=RANKING\n",
      "푸틴의 우크라 침공 진짜 의도는 따로 있다 https://news.naver.com/main/ranking/read.naver?mode=LSD&mid=shm&sid1=001&oid=586&aid=0000036004&rankingType=RANKING\n",
      "원희룡 \"'김부겸 총리 유임' 멋진 생각, 정치보복 소리  … https://news.naver.com/main/ranking/read.naver?mode=LSD&mid=shm&sid1=001&oid=421&aid=0005966476&rankingType=RANKING\n",
      "[우크라 침공] \"전쟁통에 대리모가 낳은 신생아 19명 지 … https://news.naver.com/main/ranking/read.naver?mode=LSD&mid=shm&sid1=001&oid=001&aid=0013048485&rankingType=RANKING\n",
      "동영상기사 https://news.naver.com/main/ranking/read.naver?mode=LSD&mid=shm&sid1=001&oid=056&aid=0011228463&rankingType=RANKING\n",
      "러시아, 폴란드 접경 우크라이나 서부 공격…서방 “러시아  … https://news.naver.com/main/ranking/read.naver?mode=LSD&mid=shm&sid1=001&oid=056&aid=0011228463&rankingType=RANKING\n",
      "지방선거 D-79, 이준석 vs 이재명 대결로 가나 https://news.naver.com/main/ranking/read.naver?mode=LSD&mid=shm&sid1=001&oid=053&aid=0000030789&rankingType=RANKING\n",
      "윤석열표 '청년1억통장' 왜 열광하나..월 70만원 저축하 … https://news.naver.com/main/ranking/read.naver?mode=LSD&mid=shm&sid1=001&oid=014&aid=0004802330&rankingType=RANKING\n",
      "윤석열·안철수 ‘즉시 합당’ 밝혔지만…지방선거 공천권 ‘갈 … https://news.naver.com/main/ranking/read.naver?mode=LSD&mid=shm&sid1=001&oid=020&aid=0003416201&rankingType=RANKING\n",
      "코로나 신규확진 30만9790명… 사망 200명, 위중증  … https://news.naver.com/main/ranking/read.naver?mode=LSD&mid=shm&sid1=001&oid=366&aid=0000799387&rankingType=RANKING\n",
      "'대만 언론'이 김건희 외모 극찬? 해당 기사 찾아봤더니. … https://news.naver.com/main/ranking/read.naver?mode=LSD&mid=shm&sid1=001&oid=047&aid=0002345695&rankingType=RANKING\n",
      "“어리석은 대중의 잘못된 선택”…문희정, 윤석열-보우소나루 … https://news.naver.com/main/ranking/read.naver?mode=LSD&mid=shm&sid1=001&oid=029&aid=0002724458&rankingType=RANKING\n",
      "조성은 “이재명이라서 지지… 민주당이 한 것이 뭐냐” https://news.naver.com/main/ranking/read.naver?mode=LSD&mid=shm&sid1=001&oid=022&aid=0003675674&rankingType=RANKING\n",
      "이준석 \"지방선거 압도적 승리로 윤석열 정부 뒷받침해야\" https://news.naver.com/main/ranking/read.naver?mode=LSD&mid=shm&sid1=001&oid=003&aid=0011060100&rankingType=RANKING\n",
      "동영상기사 https://news.naver.com/main/ranking/read.naver?mode=LSD&mid=shm&sid1=001&oid=214&aid=0001184159&rankingType=RANKING\n",
      "[영상M] 일산 식사동 빌라에서 불‥뿌연 연기가 동네 전체 … https://news.naver.com/main/ranking/read.naver?mode=LSD&mid=shm&sid1=001&oid=214&aid=0001184159&rankingType=RANKING\n",
      "“오미크론 걸렸던 분∼”…‘슈퍼면역’ 간병인 찾는 보호자들 https://news.naver.com/main/ranking/read.naver?mode=LSD&mid=shm&sid1=001&oid=005&aid=0001511714&rankingType=RANKING\n",
      "상장후 첫 30만원대 '신저가'...고민 빠진 동학개미 https://news.naver.com/main/ranking/read.naver?mode=LSD&mid=shm&sid1=001&oid=215&aid=0001019500&rankingType=RANKING\n",
      "생방송 중 \"쿵\" 쓰러진 의사...KBS '무엇이든 물어보 … https://news.naver.com/main/ranking/read.naver?mode=LSD&mid=shm&sid1=001&oid=469&aid=0000663310&rankingType=RANKING\n",
      "\"이근 살아있나\"…우크라 외국용병 180명 전사 소식 전해 … https://news.naver.com/main/ranking/read.naver?mode=LSD&mid=shm&sid1=001&oid=018&aid=0005166087&rankingType=RANKING\n",
      "윤호중 \"대장동 특검, 민주당 안 논의\"…김기현 \"꼼수,  … https://news.naver.com/main/ranking/read.naver?mode=LSD&mid=shm&sid1=001&oid=448&aid=0000353807&rankingType=RANKING\n",
      "“모든 국정, 국민통합 위한 것”… 과기부총리 추진 https://news.naver.com/main/ranking/read.naver?mode=LSD&mid=shm&sid1=001&oid=021&aid=0002506183&rankingType=RANKING\n",
      "최수연 네이버 대표 취임...\"글로벌 톱 인터넷기업 도약\" https://news.naver.com/main/ranking/read.naver?mode=LSD&mid=shm&sid1=001&oid=092&aid=0002250314&rankingType=RANKING\n",
      "현대산업개발 아파트 붕괴.. \"동바리 제거가 가장 큰 실수 … https://news.naver.com/main/ranking/read.naver?mode=LSD&mid=shm&sid1=001&oid=079&aid=0003620105&rankingType=RANKING\n",
      "종군기자가 밝힌 근황 \"이근, 국제군단 특수부대 최전선에서 … https://news.naver.com/main/ranking/read.naver?mode=LSD&mid=shm&sid1=001&oid=119&aid=0002584817&rankingType=RANKING\n",
      "진중권 \"유시민·김어준 정리해야\" 유시민 \"개가 공자 보고 … https://news.naver.com/main/ranking/read.naver?mode=LSD&mid=shm&sid1=001&oid=082&aid=0001145735&rankingType=RANKING\n",
      "'입단속' 나선 이준석, '여가부 격상' 주장에 \"윤석열  … https://news.naver.com/main/ranking/read.naver?mode=LSD&mid=shm&sid1=001&oid=002&aid=0002234418&rankingType=RANKING\n",
      "출구조사 엠바고 깬 MBN에 지상파 3사 \"대응 검토\" https://news.naver.com/main/ranking/read.naver?mode=LSD&mid=shm&sid1=001&oid=006&aid=0000112282&rankingType=RANKING\n",
      "동영상기사 https://news.naver.com/main/ranking/read.naver?mode=LSD&mid=shm&sid1=001&oid=374&aid=0000278458&rankingType=RANKING\n",
      "오늘부터 확진자 바로 약국으로…가족 확진돼도 ‘등교’ https://news.naver.com/main/ranking/read.naver?mode=LSD&mid=shm&sid1=001&oid=374&aid=0000278458&rankingType=RANKING\n",
      "文 30%룰 폐기…최고실력자 배치 https://news.naver.com/main/ranking/read.naver?mode=LSD&mid=shm&sid1=001&oid=030&aid=0003003470&rankingType=RANKING\n",
      "‘초격차’ 드라이브 거는 삼성SDI, ‘꿈의 배터리’ 파일 … https://news.naver.com/main/ranking/read.naver?mode=LSD&mid=shm&sid1=001&oid=050&aid=0000060143&rankingType=RANKING\n",
      "[넷플릭스 2022]④'내사모남 스핀오프', 한국 올로케… … https://news.naver.com/main/ranking/read.naver?mode=LSD&mid=shm&sid1=001&oid=293&aid=0000038339&rankingType=RANKING\n",
      "외교부, 이근 '사망설'에 \"우리 국민 피해 접수 없어\" https://news.naver.com/main/ranking/read.naver?mode=LSD&mid=shm&sid1=001&oid=088&aid=0000749071&rankingType=RANKING\n",
      "윤석열 당선인 \"공수처 권한 대폭 손질\"…폐지보단 정상화 https://news.naver.com/main/ranking/read.naver?mode=LSD&mid=shm&sid1=001&oid=087&aid=0000886511&rankingType=RANKING\n",
      "‘윤석열 시대’ 검찰은 어디로 가나 https://news.naver.com/main/ranking/read.naver?mode=LSD&mid=shm&sid1=001&oid=036&aid=0000046184&rankingType=RANKING\n",
      "'우크라行' 이근 사망설, \"최전선에서 진짜 전투 중\" https://news.naver.com/main/ranking/read.naver?mode=LSD&mid=shm&sid1=001&oid=031&aid=0000659174&rankingType=RANKING\n",
      "네이버 주가, 최수연 신임 대표 “안타깝다” 글로벌R … https://news.naver.com/main/ranking/read.naver?mode=LSD&mid=shm&sid1=001&oid=138&aid=0002120579&rankingType=RANKING\n",
      "Kakao Entertainment aims for nex … https://news.naver.com/main/ranking/read.naver?mode=LSD&mid=shm&sid1=001&oid=044&aid=0000235242&rankingType=RANKING\n",
      "Yoon appoints Ahn as transition  … https://news.naver.com/main/ranking/read.naver?mode=LSD&mid=shm&sid1=001&oid=640&aid=0000022163&rankingType=RANKING\n",
      "美 전기차 약세에 2차 전지 소재주 급락…에코프로비엠 6. … https://news.naver.com/main/ranking/read.naver?mode=LSD&mid=shm&sid1=001&oid=024&aid=0000073750&rankingType=RANKING\n",
      "[속보] 카카오 창업주 김범수, 이사회 의장 사임 https://news.naver.com/main/ranking/read.naver?mode=LSD&mid=shm&sid1=001&oid=629&aid=0000137425&rankingType=RANKING\n",
      "한국인 10명 중 4명 앓는 '이 병'… 포화지방이 주원인 … https://news.naver.com/main/ranking/read.naver?mode=LSD&mid=shm&sid1=001&oid=346&aid=0000048968&rankingType=RANKING\n",
      "대(對)러시아 봉쇄전략 미국 마음대로 될까? https://news.naver.com/main/ranking/read.naver?mode=LSD&mid=shm&sid1=001&oid=308&aid=0000030549&rankingType=RANKING\n",
      "“러 군용기 21대 격추” 우크라이나의 버팀목 된 MiG- … https://news.naver.com/main/ranking/read.naver?mode=LSD&mid=shm&sid1=001&oid=037&aid=0000030518&rankingType=RANKING\n",
      "[변화] 김형준-박수종 뇌물 혐의 기소... 공수처 1호  … https://news.naver.com/main/ranking/read.naver?mode=LSD&mid=shm&sid1=001&oid=607&aid=0000001027&rankingType=RANKING\n",
      "주가 부진에도 목표가 상향…‘십만전자’ ‘LG엔솔 50만원 … https://news.naver.com/main/ranking/read.naver?mode=LSD&mid=shm&sid1=001&oid=243&aid=0000024075&rankingType=RANKING\n",
      "러시아군, 우크라 민간인 촬영하던 미국 '언론인' 사살 https://news.naver.com/main/ranking/read.naver?mode=LSD&mid=shm&sid1=001&oid=123&aid=0002269327&rankingType=RANKING\n",
      "목감기-오미크론 함께 예방하는 방법 5 https://news.naver.com/main/ranking/read.naver?mode=LSD&mid=shm&sid1=001&oid=296&aid=0000054775&rankingType=RANKING\n",
      "지식인집단과 과학적 사회[김우재의 플라이룸](21) https://news.naver.com/main/ranking/read.naver?mode=LSD&mid=shm&sid1=001&oid=033&aid=0000043786&rankingType=RANKING\n",
      "한 달 한 번만 먹어도 되는 최고 효율 알약 나온다 https://news.naver.com/main/ranking/read.naver?mode=LSD&mid=shm&sid1=001&oid=584&aid=0000018154&rankingType=RANKING\n",
      "\"외국 용병 180명 제거\"… 러시아 주장에 이근 전 대위 … https://news.naver.com/main/ranking/read.naver?mode=LSD&mid=shm&sid1=001&oid=417&aid=0000793796&rankingType=RANKING\n",
      "물탄 콘크리트?…광주 아이파크, 붕괴 원인도 처참했다 https://news.naver.com/main/ranking/read.naver?mode=LSD&mid=shm&sid1=001&oid=648&aid=0000006816&rankingType=RANKING\n",
      "\"지금까지 이런 '매운맛' 대선은 없었다\" https://news.naver.com/main/ranking/read.naver?mode=LSD&mid=shm&sid1=001&oid=127&aid=0000032354&rankingType=RANKING\n",
      "[나의 엄마 이야기] 엄마의 그 한마디 \"좀 기다려 봐라\" https://news.naver.com/main/ranking/read.naver?mode=LSD&mid=shm&sid1=001&oid=310&aid=0000094703&rankingType=RANKING\n",
      "“메타버스에 자리 많아요, 얼른 탑승하세요” https://news.naver.com/main/ranking/read.naver?mode=LSD&mid=shm&sid1=001&oid=262&aid=0000015278&rankingType=RANKING\n",
      "[유튜버 박영준] \"중국보다 비싸고, 유럽보다 안 예뻐.. … https://news.naver.com/main/ranking/read.naver?mode=LSD&mid=shm&sid1=001&oid=094&aid=0000009836&rankingType=RANKING\n",
      "딸들에게 “예뻐져야 해” 대신 자아를 탐구하라는 격려를 https://news.naver.com/main/ranking/read.naver?mode=LSD&mid=shm&sid1=001&oid=007&aid=0000007041&rankingType=RANKING\n",
      "[속보]尹 \"국민통합위원장 김한길, 지역균형특위장 김병준\" https://news.naver.com/main/ranking/read.naver?mode=LSD&mid=shm&sid1=001&oid=656&aid=0000005318&rankingType=RANKING\n",
      "3월 말부터 5~11세 소아 백신 접종 시작 https://news.naver.com/main/ranking/read.naver?mode=LSD&mid=shm&sid1=001&oid=657&aid=0000001350&rankingType=RANKING\n",
      "제주 코로나19 신규 확진자 4,827명 https://news.naver.com/main/ranking/read.naver?mode=LSD&mid=shm&sid1=001&oid=661&aid=0000003463&rankingType=RANKING\n",
      "부산 유료도로 연속통행 할인 내일부터 시행된다 https://news.naver.com/main/ranking/read.naver?mode=LSD&mid=shm&sid1=001&oid=658&aid=0000004279&rankingType=RANKING\n",
      "동영상기사 https://news.naver.com/main/ranking/read.naver?mode=LSD&mid=shm&sid1=001&oid=660&aid=0000003483&rankingType=RANKING\n",
      "[영상]'광주 아파트 붕괴' 원칙 무시·불량 콘크리트가 원 … https://news.naver.com/main/ranking/read.naver?mode=LSD&mid=shm&sid1=001&oid=660&aid=0000003483&rankingType=RANKING\n",
      "민주당 아성 청주 흥덕이 뒤집어졌다 https://news.naver.com/main/ranking/read.naver?mode=LSD&mid=shm&sid1=001&oid=655&aid=0000000909&rankingType=RANKING\n",
      "강원 역전세 넘어 깡통전세 현상 심화…강릉 6500만원까지 … https://news.naver.com/main/ranking/read.naver?mode=LSD&mid=shm&sid1=001&oid=654&aid=0000005015&rankingType=RANKING\n",
      "전북 지역 낮 기온 14~18도 분포.. 밤부터 5mm ' … https://news.naver.com/main/ranking/read.naver?mode=LSD&mid=shm&sid1=001&oid=659&aid=0000001187&rankingType=RANKING\n",
      "고유가에 원화 가치 추락 겹쳐, 스태그플레이션 진입 단계 https://news.naver.com/main/ranking/read.naver?mode=LSD&mid=shm&sid1=001&oid=353&aid=0000041801&rankingType=RANKING\n",
      "민주당 아성 청주 흥덕이 뒤집어졌다 https://news.naver.com/main/ranking/read.naver?mode=LSD&mid=shm&sid1=001&oid=655&aid=0000000909&rankingType=RANKING\n",
      "강원 역전세 넘어 깡통전세 현상 심화…강릉 6500만원까지 … https://news.naver.com/main/ranking/read.naver?mode=LSD&mid=shm&sid1=001&oid=654&aid=0000005015&rankingType=RANKING\n",
      "전북 지역 낮 기온 14~18도 분포.. 밤부터 5mm ' … https://news.naver.com/main/ranking/read.naver?mode=LSD&mid=shm&sid1=001&oid=659&aid=0000001187&rankingType=RANKING\n",
      "고유가에 원화 가치 추락 겹쳐, 스태그플레이션 진입 단계 https://news.naver.com/main/ranking/read.naver?mode=LSD&mid=shm&sid1=001&oid=353&aid=0000041801&rankingType=RANKING\n",
      "[임성용의 보약밥상] 당뇨·동맥경화 등 성인병 예방에 좋은 … https://news.naver.com/main/ranking/read.naver?mode=LSD&mid=shm&sid1=001&oid=145&aid=0000015895&rankingType=RANKING\n",
      "인수위 국민통합위원장 김한길, 지역균형발전위원장 김병준[영상] https://news.naver.com/main/read.naver?mode=LSD&mid=shm&sid1=100&oid=079&aid=0003620123\n",
      "尹 당선인 \"민정수석실 폐지…국민 신상털기·뒷조사 청산\"(종합) https://news.naver.com/main/read.naver?mode=LSD&mid=shm&sid1=100&oid=003&aid=0011060860\n",
      "박지현의 일성 \"뼈 깎는 쇄신, 성비위 무관용\" https://news.naver.com/main/read.naver?mode=LSD&mid=shm&sid1=100&oid=047&aid=0002345737\n",
      "\"무기 떨어진 러시아, 중국에 군사 장비 지원 요청\" https://news.naver.com/main/read.naver?mode=LSD&mid=shm&sid1=104&oid=437&aid=0000292351\n",
      "\"이근 살아있나\"…우크라 외국용병 180명 전사 소식 전해졌다 https://news.naver.com/main/read.naver?mode=LSD&mid=shm&sid1=104&oid=018&aid=0005166087\n",
      "광주 아파트 붕괴 사고는 인재…\"무단 구조변경, 부실 콘크리트 등 총체적 관리부실\" https://news.naver.com/main/read.naver?mode=LSD&mid=shm&sid1=101&oid=437&aid=0000292362\n",
      "韓 '꿈의 배터리' 개발 속도…삼성 '파일럿 라인' 포스코 '소재 합작사' https://news.naver.com/main/read.naver?mode=LSD&mid=shm&sid1=101&oid=008&aid=0004719458\n",
      "한미 FTA 10년…대미 무역 66% 늘고 10년째 무역흑자 유지 https://news.naver.com/main/read.naver?mode=LSD&mid=shm&sid1=101&oid=001&aid=0013049201\n",
      "최수연 네이버 대표 \"라인·제페토 능가하는 글로벌 브랜드 내놓겠다\"(종합) https://news.naver.com/main/read.naver?mode=LSD&mid=shm&sid1=105&oid=003&aid=0011060678\n",
      "김범수, 카카오 의장직 사임... '글로벌 진출' 위해 경영 전면 등판 https://news.naver.com/main/read.naver?mode=LSD&mid=shm&sid1=105&oid=469&aid=0000663318\n",
      "5~11세 이달 31일부터 코로나19 백신접종 https://news.naver.com/main/read.naver?mode=LSD&mid=shm&sid1=102&oid=366&aid=0000799474\n",
      "오늘부터 확진자 바로 약국으로…가족 확진돼도 ‘등교’ https://news.naver.com/main/read.naver?mode=LSD&mid=shm&sid1=102&oid=374&aid=0000278458\n",
      "직접 흡연으로 하루 159명 사망…사회경제적 비용 12조원에 달해 https://news.naver.com/main/read.naver?mode=LSD&mid=shm&sid1=102&oid=001&aid=0013049454\n",
      "[속보] '오징어 게임' 이정재, 美 크리틱스초이스 남우주연상 수상 https://news.naver.com/main/read.naver?mode=LSD&mid=shm&sid1=103&oid=025&aid=0003179932\n",
      "아우디폭스바겐코리아, 산불 피해 복구 위해 1억4000만원 기부 https://news.naver.com/main/read.naver?mode=LSD&mid=shm&sid1=103&oid=009&aid=0004934157\n"
     ]
    }
   ],
   "source": [
    "# 생활/문화 뉴스\n",
    "url = 'https://news.naver.com/main/main.naver?mode=LSD&mid=shm&sid1=103'\n",
    "# 요청 헤더 : 브라우저 정보 \n",
    "req_header = {\n",
    "    'user-agent':'Mozilla/5.0 (Windows NT 10.0; Win64; x64) AppleWebKit/537.36 (KHTML, like Gecko) Chrome/99.0.4844.51 Safari/537.36'\n",
    "}\n",
    "\n",
    "res = requests.get(url, headers=req_header)\n",
    "print(res.ok) # 200\n",
    "print(res.status_code)\n",
    "#print(type(res))\n",
    "if res.ok:\n",
    "    # 소스보기에서 보여지는 텍스트\n",
    "    html = res.text\n",
    "    # parser 역힐을 하는 BeautifulSoup 객체 생성\n",
    "    soup = BeautifulSoup(html, 'html.parser')\n",
    "    #print(len(soup.select(\"a[href*='read.naver']\")))\n",
    "    # a 태그를 찾는데 href 속성에 값에 read.naver 문자열이 부분적으로 매칭되는 a tag\n",
    "    atag_list = soup.select(\"a[href*='read.naver']\")\n",
    "    for atag in atag_list:\n",
    "        #print(type(atag), atag)\n",
    "        title = atag.text.strip()\n",
    "        if title:\n",
    "            href = urljoin(url, atag['href'])\n",
    "            print(title, href)\n",
    "else:\n",
    "    print('Error 발생 : ', res.status_code)"
   ]
  },
  {
   "cell_type": "code",
   "execution_count": null,
   "id": "2113d14a-4db7-4108-aeee-e97d4652a99b",
   "metadata": {},
   "outputs": [],
   "source": []
  },
  {
   "cell_type": "code",
   "execution_count": null,
   "id": "24b3df2c-5ab8-4a49-806e-4dc022fe3e35",
   "metadata": {},
   "outputs": [],
   "source": []
  }
 ],
 "metadata": {
  "kernelspec": {
   "display_name": "Python 3",
   "language": "python",
   "name": "python3"
  },
  "language_info": {
   "codemirror_mode": {
    "name": "ipython",
    "version": 3
   },
   "file_extension": ".py",
   "mimetype": "text/x-python",
   "name": "python",
   "nbconvert_exporter": "python",
   "pygments_lexer": "ipython3",
   "version": "3.8.8"
  }
 },
 "nbformat": 4,
 "nbformat_minor": 5
}
