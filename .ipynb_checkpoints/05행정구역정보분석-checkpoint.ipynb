{
 "cells": [
  {
   "cell_type": "markdown",
   "id": "4cd4226c-21e5-45e1-a98a-3c1c4025a55f",
   "metadata": {},
   "source": [
    "#### 행정구역 정보 읽고, 분석하기\n",
    "1. read_csv() 함수로 csv file 읽기\n",
    "2. loc 과 iloc를 사용해서 특정행과 열을 선택하기\n",
    "3. 컬럼명 변경하기\n",
    "4. 상관관계 분석 (인구수와 면적간의 상관관계)\n",
    "5. 시각화"
   ]
  },
  {
   "cell_type": "code",
   "execution_count": 1,
   "id": "85356de6-dda0-484c-b4dd-5d1e5482fc3d",
   "metadata": {},
   "outputs": [
    {
     "name": "stdout",
     "output_type": "stream",
     "text": [
      "1.2.4\n"
     ]
    }
   ],
   "source": [
    "import pandas as pd\n",
    "\n",
    "print(pd.__version__)"
   ]
  },
  {
   "cell_type": "code",
   "execution_count": 2,
   "id": "24c91468-5a43-4c1b-a1c1-1b5c8ba00650",
   "metadata": {},
   "outputs": [
    {
     "name": "stdout",
     "output_type": "stream",
     "text": [
      "<class 'pandas.core.frame.DataFrame'>\n",
      "(229, 8)\n"
     ]
    }
   ],
   "source": [
    "data = pd.read_csv('data/data_draw_korea.csv')\n",
    "print(type(data))\n",
    "print(data.shape)"
   ]
  },
  {
   "cell_type": "code",
   "execution_count": 3,
   "id": "23bde704-c2f2-4f46-a8cc-702595badb18",
   "metadata": {},
   "outputs": [
    {
     "data": {
      "text/html": [
       "<div>\n",
       "<style scoped>\n",
       "    .dataframe tbody tr th:only-of-type {\n",
       "        vertical-align: middle;\n",
       "    }\n",
       "\n",
       "    .dataframe tbody tr th {\n",
       "        vertical-align: top;\n",
       "    }\n",
       "\n",
       "    .dataframe thead th {\n",
       "        text-align: right;\n",
       "    }\n",
       "</style>\n",
       "<table border=\"1\" class=\"dataframe\">\n",
       "  <thead>\n",
       "    <tr style=\"text-align: right;\">\n",
       "      <th></th>\n",
       "      <th>Unnamed: 0</th>\n",
       "      <th>인구수</th>\n",
       "      <th>shortName</th>\n",
       "      <th>x</th>\n",
       "      <th>y</th>\n",
       "      <th>면적</th>\n",
       "      <th>광역시도</th>\n",
       "      <th>행정구역</th>\n",
       "    </tr>\n",
       "  </thead>\n",
       "  <tbody>\n",
       "    <tr>\n",
       "      <th>0</th>\n",
       "      <td>0</td>\n",
       "      <td>202520</td>\n",
       "      <td>강릉</td>\n",
       "      <td>11</td>\n",
       "      <td>4</td>\n",
       "      <td>1040.07</td>\n",
       "      <td>강원도</td>\n",
       "      <td>강릉시</td>\n",
       "    </tr>\n",
       "    <tr>\n",
       "      <th>1</th>\n",
       "      <td>1</td>\n",
       "      <td>25589</td>\n",
       "      <td>고성(강원)</td>\n",
       "      <td>9</td>\n",
       "      <td>0</td>\n",
       "      <td>664.19</td>\n",
       "      <td>강원도</td>\n",
       "      <td>고성군</td>\n",
       "    </tr>\n",
       "    <tr>\n",
       "      <th>2</th>\n",
       "      <td>2</td>\n",
       "      <td>86747</td>\n",
       "      <td>동해</td>\n",
       "      <td>11</td>\n",
       "      <td>5</td>\n",
       "      <td>180.01</td>\n",
       "      <td>강원도</td>\n",
       "      <td>동해시</td>\n",
       "    </tr>\n",
       "  </tbody>\n",
       "</table>\n",
       "</div>"
      ],
      "text/plain": [
       "   Unnamed: 0     인구수 shortName   x  y       면적 광역시도 행정구역\n",
       "0           0  202520        강릉  11  4  1040.07  강원도  강릉시\n",
       "1           1   25589    고성(강원)   9  0   664.19  강원도  고성군\n",
       "2           2   86747        동해  11  5   180.01  강원도  동해시"
      ]
     },
     "execution_count": 3,
     "metadata": {},
     "output_type": "execute_result"
    }
   ],
   "source": [
    "data.head(3)"
   ]
  },
  {
   "cell_type": "code",
   "execution_count": 4,
   "id": "f2b5b656-0666-4063-95c2-3ac166c67a9f",
   "metadata": {},
   "outputs": [
    {
     "data": {
      "text/html": [
       "<div>\n",
       "<style scoped>\n",
       "    .dataframe tbody tr th:only-of-type {\n",
       "        vertical-align: middle;\n",
       "    }\n",
       "\n",
       "    .dataframe tbody tr th {\n",
       "        vertical-align: top;\n",
       "    }\n",
       "\n",
       "    .dataframe thead th {\n",
       "        text-align: right;\n",
       "    }\n",
       "</style>\n",
       "<table border=\"1\" class=\"dataframe\">\n",
       "  <thead>\n",
       "    <tr style=\"text-align: right;\">\n",
       "      <th></th>\n",
       "      <th>Unnamed: 0</th>\n",
       "      <th>인구수</th>\n",
       "      <th>shortName</th>\n",
       "      <th>x</th>\n",
       "      <th>y</th>\n",
       "      <th>면적</th>\n",
       "      <th>광역시도</th>\n",
       "      <th>행정구역</th>\n",
       "    </tr>\n",
       "  </thead>\n",
       "  <tbody>\n",
       "    <tr>\n",
       "      <th>224</th>\n",
       "      <td>224</td>\n",
       "      <td>127462</td>\n",
       "      <td>제천</td>\n",
       "      <td>8</td>\n",
       "      <td>10</td>\n",
       "      <td>882.47</td>\n",
       "      <td>충청북도</td>\n",
       "      <td>제천시</td>\n",
       "    </tr>\n",
       "    <tr>\n",
       "      <th>225</th>\n",
       "      <td>225</td>\n",
       "      <td>34480</td>\n",
       "      <td>증평</td>\n",
       "      <td>6</td>\n",
       "      <td>11</td>\n",
       "      <td>81.84</td>\n",
       "      <td>충청북도</td>\n",
       "      <td>증평군</td>\n",
       "    </tr>\n",
       "    <tr>\n",
       "      <th>226</th>\n",
       "      <td>226</td>\n",
       "      <td>62809</td>\n",
       "      <td>진천</td>\n",
       "      <td>5</td>\n",
       "      <td>11</td>\n",
       "      <td>406.08</td>\n",
       "      <td>충청북도</td>\n",
       "      <td>진천군</td>\n",
       "    </tr>\n",
       "    <tr>\n",
       "      <th>227</th>\n",
       "      <td>227</td>\n",
       "      <td>790216</td>\n",
       "      <td>청주</td>\n",
       "      <td>6</td>\n",
       "      <td>12</td>\n",
       "      <td>932.51</td>\n",
       "      <td>충청북도</td>\n",
       "      <td>청주시</td>\n",
       "    </tr>\n",
       "    <tr>\n",
       "      <th>228</th>\n",
       "      <td>228</td>\n",
       "      <td>198077</td>\n",
       "      <td>충주</td>\n",
       "      <td>6</td>\n",
       "      <td>10</td>\n",
       "      <td>983.70</td>\n",
       "      <td>충청북도</td>\n",
       "      <td>충주시</td>\n",
       "    </tr>\n",
       "  </tbody>\n",
       "</table>\n",
       "</div>"
      ],
      "text/plain": [
       "     Unnamed: 0     인구수 shortName  x   y      면적  광역시도 행정구역\n",
       "224         224  127462        제천  8  10  882.47  충청북도  제천시\n",
       "225         225   34480        증평  6  11   81.84  충청북도  증평군\n",
       "226         226   62809        진천  5  11  406.08  충청북도  진천군\n",
       "227         227  790216        청주  6  12  932.51  충청북도  청주시\n",
       "228         228  198077        충주  6  10  983.70  충청북도  충주시"
      ]
     },
     "execution_count": 4,
     "metadata": {},
     "output_type": "execute_result"
    }
   ],
   "source": [
    "data.tail()"
   ]
  },
  {
   "cell_type": "code",
   "execution_count": 5,
   "id": "b202bfd3-dbfc-4d0c-9756-84f56bc0b1d2",
   "metadata": {},
   "outputs": [
    {
     "data": {
      "text/html": [
       "<div>\n",
       "<style scoped>\n",
       "    .dataframe tbody tr th:only-of-type {\n",
       "        vertical-align: middle;\n",
       "    }\n",
       "\n",
       "    .dataframe tbody tr th {\n",
       "        vertical-align: top;\n",
       "    }\n",
       "\n",
       "    .dataframe thead th {\n",
       "        text-align: right;\n",
       "    }\n",
       "</style>\n",
       "<table border=\"1\" class=\"dataframe\">\n",
       "  <thead>\n",
       "    <tr style=\"text-align: right;\">\n",
       "      <th></th>\n",
       "      <th>Unnamed: 0</th>\n",
       "      <th>인구수</th>\n",
       "      <th>shortName</th>\n",
       "      <th>x</th>\n",
       "      <th>y</th>\n",
       "      <th>면적</th>\n",
       "      <th>광역시도</th>\n",
       "      <th>행정구역</th>\n",
       "    </tr>\n",
       "  </thead>\n",
       "  <tbody>\n",
       "    <tr>\n",
       "      <th>47</th>\n",
       "      <td>47</td>\n",
       "      <td>150061</td>\n",
       "      <td>하남</td>\n",
       "      <td>9</td>\n",
       "      <td>5</td>\n",
       "      <td>93.10</td>\n",
       "      <td>경기도</td>\n",
       "      <td>하남시</td>\n",
       "    </tr>\n",
       "    <tr>\n",
       "      <th>223</th>\n",
       "      <td>223</td>\n",
       "      <td>86441</td>\n",
       "      <td>음성</td>\n",
       "      <td>5</td>\n",
       "      <td>10</td>\n",
       "      <td>521.05</td>\n",
       "      <td>충청북도</td>\n",
       "      <td>음성군</td>\n",
       "    </tr>\n",
       "    <tr>\n",
       "      <th>53</th>\n",
       "      <td>53</td>\n",
       "      <td>41388</td>\n",
       "      <td>남해</td>\n",
       "      <td>6</td>\n",
       "      <td>19</td>\n",
       "      <td>357.00</td>\n",
       "      <td>경상남도</td>\n",
       "      <td>남해군</td>\n",
       "    </tr>\n",
       "    <tr>\n",
       "      <th>19</th>\n",
       "      <td>19</td>\n",
       "      <td>955384</td>\n",
       "      <td>고양</td>\n",
       "      <td>4</td>\n",
       "      <td>2</td>\n",
       "      <td>267.33</td>\n",
       "      <td>경기도</td>\n",
       "      <td>고양시</td>\n",
       "    </tr>\n",
       "    <tr>\n",
       "      <th>139</th>\n",
       "      <td>139</td>\n",
       "      <td>279939</td>\n",
       "      <td>서울성동</td>\n",
       "      <td>7</td>\n",
       "      <td>5</td>\n",
       "      <td>16.85</td>\n",
       "      <td>서울특별시</td>\n",
       "      <td>성동구</td>\n",
       "    </tr>\n",
       "  </tbody>\n",
       "</table>\n",
       "</div>"
      ],
      "text/plain": [
       "     Unnamed: 0     인구수 shortName  x   y      면적   광역시도 행정구역\n",
       "47           47  150061        하남  9   5   93.10    경기도  하남시\n",
       "223         223   86441        음성  5  10  521.05   충청북도  음성군\n",
       "53           53   41388        남해  6  19  357.00   경상남도  남해군\n",
       "19           19  955384        고양  4   2  267.33    경기도  고양시\n",
       "139         139  279939      서울성동  7   5   16.85  서울특별시  성동구"
      ]
     },
     "execution_count": 5,
     "metadata": {},
     "output_type": "execute_result"
    }
   ],
   "source": [
    "data.sample(5)"
   ]
  },
  {
   "cell_type": "code",
   "execution_count": 6,
   "id": "c4b2f6ed-2bf5-47c7-b6e4-2c5391cb00de",
   "metadata": {},
   "outputs": [
    {
     "name": "stdout",
     "output_type": "stream",
     "text": [
      "컬럼명 : Index(['Unnamed: 0', '인구수', 'shortName', 'x', 'y', '면적', '광역시도', '행정구역'], dtype='object')\n",
      "인덱스 : RangeIndex(start=0, stop=229, step=1)\n"
     ]
    }
   ],
   "source": [
    "print(f'컬럼명 : {data.columns}')\n",
    "print(f'인덱스 : {data.index}')"
   ]
  },
  {
   "cell_type": "code",
   "execution_count": 7,
   "id": "663331e0-9fa8-49de-97f3-2bb4d6cfcaef",
   "metadata": {},
   "outputs": [
    {
     "name": "stdout",
     "output_type": "stream",
     "text": [
      "<class 'numpy.ndarray'>\n"
     ]
    },
    {
     "data": {
      "text/plain": [
       "array([[0, 202520, '강릉', ..., 1040.07, '강원도', '강릉시'],\n",
       "       [1, 25589, '고성(강원)', ..., 664.19, '강원도', '고성군'],\n",
       "       [2, 86747, '동해', ..., 180.01, '강원도', '동해시'],\n",
       "       ...,\n",
       "       [226, 62809, '진천', ..., 406.08, '충청북도', '진천군'],\n",
       "       [227, 790216, '청주', ..., 932.51, '충청북도', '청주시'],\n",
       "       [228, 198077, '충주', ..., 983.7, '충청북도', '충주시']], dtype=object)"
      ]
     },
     "execution_count": 7,
     "metadata": {},
     "output_type": "execute_result"
    }
   ],
   "source": [
    "print(type(data.values))\n",
    "data.values"
   ]
  },
  {
   "cell_type": "code",
   "execution_count": 8,
   "id": "6e6b1181-2613-44aa-b408-12e712c0527f",
   "metadata": {},
   "outputs": [
    {
     "name": "stdout",
     "output_type": "stream",
     "text": [
      "<class 'pandas.core.frame.DataFrame'>\n",
      "RangeIndex: 229 entries, 0 to 228\n",
      "Data columns (total 8 columns):\n",
      " #   Column      Non-Null Count  Dtype  \n",
      "---  ------      --------------  -----  \n",
      " 0   Unnamed: 0  229 non-null    int64  \n",
      " 1   인구수         229 non-null    int64  \n",
      " 2   shortName   229 non-null    object \n",
      " 3   x           229 non-null    int64  \n",
      " 4   y           229 non-null    int64  \n",
      " 5   면적          229 non-null    float64\n",
      " 6   광역시도        229 non-null    object \n",
      " 7   행정구역        229 non-null    object \n",
      "dtypes: float64(1), int64(4), object(3)\n",
      "memory usage: 14.4+ KB\n"
     ]
    }
   ],
   "source": [
    "data.info()"
   ]
  },
  {
   "cell_type": "code",
   "execution_count": 9,
   "id": "1edbc03a-18f2-4578-88b4-cb7bb52bd14e",
   "metadata": {},
   "outputs": [
    {
     "data": {
      "text/plain": [
       "dtype('int64')"
      ]
     },
     "execution_count": 9,
     "metadata": {},
     "output_type": "execute_result"
    }
   ],
   "source": [
    "# 인구수 컬럼의 타입 확인\n",
    "data['인구수'].dtypes"
   ]
  },
  {
   "cell_type": "code",
   "execution_count": 10,
   "id": "c4f13ac9-e509-4870-baf4-0fb1e2acf41b",
   "metadata": {},
   "outputs": [
    {
     "data": {
      "text/html": [
       "<div>\n",
       "<style scoped>\n",
       "    .dataframe tbody tr th:only-of-type {\n",
       "        vertical-align: middle;\n",
       "    }\n",
       "\n",
       "    .dataframe tbody tr th {\n",
       "        vertical-align: top;\n",
       "    }\n",
       "\n",
       "    .dataframe thead th {\n",
       "        text-align: right;\n",
       "    }\n",
       "</style>\n",
       "<table border=\"1\" class=\"dataframe\">\n",
       "  <thead>\n",
       "    <tr style=\"text-align: right;\">\n",
       "      <th></th>\n",
       "      <th>Unnamed: 0</th>\n",
       "      <th>인구수</th>\n",
       "      <th>x</th>\n",
       "      <th>y</th>\n",
       "      <th>면적</th>\n",
       "    </tr>\n",
       "  </thead>\n",
       "  <tbody>\n",
       "    <tr>\n",
       "      <th>count</th>\n",
       "      <td>229.000000</td>\n",
       "      <td>2.290000e+02</td>\n",
       "      <td>229.000000</td>\n",
       "      <td>229.000000</td>\n",
       "      <td>229.000000</td>\n",
       "    </tr>\n",
       "    <tr>\n",
       "      <th>mean</th>\n",
       "      <td>114.000000</td>\n",
       "      <td>2.110898e+05</td>\n",
       "      <td>6.117904</td>\n",
       "      <td>11.262009</td>\n",
       "      <td>435.419795</td>\n",
       "    </tr>\n",
       "    <tr>\n",
       "      <th>std</th>\n",
       "      <td>66.250786</td>\n",
       "      <td>2.074378e+05</td>\n",
       "      <td>3.320469</td>\n",
       "      <td>6.040898</td>\n",
       "      <td>381.612549</td>\n",
       "    </tr>\n",
       "    <tr>\n",
       "      <th>min</th>\n",
       "      <td>0.000000</td>\n",
       "      <td>8.392000e+03</td>\n",
       "      <td>0.000000</td>\n",
       "      <td>0.000000</td>\n",
       "      <td>2.800000</td>\n",
       "    </tr>\n",
       "    <tr>\n",
       "      <th>25%</th>\n",
       "      <td>57.000000</td>\n",
       "      <td>4.955900e+04</td>\n",
       "      <td>3.000000</td>\n",
       "      <td>6.000000</td>\n",
       "      <td>54.000000</td>\n",
       "    </tr>\n",
       "    <tr>\n",
       "      <th>50%</th>\n",
       "      <td>114.000000</td>\n",
       "      <td>1.401590e+05</td>\n",
       "      <td>6.000000</td>\n",
       "      <td>11.000000</td>\n",
       "      <td>436.400000</td>\n",
       "    </tr>\n",
       "    <tr>\n",
       "      <th>75%</th>\n",
       "      <td>171.000000</td>\n",
       "      <td>3.216180e+05</td>\n",
       "      <td>9.000000</td>\n",
       "      <td>16.000000</td>\n",
       "      <td>692.800000</td>\n",
       "    </tr>\n",
       "    <tr>\n",
       "      <th>max</th>\n",
       "      <td>228.000000</td>\n",
       "      <td>1.125461e+06</td>\n",
       "      <td>13.000000</td>\n",
       "      <td>25.000000</td>\n",
       "      <td>1817.940000</td>\n",
       "    </tr>\n",
       "  </tbody>\n",
       "</table>\n",
       "</div>"
      ],
      "text/plain": [
       "       Unnamed: 0           인구수           x           y           면적\n",
       "count  229.000000  2.290000e+02  229.000000  229.000000   229.000000\n",
       "mean   114.000000  2.110898e+05    6.117904   11.262009   435.419795\n",
       "std     66.250786  2.074378e+05    3.320469    6.040898   381.612549\n",
       "min      0.000000  8.392000e+03    0.000000    0.000000     2.800000\n",
       "25%     57.000000  4.955900e+04    3.000000    6.000000    54.000000\n",
       "50%    114.000000  1.401590e+05    6.000000   11.000000   436.400000\n",
       "75%    171.000000  3.216180e+05    9.000000   16.000000   692.800000\n",
       "max    228.000000  1.125461e+06   13.000000   25.000000  1817.940000"
      ]
     },
     "execution_count": 10,
     "metadata": {},
     "output_type": "execute_result"
    }
   ],
   "source": [
    "# describe() 함수\n",
    "data.describe()"
   ]
  },
  {
   "cell_type": "code",
   "execution_count": 11,
   "id": "85a857df-1d70-438c-be60-e74ebd5d4722",
   "metadata": {},
   "outputs": [
    {
     "name": "stdout",
     "output_type": "stream",
     "text": [
      "<class 'pandas.core.series.Series'>\n"
     ]
    },
    {
     "data": {
      "text/plain": [
       "0      202520\n",
       "1       25589\n",
       "2       86747\n",
       "3       63986\n",
       "4       76733\n",
       "        ...  \n",
       "224    127462\n",
       "225     34480\n",
       "226     62809\n",
       "227    790216\n",
       "228    198077\n",
       "Name: 인구수, Length: 229, dtype: int64"
      ]
     },
     "execution_count": 11,
     "metadata": {},
     "output_type": "execute_result"
    }
   ],
   "source": [
    "# 인구수 1개의 컬럼 선택\n",
    "print(type(data['인구수']))\n",
    "data['인구수']"
   ]
  },
  {
   "cell_type": "code",
   "execution_count": 12,
   "id": "c0e754ee-2a85-4bee-8eb0-d50ca86390be",
   "metadata": {},
   "outputs": [
    {
     "name": "stdout",
     "output_type": "stream",
     "text": [
      "인구수 최대값 1125461\n",
      "인구수 최소값 8392\n",
      "인구수 평균 211089.77729257641\n",
      "인구수 표준편차 207437.8370475227\n",
      "인구수 중간값 140159.0\n"
     ]
    },
    {
     "data": {
      "text/plain": [
       "0.25     49559.0\n",
       "0.75    321618.0\n",
       "Name: 인구수, dtype: float64"
      ]
     },
     "execution_count": 12,
     "metadata": {},
     "output_type": "execute_result"
    }
   ],
   "source": [
    "# 인구수 컬럼의 집계함수\n",
    "print(f\"인구수 최대값 {data['인구수'].max()}\")\n",
    "print(f\"인구수 최소값 {data['인구수'].min()}\")\n",
    "print(f\"인구수 평균 {data['인구수'].mean()}\")\n",
    "print(f\"인구수 표준편차 {data['인구수'].std()}\")\n",
    "print(f\"인구수 중간값 {data['인구수'].median()}\")\n",
    "data['인구수'].quantile([0.25, 0.75])"
   ]
  },
  {
   "cell_type": "code",
   "execution_count": 13,
   "id": "a8b81fd9-65d9-4af3-9f5f-7d14be0c21d1",
   "metadata": {},
   "outputs": [
    {
     "data": {
      "text/plain": [
       "array(['강원도', '경기도', '경상남도', '경상북도', '광주광역시', '대구광역시', '대전광역시', '부산광역시',\n",
       "       '서울특별시', '세종특별자치시', '울산광역시', '인천광역시', '전라남도', '전라북도', '제주특별자치도',\n",
       "       '충청남도', '충청북도'], dtype=object)"
      ]
     },
     "execution_count": 13,
     "metadata": {},
     "output_type": "execute_result"
    }
   ],
   "source": [
    "# unique한 광역시도명\n",
    "data['광역시도'].unique()"
   ]
  },
  {
   "cell_type": "code",
   "execution_count": 14,
   "id": "d8b4bdcf-cec0-4a26-aa69-54def2bc490e",
   "metadata": {},
   "outputs": [
    {
     "data": {
      "text/plain": [
       "경기도        31\n",
       "서울특별시      25\n",
       "경상북도       23\n",
       "전라남도       22\n",
       "강원도        18\n",
       "경상남도       18\n",
       "부산광역시      16\n",
       "충청남도       15\n",
       "전라북도       14\n",
       "충청북도       11\n",
       "인천광역시      10\n",
       "대구광역시       8\n",
       "대전광역시       5\n",
       "광주광역시       5\n",
       "울산광역시       5\n",
       "제주특별자치도     2\n",
       "세종특별자치시     1\n",
       "Name: 광역시도, dtype: int64"
      ]
     },
     "execution_count": 14,
     "metadata": {},
     "output_type": "execute_result"
    }
   ],
   "source": [
    "# 광역시도 row counting\n",
    "data['광역시도'].value_counts()"
   ]
  },
  {
   "cell_type": "code",
   "execution_count": 24,
   "id": "156ee472-9728-4388-92bc-5551ee1b5c6f",
   "metadata": {},
   "outputs": [
    {
     "name": "stdout",
     "output_type": "stream",
     "text": [
      "<class 'pandas.core.frame.DataFrame'>\n"
     ]
    },
    {
     "data": {
      "text/html": [
       "<div>\n",
       "<style scoped>\n",
       "    .dataframe tbody tr th:only-of-type {\n",
       "        vertical-align: middle;\n",
       "    }\n",
       "\n",
       "    .dataframe tbody tr th {\n",
       "        vertical-align: top;\n",
       "    }\n",
       "\n",
       "    .dataframe thead th {\n",
       "        text-align: right;\n",
       "    }\n",
       "</style>\n",
       "<table border=\"1\" class=\"dataframe\">\n",
       "  <thead>\n",
       "    <tr style=\"text-align: right;\">\n",
       "      <th></th>\n",
       "      <th>인구수</th>\n",
       "      <th>shortName</th>\n",
       "      <th>x</th>\n",
       "      <th>y</th>\n",
       "      <th>면적</th>\n",
       "      <th>광역시도</th>\n",
       "      <th>행정구역</th>\n",
       "    </tr>\n",
       "  </thead>\n",
       "  <tbody>\n",
       "    <tr>\n",
       "      <th>0</th>\n",
       "      <td>1125461</td>\n",
       "      <td>수원</td>\n",
       "      <td>6</td>\n",
       "      <td>9</td>\n",
       "      <td>121.090</td>\n",
       "      <td>경기도</td>\n",
       "      <td>수원시</td>\n",
       "    </tr>\n",
       "    <tr>\n",
       "      <th>1</th>\n",
       "      <td>955384</td>\n",
       "      <td>고양</td>\n",
       "      <td>4</td>\n",
       "      <td>2</td>\n",
       "      <td>267.330</td>\n",
       "      <td>경기도</td>\n",
       "      <td>고양시</td>\n",
       "    </tr>\n",
       "    <tr>\n",
       "      <th>2</th>\n",
       "      <td>915005</td>\n",
       "      <td>용인</td>\n",
       "      <td>7</td>\n",
       "      <td>9</td>\n",
       "      <td>591.500</td>\n",
       "      <td>경기도</td>\n",
       "      <td>용인시</td>\n",
       "    </tr>\n",
       "    <tr>\n",
       "      <th>3</th>\n",
       "      <td>911628</td>\n",
       "      <td>성남</td>\n",
       "      <td>7</td>\n",
       "      <td>8</td>\n",
       "      <td>141.820</td>\n",
       "      <td>경기도</td>\n",
       "      <td>성남시</td>\n",
       "    </tr>\n",
       "    <tr>\n",
       "      <th>4</th>\n",
       "      <td>805473</td>\n",
       "      <td>부천</td>\n",
       "      <td>2</td>\n",
       "      <td>4</td>\n",
       "      <td>53.440</td>\n",
       "      <td>경기도</td>\n",
       "      <td>부천시</td>\n",
       "    </tr>\n",
       "    <tr>\n",
       "      <th>5</th>\n",
       "      <td>668089</td>\n",
       "      <td>안산</td>\n",
       "      <td>3</td>\n",
       "      <td>6</td>\n",
       "      <td>144.780</td>\n",
       "      <td>경기도</td>\n",
       "      <td>안산시</td>\n",
       "    </tr>\n",
       "    <tr>\n",
       "      <th>6</th>\n",
       "      <td>610300</td>\n",
       "      <td>남양주</td>\n",
       "      <td>8</td>\n",
       "      <td>3</td>\n",
       "      <td>458.440</td>\n",
       "      <td>경기도</td>\n",
       "      <td>남양주시</td>\n",
       "    </tr>\n",
       "    <tr>\n",
       "      <th>7</th>\n",
       "      <td>566558</td>\n",
       "      <td>안양</td>\n",
       "      <td>3</td>\n",
       "      <td>4</td>\n",
       "      <td>58.520</td>\n",
       "      <td>경기도</td>\n",
       "      <td>안양시</td>\n",
       "    </tr>\n",
       "    <tr>\n",
       "      <th>8</th>\n",
       "      <td>555129</td>\n",
       "      <td>화성</td>\n",
       "      <td>3</td>\n",
       "      <td>7</td>\n",
       "      <td>688.100</td>\n",
       "      <td>경기도</td>\n",
       "      <td>화성시</td>\n",
       "    </tr>\n",
       "    <tr>\n",
       "      <th>9</th>\n",
       "      <td>423763</td>\n",
       "      <td>평택</td>\n",
       "      <td>5</td>\n",
       "      <td>9</td>\n",
       "      <td>452.310</td>\n",
       "      <td>경기도</td>\n",
       "      <td>평택시</td>\n",
       "    </tr>\n",
       "    <tr>\n",
       "      <th>10</th>\n",
       "      <td>408220</td>\n",
       "      <td>의정부</td>\n",
       "      <td>7</td>\n",
       "      <td>3</td>\n",
       "      <td>81.590</td>\n",
       "      <td>경기도</td>\n",
       "      <td>의정부시</td>\n",
       "    </tr>\n",
       "    <tr>\n",
       "      <th>11</th>\n",
       "      <td>385528</td>\n",
       "      <td>파주</td>\n",
       "      <td>3</td>\n",
       "      <td>2</td>\n",
       "      <td>672.560</td>\n",
       "      <td>경기도</td>\n",
       "      <td>파주시</td>\n",
       "    </tr>\n",
       "    <tr>\n",
       "      <th>12</th>\n",
       "      <td>381412</td>\n",
       "      <td>시흥</td>\n",
       "      <td>3</td>\n",
       "      <td>5</td>\n",
       "      <td>134.400</td>\n",
       "      <td>경기도</td>\n",
       "      <td>시흥시</td>\n",
       "    </tr>\n",
       "    <tr>\n",
       "      <th>13</th>\n",
       "      <td>327111</td>\n",
       "      <td>광명</td>\n",
       "      <td>3</td>\n",
       "      <td>3</td>\n",
       "      <td>38.500</td>\n",
       "      <td>경기도</td>\n",
       "      <td>광명시</td>\n",
       "    </tr>\n",
       "    <tr>\n",
       "      <th>14</th>\n",
       "      <td>326523</td>\n",
       "      <td>김포</td>\n",
       "      <td>2</td>\n",
       "      <td>3</td>\n",
       "      <td>276.640</td>\n",
       "      <td>경기도</td>\n",
       "      <td>김포시</td>\n",
       "    </tr>\n",
       "    <tr>\n",
       "      <th>15</th>\n",
       "      <td>290210</td>\n",
       "      <td>광주</td>\n",
       "      <td>8</td>\n",
       "      <td>7</td>\n",
       "      <td>431.840</td>\n",
       "      <td>경기도</td>\n",
       "      <td>광주시</td>\n",
       "    </tr>\n",
       "    <tr>\n",
       "      <th>16</th>\n",
       "      <td>273302</td>\n",
       "      <td>군포</td>\n",
       "      <td>5</td>\n",
       "      <td>8</td>\n",
       "      <td>36.350</td>\n",
       "      <td>경기도</td>\n",
       "      <td>군포시</td>\n",
       "    </tr>\n",
       "    <tr>\n",
       "      <th>17</th>\n",
       "      <td>200793</td>\n",
       "      <td>오산</td>\n",
       "      <td>3</td>\n",
       "      <td>8</td>\n",
       "      <td>42.740</td>\n",
       "      <td>경기도</td>\n",
       "      <td>오산시</td>\n",
       "    </tr>\n",
       "    <tr>\n",
       "      <th>18</th>\n",
       "      <td>191266</td>\n",
       "      <td>양주</td>\n",
       "      <td>8</td>\n",
       "      <td>2</td>\n",
       "      <td>310.310</td>\n",
       "      <td>경기도</td>\n",
       "      <td>양주시</td>\n",
       "    </tr>\n",
       "    <tr>\n",
       "      <th>19</th>\n",
       "      <td>190537</td>\n",
       "      <td>이천</td>\n",
       "      <td>8</td>\n",
       "      <td>8</td>\n",
       "      <td>461.020</td>\n",
       "      <td>경기도</td>\n",
       "      <td>이천시</td>\n",
       "    </tr>\n",
       "    <tr>\n",
       "      <th>20</th>\n",
       "      <td>175676</td>\n",
       "      <td>구리</td>\n",
       "      <td>9</td>\n",
       "      <td>4</td>\n",
       "      <td>33.300</td>\n",
       "      <td>경기도</td>\n",
       "      <td>구리시</td>\n",
       "    </tr>\n",
       "    <tr>\n",
       "      <th>21</th>\n",
       "      <td>173061</td>\n",
       "      <td>안성</td>\n",
       "      <td>4</td>\n",
       "      <td>8</td>\n",
       "      <td>554.200</td>\n",
       "      <td>경기도</td>\n",
       "      <td>안성시</td>\n",
       "    </tr>\n",
       "    <tr>\n",
       "      <th>22</th>\n",
       "      <td>150061</td>\n",
       "      <td>하남</td>\n",
       "      <td>9</td>\n",
       "      <td>5</td>\n",
       "      <td>93.100</td>\n",
       "      <td>경기도</td>\n",
       "      <td>하남시</td>\n",
       "    </tr>\n",
       "    <tr>\n",
       "      <th>23</th>\n",
       "      <td>149080</td>\n",
       "      <td>의왕</td>\n",
       "      <td>6</td>\n",
       "      <td>8</td>\n",
       "      <td>54.000</td>\n",
       "      <td>경기도</td>\n",
       "      <td>의왕시</td>\n",
       "    </tr>\n",
       "    <tr>\n",
       "      <th>24</th>\n",
       "      <td>140159</td>\n",
       "      <td>포천</td>\n",
       "      <td>8</td>\n",
       "      <td>1</td>\n",
       "      <td>826.380</td>\n",
       "      <td>경기도</td>\n",
       "      <td>포천시</td>\n",
       "    </tr>\n",
       "    <tr>\n",
       "      <th>25</th>\n",
       "      <td>100669</td>\n",
       "      <td>여주</td>\n",
       "      <td>9</td>\n",
       "      <td>7</td>\n",
       "      <td>608.640</td>\n",
       "      <td>경기도</td>\n",
       "      <td>여주시</td>\n",
       "    </tr>\n",
       "    <tr>\n",
       "      <th>26</th>\n",
       "      <td>95614</td>\n",
       "      <td>양평</td>\n",
       "      <td>9</td>\n",
       "      <td>6</td>\n",
       "      <td>877.080</td>\n",
       "      <td>경기도</td>\n",
       "      <td>양평군</td>\n",
       "    </tr>\n",
       "    <tr>\n",
       "      <th>27</th>\n",
       "      <td>90398</td>\n",
       "      <td>동두천</td>\n",
       "      <td>7</td>\n",
       "      <td>2</td>\n",
       "      <td>95.680</td>\n",
       "      <td>경기도</td>\n",
       "      <td>동두천시</td>\n",
       "    </tr>\n",
       "    <tr>\n",
       "      <th>28</th>\n",
       "      <td>63227</td>\n",
       "      <td>과천</td>\n",
       "      <td>7</td>\n",
       "      <td>7</td>\n",
       "      <td>35.813</td>\n",
       "      <td>경기도</td>\n",
       "      <td>과천시</td>\n",
       "    </tr>\n",
       "    <tr>\n",
       "      <th>29</th>\n",
       "      <td>53497</td>\n",
       "      <td>가평</td>\n",
       "      <td>9</td>\n",
       "      <td>3</td>\n",
       "      <td>843.040</td>\n",
       "      <td>경기도</td>\n",
       "      <td>가평군</td>\n",
       "    </tr>\n",
       "    <tr>\n",
       "      <th>30</th>\n",
       "      <td>41076</td>\n",
       "      <td>연천</td>\n",
       "      <td>7</td>\n",
       "      <td>1</td>\n",
       "      <td>695.230</td>\n",
       "      <td>경기도</td>\n",
       "      <td>연천군</td>\n",
       "    </tr>\n",
       "  </tbody>\n",
       "</table>\n",
       "</div>"
      ],
      "text/plain": [
       "        인구수 shortName  x  y       면적 광역시도  행정구역\n",
       "0   1125461        수원  6  9  121.090  경기도   수원시\n",
       "1    955384        고양  4  2  267.330  경기도   고양시\n",
       "2    915005        용인  7  9  591.500  경기도   용인시\n",
       "3    911628        성남  7  8  141.820  경기도   성남시\n",
       "4    805473        부천  2  4   53.440  경기도   부천시\n",
       "5    668089        안산  3  6  144.780  경기도   안산시\n",
       "6    610300       남양주  8  3  458.440  경기도  남양주시\n",
       "7    566558        안양  3  4   58.520  경기도   안양시\n",
       "8    555129        화성  3  7  688.100  경기도   화성시\n",
       "9    423763        평택  5  9  452.310  경기도   평택시\n",
       "10   408220       의정부  7  3   81.590  경기도  의정부시\n",
       "11   385528        파주  3  2  672.560  경기도   파주시\n",
       "12   381412        시흥  3  5  134.400  경기도   시흥시\n",
       "13   327111        광명  3  3   38.500  경기도   광명시\n",
       "14   326523        김포  2  3  276.640  경기도   김포시\n",
       "15   290210        광주  8  7  431.840  경기도   광주시\n",
       "16   273302        군포  5  8   36.350  경기도   군포시\n",
       "17   200793        오산  3  8   42.740  경기도   오산시\n",
       "18   191266        양주  8  2  310.310  경기도   양주시\n",
       "19   190537        이천  8  8  461.020  경기도   이천시\n",
       "20   175676        구리  9  4   33.300  경기도   구리시\n",
       "21   173061        안성  4  8  554.200  경기도   안성시\n",
       "22   150061        하남  9  5   93.100  경기도   하남시\n",
       "23   149080        의왕  6  8   54.000  경기도   의왕시\n",
       "24   140159        포천  8  1  826.380  경기도   포천시\n",
       "25   100669        여주  9  7  608.640  경기도   여주시\n",
       "26    95614        양평  9  6  877.080  경기도   양평군\n",
       "27    90398       동두천  7  2   95.680  경기도  동두천시\n",
       "28    63227        과천  7  7   35.813  경기도   과천시\n",
       "29    53497        가평  9  3  843.040  경기도   가평군\n",
       "30    41076        연천  7  1  695.230  경기도   연천군"
      ]
     },
     "execution_count": 24,
     "metadata": {},
     "output_type": "execute_result"
    }
   ],
   "source": [
    "#경기도 만 선택\n",
    "# df.loc[행선택 , 열선택]\n",
    "# 인구수가 많은 순서대로 정렬\n",
    "gy_df = data.loc[data['광역시도'] == '경기도','인구수':'행정구역'].sort_values(by='인구수', ascending=False)\\\n",
    ".reset_index(drop=True)\n",
    "print(type(gy_df))\n",
    "gy_df"
   ]
  },
  {
   "cell_type": "code",
   "execution_count": 27,
   "id": "722fa27e-aaae-4b34-96ac-f03b44f8defb",
   "metadata": {},
   "outputs": [
    {
     "name": "stdout",
     "output_type": "stream",
     "text": [
      "경기도 인구수 평균 = 378845.48387096776\n",
      "경기도 인구수 편차 = 304548.39514203876\n"
     ]
    }
   ],
   "source": [
    "#경기도 인구수의 평균과 표준편차\n",
    "print(f\"경기도 인구수 평균 = {gy_df['인구수'].mean()}\")\n",
    "print(f\"경기도 인구수 편차 = {gy_df['인구수'].std()}\")"
   ]
  },
  {
   "cell_type": "code",
   "execution_count": 28,
   "id": "bcd03ba4-a3e2-480f-af83-b4f73e441093",
   "metadata": {},
   "outputs": [],
   "source": [
    "def pop_mean_std(sido_name):\n",
    "    sido_df = data.loc[data['광역시도'] == sido_name,'인구수':'행정구역'].sort_values(by='인구수', ascending=False).reset_index(drop=True)\n",
    "    print(f\"{sido_name} 인구수 평균 = {sido_df['인구수'].mean()}\")\n",
    "    print(f\"{sido_name} 인구수 편차 = {sido_df['인구수'].std()}\")"
   ]
  },
  {
   "cell_type": "code",
   "execution_count": 29,
   "id": "fd83fdf3-d05f-412f-9a8f-1010221cbddf",
   "metadata": {},
   "outputs": [
    {
     "name": "stdout",
     "output_type": "stream",
     "text": [
      "서울특별시 인구수 평균 = 375792.28\n",
      "서울특별시 인구수 편차 = 125231.24797500289\n"
     ]
    }
   ],
   "source": [
    "pop_mean_std('서울특별시')"
   ]
  },
  {
   "cell_type": "markdown",
   "id": "7637bb16-b727-46e3-aac5-002d372ad8f5",
   "metadata": {},
   "source": [
    "#### Row, Column Selection\n",
    "* loc[ ] 과 iloc[ ] 사용하기"
   ]
  },
  {
   "cell_type": "code",
   "execution_count": 30,
   "id": "67c254ed-ad96-4d78-a499-fe2be24bc6d7",
   "metadata": {},
   "outputs": [
    {
     "data": {
      "text/html": [
       "<div>\n",
       "<style scoped>\n",
       "    .dataframe tbody tr th:only-of-type {\n",
       "        vertical-align: middle;\n",
       "    }\n",
       "\n",
       "    .dataframe tbody tr th {\n",
       "        vertical-align: top;\n",
       "    }\n",
       "\n",
       "    .dataframe thead th {\n",
       "        text-align: right;\n",
       "    }\n",
       "</style>\n",
       "<table border=\"1\" class=\"dataframe\">\n",
       "  <thead>\n",
       "    <tr style=\"text-align: right;\">\n",
       "      <th></th>\n",
       "      <th>Unnamed: 0</th>\n",
       "      <th>인구수</th>\n",
       "      <th>shortName</th>\n",
       "      <th>x</th>\n",
       "      <th>y</th>\n",
       "      <th>면적</th>\n",
       "      <th>광역시도</th>\n",
       "      <th>행정구역</th>\n",
       "    </tr>\n",
       "  </thead>\n",
       "  <tbody>\n",
       "    <tr>\n",
       "      <th>20</th>\n",
       "      <td>20</td>\n",
       "      <td>63227</td>\n",
       "      <td>과천</td>\n",
       "      <td>7</td>\n",
       "      <td>7</td>\n",
       "      <td>35.813</td>\n",
       "      <td>경기도</td>\n",
       "      <td>과천시</td>\n",
       "    </tr>\n",
       "    <tr>\n",
       "      <th>21</th>\n",
       "      <td>21</td>\n",
       "      <td>327111</td>\n",
       "      <td>광명</td>\n",
       "      <td>3</td>\n",
       "      <td>3</td>\n",
       "      <td>38.500</td>\n",
       "      <td>경기도</td>\n",
       "      <td>광명시</td>\n",
       "    </tr>\n",
       "    <tr>\n",
       "      <th>22</th>\n",
       "      <td>22</td>\n",
       "      <td>290210</td>\n",
       "      <td>광주</td>\n",
       "      <td>8</td>\n",
       "      <td>7</td>\n",
       "      <td>431.840</td>\n",
       "      <td>경기도</td>\n",
       "      <td>광주시</td>\n",
       "    </tr>\n",
       "    <tr>\n",
       "      <th>23</th>\n",
       "      <td>23</td>\n",
       "      <td>175676</td>\n",
       "      <td>구리</td>\n",
       "      <td>9</td>\n",
       "      <td>4</td>\n",
       "      <td>33.300</td>\n",
       "      <td>경기도</td>\n",
       "      <td>구리시</td>\n",
       "    </tr>\n",
       "    <tr>\n",
       "      <th>24</th>\n",
       "      <td>24</td>\n",
       "      <td>273302</td>\n",
       "      <td>군포</td>\n",
       "      <td>5</td>\n",
       "      <td>8</td>\n",
       "      <td>36.350</td>\n",
       "      <td>경기도</td>\n",
       "      <td>군포시</td>\n",
       "    </tr>\n",
       "    <tr>\n",
       "      <th>25</th>\n",
       "      <td>25</td>\n",
       "      <td>326523</td>\n",
       "      <td>김포</td>\n",
       "      <td>2</td>\n",
       "      <td>3</td>\n",
       "      <td>276.640</td>\n",
       "      <td>경기도</td>\n",
       "      <td>김포시</td>\n",
       "    </tr>\n",
       "  </tbody>\n",
       "</table>\n",
       "</div>"
      ],
      "text/plain": [
       "    Unnamed: 0     인구수 shortName  x  y       면적 광역시도 행정구역\n",
       "20          20   63227        과천  7  7   35.813  경기도  과천시\n",
       "21          21  327111        광명  3  3   38.500  경기도  광명시\n",
       "22          22  290210        광주  8  7  431.840  경기도  광주시\n",
       "23          23  175676        구리  9  4   33.300  경기도  구리시\n",
       "24          24  273302        군포  5  8   36.350  경기도  군포시\n",
       "25          25  326523        김포  2  3  276.640  경기도  김포시"
      ]
     },
     "execution_count": 30,
     "metadata": {},
     "output_type": "execute_result"
    }
   ],
   "source": [
    "#loc[] 사용\n",
    "#인덱스가 20 부터 25까지\n",
    "data.loc[20:25]"
   ]
  },
  {
   "cell_type": "code",
   "execution_count": 31,
   "id": "cde96fa8-ed29-45c4-bdee-a1877e3f7a10",
   "metadata": {},
   "outputs": [
    {
     "data": {
      "text/html": [
       "<div>\n",
       "<style scoped>\n",
       "    .dataframe tbody tr th:only-of-type {\n",
       "        vertical-align: middle;\n",
       "    }\n",
       "\n",
       "    .dataframe tbody tr th {\n",
       "        vertical-align: top;\n",
       "    }\n",
       "\n",
       "    .dataframe thead th {\n",
       "        text-align: right;\n",
       "    }\n",
       "</style>\n",
       "<table border=\"1\" class=\"dataframe\">\n",
       "  <thead>\n",
       "    <tr style=\"text-align: right;\">\n",
       "      <th></th>\n",
       "      <th>Unnamed: 0</th>\n",
       "      <th>인구수</th>\n",
       "      <th>shortName</th>\n",
       "      <th>x</th>\n",
       "      <th>y</th>\n",
       "      <th>면적</th>\n",
       "      <th>광역시도</th>\n",
       "      <th>행정구역</th>\n",
       "    </tr>\n",
       "  </thead>\n",
       "  <tbody>\n",
       "    <tr>\n",
       "      <th>20</th>\n",
       "      <td>20</td>\n",
       "      <td>63227</td>\n",
       "      <td>과천</td>\n",
       "      <td>7</td>\n",
       "      <td>7</td>\n",
       "      <td>35.813</td>\n",
       "      <td>경기도</td>\n",
       "      <td>과천시</td>\n",
       "    </tr>\n",
       "    <tr>\n",
       "      <th>21</th>\n",
       "      <td>21</td>\n",
       "      <td>327111</td>\n",
       "      <td>광명</td>\n",
       "      <td>3</td>\n",
       "      <td>3</td>\n",
       "      <td>38.500</td>\n",
       "      <td>경기도</td>\n",
       "      <td>광명시</td>\n",
       "    </tr>\n",
       "    <tr>\n",
       "      <th>22</th>\n",
       "      <td>22</td>\n",
       "      <td>290210</td>\n",
       "      <td>광주</td>\n",
       "      <td>8</td>\n",
       "      <td>7</td>\n",
       "      <td>431.840</td>\n",
       "      <td>경기도</td>\n",
       "      <td>광주시</td>\n",
       "    </tr>\n",
       "    <tr>\n",
       "      <th>23</th>\n",
       "      <td>23</td>\n",
       "      <td>175676</td>\n",
       "      <td>구리</td>\n",
       "      <td>9</td>\n",
       "      <td>4</td>\n",
       "      <td>33.300</td>\n",
       "      <td>경기도</td>\n",
       "      <td>구리시</td>\n",
       "    </tr>\n",
       "    <tr>\n",
       "      <th>24</th>\n",
       "      <td>24</td>\n",
       "      <td>273302</td>\n",
       "      <td>군포</td>\n",
       "      <td>5</td>\n",
       "      <td>8</td>\n",
       "      <td>36.350</td>\n",
       "      <td>경기도</td>\n",
       "      <td>군포시</td>\n",
       "    </tr>\n",
       "  </tbody>\n",
       "</table>\n",
       "</div>"
      ],
      "text/plain": [
       "    Unnamed: 0     인구수 shortName  x  y       면적 광역시도 행정구역\n",
       "20          20   63227        과천  7  7   35.813  경기도  과천시\n",
       "21          21  327111        광명  3  3   38.500  경기도  광명시\n",
       "22          22  290210        광주  8  7  431.840  경기도  광주시\n",
       "23          23  175676        구리  9  4   33.300  경기도  구리시\n",
       "24          24  273302        군포  5  8   36.350  경기도  군포시"
      ]
     },
     "execution_count": 31,
     "metadata": {},
     "output_type": "execute_result"
    }
   ],
   "source": [
    "#iloc[] 사용\n",
    "#인덱스가 20 부터 25까지\n",
    "data.iloc[20:25]"
   ]
  },
  {
   "cell_type": "code",
   "execution_count": 32,
   "id": "1215946d-3384-4a70-a4e1-3882f12ed21b",
   "metadata": {},
   "outputs": [
    {
     "data": {
      "text/html": [
       "<div>\n",
       "<style scoped>\n",
       "    .dataframe tbody tr th:only-of-type {\n",
       "        vertical-align: middle;\n",
       "    }\n",
       "\n",
       "    .dataframe tbody tr th {\n",
       "        vertical-align: top;\n",
       "    }\n",
       "\n",
       "    .dataframe thead th {\n",
       "        text-align: right;\n",
       "    }\n",
       "</style>\n",
       "<table border=\"1\" class=\"dataframe\">\n",
       "  <thead>\n",
       "    <tr style=\"text-align: right;\">\n",
       "      <th></th>\n",
       "      <th>인구수</th>\n",
       "      <th>shortName</th>\n",
       "      <th>x</th>\n",
       "      <th>y</th>\n",
       "      <th>면적</th>\n",
       "      <th>광역시도</th>\n",
       "    </tr>\n",
       "  </thead>\n",
       "  <tbody>\n",
       "    <tr>\n",
       "      <th>20</th>\n",
       "      <td>63227</td>\n",
       "      <td>과천</td>\n",
       "      <td>7</td>\n",
       "      <td>7</td>\n",
       "      <td>35.813</td>\n",
       "      <td>경기도</td>\n",
       "    </tr>\n",
       "    <tr>\n",
       "      <th>21</th>\n",
       "      <td>327111</td>\n",
       "      <td>광명</td>\n",
       "      <td>3</td>\n",
       "      <td>3</td>\n",
       "      <td>38.500</td>\n",
       "      <td>경기도</td>\n",
       "    </tr>\n",
       "    <tr>\n",
       "      <th>22</th>\n",
       "      <td>290210</td>\n",
       "      <td>광주</td>\n",
       "      <td>8</td>\n",
       "      <td>7</td>\n",
       "      <td>431.840</td>\n",
       "      <td>경기도</td>\n",
       "    </tr>\n",
       "    <tr>\n",
       "      <th>23</th>\n",
       "      <td>175676</td>\n",
       "      <td>구리</td>\n",
       "      <td>9</td>\n",
       "      <td>4</td>\n",
       "      <td>33.300</td>\n",
       "      <td>경기도</td>\n",
       "    </tr>\n",
       "    <tr>\n",
       "      <th>24</th>\n",
       "      <td>273302</td>\n",
       "      <td>군포</td>\n",
       "      <td>5</td>\n",
       "      <td>8</td>\n",
       "      <td>36.350</td>\n",
       "      <td>경기도</td>\n",
       "    </tr>\n",
       "    <tr>\n",
       "      <th>25</th>\n",
       "      <td>326523</td>\n",
       "      <td>김포</td>\n",
       "      <td>2</td>\n",
       "      <td>3</td>\n",
       "      <td>276.640</td>\n",
       "      <td>경기도</td>\n",
       "    </tr>\n",
       "  </tbody>\n",
       "</table>\n",
       "</div>"
      ],
      "text/plain": [
       "       인구수 shortName  x  y       면적 광역시도\n",
       "20   63227        과천  7  7   35.813  경기도\n",
       "21  327111        광명  3  3   38.500  경기도\n",
       "22  290210        광주  8  7  431.840  경기도\n",
       "23  175676        구리  9  4   33.300  경기도\n",
       "24  273302        군포  5  8   36.350  경기도\n",
       "25  326523        김포  2  3  276.640  경기도"
      ]
     },
     "execution_count": 32,
     "metadata": {},
     "output_type": "execute_result"
    }
   ],
   "source": [
    "ㅊ\n",
    "#인덱스가 20 부터 22까지 컬럼이 인구수부터 광역시도 까지\n",
    "data.loc[20:25, '인구수':'광역시도']"
   ]
  },
  {
   "cell_type": "code",
   "execution_count": 34,
   "id": "d9c025a5-b85b-484e-8080-752f1ef689bd",
   "metadata": {},
   "outputs": [
    {
     "data": {
      "text/html": [
       "<div>\n",
       "<style scoped>\n",
       "    .dataframe tbody tr th:only-of-type {\n",
       "        vertical-align: middle;\n",
       "    }\n",
       "\n",
       "    .dataframe tbody tr th {\n",
       "        vertical-align: top;\n",
       "    }\n",
       "\n",
       "    .dataframe thead th {\n",
       "        text-align: right;\n",
       "    }\n",
       "</style>\n",
       "<table border=\"1\" class=\"dataframe\">\n",
       "  <thead>\n",
       "    <tr style=\"text-align: right;\">\n",
       "      <th></th>\n",
       "      <th>인구수</th>\n",
       "      <th>shortName</th>\n",
       "      <th>x</th>\n",
       "      <th>y</th>\n",
       "      <th>면적</th>\n",
       "      <th>광역시도</th>\n",
       "    </tr>\n",
       "  </thead>\n",
       "  <tbody>\n",
       "    <tr>\n",
       "      <th>20</th>\n",
       "      <td>63227</td>\n",
       "      <td>과천</td>\n",
       "      <td>7</td>\n",
       "      <td>7</td>\n",
       "      <td>35.813</td>\n",
       "      <td>경기도</td>\n",
       "    </tr>\n",
       "    <tr>\n",
       "      <th>21</th>\n",
       "      <td>327111</td>\n",
       "      <td>광명</td>\n",
       "      <td>3</td>\n",
       "      <td>3</td>\n",
       "      <td>38.500</td>\n",
       "      <td>경기도</td>\n",
       "    </tr>\n",
       "    <tr>\n",
       "      <th>22</th>\n",
       "      <td>290210</td>\n",
       "      <td>광주</td>\n",
       "      <td>8</td>\n",
       "      <td>7</td>\n",
       "      <td>431.840</td>\n",
       "      <td>경기도</td>\n",
       "    </tr>\n",
       "    <tr>\n",
       "      <th>23</th>\n",
       "      <td>175676</td>\n",
       "      <td>구리</td>\n",
       "      <td>9</td>\n",
       "      <td>4</td>\n",
       "      <td>33.300</td>\n",
       "      <td>경기도</td>\n",
       "    </tr>\n",
       "    <tr>\n",
       "      <th>24</th>\n",
       "      <td>273302</td>\n",
       "      <td>군포</td>\n",
       "      <td>5</td>\n",
       "      <td>8</td>\n",
       "      <td>36.350</td>\n",
       "      <td>경기도</td>\n",
       "    </tr>\n",
       "  </tbody>\n",
       "</table>\n",
       "</div>"
      ],
      "text/plain": [
       "       인구수 shortName  x  y       면적 광역시도\n",
       "20   63227        과천  7  7   35.813  경기도\n",
       "21  327111        광명  3  3   38.500  경기도\n",
       "22  290210        광주  8  7  431.840  경기도\n",
       "23  175676        구리  9  4   33.300  경기도\n",
       "24  273302        군포  5  8   36.350  경기도"
      ]
     },
     "execution_count": 34,
     "metadata": {},
     "output_type": "execute_result"
    }
   ],
   "source": [
    "#iloc[] 사용\n",
    "#인덱스가 20 부터 25까지 컬럼이 인구수부터 광역시도 까지\n",
    "data.iloc[20:25,1:7]"
   ]
  },
  {
   "cell_type": "code",
   "execution_count": 35,
   "id": "2d5343f3-86a9-4073-bf10-04e5f7025080",
   "metadata": {},
   "outputs": [
    {
     "data": {
      "text/html": [
       "<div>\n",
       "<style scoped>\n",
       "    .dataframe tbody tr th:only-of-type {\n",
       "        vertical-align: middle;\n",
       "    }\n",
       "\n",
       "    .dataframe tbody tr th {\n",
       "        vertical-align: top;\n",
       "    }\n",
       "\n",
       "    .dataframe thead th {\n",
       "        text-align: right;\n",
       "    }\n",
       "</style>\n",
       "<table border=\"1\" class=\"dataframe\">\n",
       "  <thead>\n",
       "    <tr style=\"text-align: right;\">\n",
       "      <th></th>\n",
       "      <th>인구수</th>\n",
       "      <th>광역시도</th>\n",
       "      <th>행정구역</th>\n",
       "    </tr>\n",
       "  </thead>\n",
       "  <tbody>\n",
       "    <tr>\n",
       "      <th>40</th>\n",
       "      <td>915005</td>\n",
       "      <td>경기도</td>\n",
       "      <td>용인시</td>\n",
       "    </tr>\n",
       "    <tr>\n",
       "      <th>55</th>\n",
       "      <td>106388</td>\n",
       "      <td>경상남도</td>\n",
       "      <td>사천시</td>\n",
       "    </tr>\n",
       "    <tr>\n",
       "      <th>60</th>\n",
       "      <td>56734</td>\n",
       "      <td>경상남도</td>\n",
       "      <td>창녕군</td>\n",
       "    </tr>\n",
       "  </tbody>\n",
       "</table>\n",
       "</div>"
      ],
      "text/plain": [
       "       인구수  광역시도 행정구역\n",
       "40  915005   경기도  용인시\n",
       "55  106388  경상남도  사천시\n",
       "60   56734  경상남도  창녕군"
      ]
     },
     "execution_count": 35,
     "metadata": {},
     "output_type": "execute_result"
    }
   ],
   "source": [
    "#loc[] 사용\n",
    "#index가 40,55,60 이고, column이 인구수,광역시도,행정구역\n",
    "data.loc[[40,55,60],['인구수','광역시도','행정구역']]"
   ]
  },
  {
   "cell_type": "code",
   "execution_count": 41,
   "id": "85d5eb01-7d31-4e93-bc05-54c2797e2bed",
   "metadata": {},
   "outputs": [
    {
     "name": "stdout",
     "output_type": "stream",
     "text": [
      "211089.77729257641\n",
      "211090\n",
      "211089.78\n"
     ]
    }
   ],
   "source": [
    "#인구수가 전국평균 보다 작은 지역(인구수,행정구역,광역시도)을 선택해서 결과를 엑셀파일로 저장하기\n",
    "pop_mean_value=data['인구수'].mean()\n",
    "print(pop_mean_value)\n",
    "print(round(pop_mean_value))\n",
    "print(f'{pop_mean_value:.2f}')\n",
    "pop_mean_lt_df = data.loc[data['인구수'] < pop_mean_value,['광역시도','행정구역','인구수']].sort_values(by='인구수',ascending=False)\\\n",
    ".reset_index(drop=True)\n",
    "#excel 파일로 저장\n",
    "pop_mean_lt_df.to_excel('data/평균인구수미만지역.xlsx')"
   ]
  },
  {
   "cell_type": "code",
   "execution_count": 42,
   "id": "642c308f-1cc7-46e2-938d-01dc0449cf5a",
   "metadata": {},
   "outputs": [
    {
     "data": {
      "text/plain": [
       "Index(['Unnamed: 0', '인구수', 'shortName', 'x', 'y', '면적', '광역시도', '행정구역'], dtype='object')"
      ]
     },
     "execution_count": 42,
     "metadata": {},
     "output_type": "execute_result"
    }
   ],
   "source": [
    "# 컬럼명 변경\n",
    "data.columns"
   ]
  },
  {
   "cell_type": "code",
   "execution_count": 46,
   "id": "7632507d-d4e6-40e4-aa23-704ee858df68",
   "metadata": {},
   "outputs": [],
   "source": [
    "# inplace=False 디폴트 설정 변경한 결과를 출력은 하지만 원본객체를 변경하지는 않는다.\n",
    "# inplace=True 원본객체를 변경하고 출력은 하지 않는다. \n",
    "data.rename(columns={'Unnamed: 0':'seq'}, inplace=True)"
   ]
  },
  {
   "cell_type": "code",
   "execution_count": 48,
   "id": "dfa7e632-7460-42b2-9ff9-23ef28838342",
   "metadata": {},
   "outputs": [
    {
     "name": "stdout",
     "output_type": "stream",
     "text": [
      "Index(['seq', '인구수', 'shortName', 'x', 'y', '면적', '광역시도', '행정구역'], dtype='object')\n"
     ]
    },
    {
     "data": {
      "text/html": [
       "<div>\n",
       "<style scoped>\n",
       "    .dataframe tbody tr th:only-of-type {\n",
       "        vertical-align: middle;\n",
       "    }\n",
       "\n",
       "    .dataframe tbody tr th {\n",
       "        vertical-align: top;\n",
       "    }\n",
       "\n",
       "    .dataframe thead th {\n",
       "        text-align: right;\n",
       "    }\n",
       "</style>\n",
       "<table border=\"1\" class=\"dataframe\">\n",
       "  <thead>\n",
       "    <tr style=\"text-align: right;\">\n",
       "      <th></th>\n",
       "      <th>seq</th>\n",
       "      <th>인구수</th>\n",
       "      <th>shortName</th>\n",
       "      <th>x</th>\n",
       "      <th>y</th>\n",
       "      <th>면적</th>\n",
       "      <th>광역시도</th>\n",
       "      <th>행정구역</th>\n",
       "    </tr>\n",
       "  </thead>\n",
       "  <tbody>\n",
       "    <tr>\n",
       "      <th>0</th>\n",
       "      <td>0</td>\n",
       "      <td>202520</td>\n",
       "      <td>강릉</td>\n",
       "      <td>11</td>\n",
       "      <td>4</td>\n",
       "      <td>1040.07</td>\n",
       "      <td>강원도</td>\n",
       "      <td>강릉시</td>\n",
       "    </tr>\n",
       "    <tr>\n",
       "      <th>1</th>\n",
       "      <td>1</td>\n",
       "      <td>25589</td>\n",
       "      <td>고성(강원)</td>\n",
       "      <td>9</td>\n",
       "      <td>0</td>\n",
       "      <td>664.19</td>\n",
       "      <td>강원도</td>\n",
       "      <td>고성군</td>\n",
       "    </tr>\n",
       "    <tr>\n",
       "      <th>2</th>\n",
       "      <td>2</td>\n",
       "      <td>86747</td>\n",
       "      <td>동해</td>\n",
       "      <td>11</td>\n",
       "      <td>5</td>\n",
       "      <td>180.01</td>\n",
       "      <td>강원도</td>\n",
       "      <td>동해시</td>\n",
       "    </tr>\n",
       "  </tbody>\n",
       "</table>\n",
       "</div>"
      ],
      "text/plain": [
       "   seq     인구수 shortName   x  y       면적 광역시도 행정구역\n",
       "0    0  202520        강릉  11  4  1040.07  강원도  강릉시\n",
       "1    1   25589    고성(강원)   9  0   664.19  강원도  고성군\n",
       "2    2   86747        동해  11  5   180.01  강원도  동해시"
      ]
     },
     "execution_count": 48,
     "metadata": {},
     "output_type": "execute_result"
    }
   ],
   "source": [
    "print(data.columns)\n",
    "data.head(3)"
   ]
  },
  {
   "cell_type": "code",
   "execution_count": 52,
   "id": "1e30f564-61e3-4fa9-943c-be9fc4beb61a",
   "metadata": {},
   "outputs": [],
   "source": [
    "#seq 컬럼을 index로 바꾸기\n",
    "data.set_index('seq', inplace=True)"
   ]
  },
  {
   "cell_type": "code",
   "execution_count": 53,
   "id": "b3f57e57-304a-4ba9-8d44-67eaa044dc48",
   "metadata": {},
   "outputs": [
    {
     "data": {
      "text/html": [
       "<div>\n",
       "<style scoped>\n",
       "    .dataframe tbody tr th:only-of-type {\n",
       "        vertical-align: middle;\n",
       "    }\n",
       "\n",
       "    .dataframe tbody tr th {\n",
       "        vertical-align: top;\n",
       "    }\n",
       "\n",
       "    .dataframe thead th {\n",
       "        text-align: right;\n",
       "    }\n",
       "</style>\n",
       "<table border=\"1\" class=\"dataframe\">\n",
       "  <thead>\n",
       "    <tr style=\"text-align: right;\">\n",
       "      <th></th>\n",
       "      <th>인구수</th>\n",
       "      <th>shortName</th>\n",
       "      <th>x</th>\n",
       "      <th>y</th>\n",
       "      <th>면적</th>\n",
       "      <th>광역시도</th>\n",
       "      <th>행정구역</th>\n",
       "    </tr>\n",
       "    <tr>\n",
       "      <th>seq</th>\n",
       "      <th></th>\n",
       "      <th></th>\n",
       "      <th></th>\n",
       "      <th></th>\n",
       "      <th></th>\n",
       "      <th></th>\n",
       "      <th></th>\n",
       "    </tr>\n",
       "  </thead>\n",
       "  <tbody>\n",
       "    <tr>\n",
       "      <th>0</th>\n",
       "      <td>202520</td>\n",
       "      <td>강릉</td>\n",
       "      <td>11</td>\n",
       "      <td>4</td>\n",
       "      <td>1040.07</td>\n",
       "      <td>강원도</td>\n",
       "      <td>강릉시</td>\n",
       "    </tr>\n",
       "    <tr>\n",
       "      <th>1</th>\n",
       "      <td>25589</td>\n",
       "      <td>고성(강원)</td>\n",
       "      <td>9</td>\n",
       "      <td>0</td>\n",
       "      <td>664.19</td>\n",
       "      <td>강원도</td>\n",
       "      <td>고성군</td>\n",
       "    </tr>\n",
       "  </tbody>\n",
       "</table>\n",
       "</div>"
      ],
      "text/plain": [
       "        인구수 shortName   x  y       면적 광역시도 행정구역\n",
       "seq                                            \n",
       "0    202520        강릉  11  4  1040.07  강원도  강릉시\n",
       "1     25589    고성(강원)   9  0   664.19  강원도  고성군"
      ]
     },
     "execution_count": 53,
     "metadata": {},
     "output_type": "execute_result"
    }
   ],
   "source": [
    "data.head(2)"
   ]
  },
  {
   "cell_type": "markdown",
   "id": "698a84dc-52b5-4d4f-b958-c8e81dea880f",
   "metadata": {},
   "source": [
    "#### 상관계수 (Correlation Coefficient)\n",
    "* 인구수와 면적 데이터간에 관련성이 있는지 보기 위해서 상관계수 구하기\n",
    "* 상관계수 값은 -1 ~ 1 사이의 값이며, 0에 가까울 수록 관련성이 낮고, 1에 가까울 수록 관련성이 높다. \n",
    "* 음수는 반비례 (면적이 넓은 반면 인구수는 적은 경우), 양수 비례 (면적이 넓고, 인구수도 높은 경우)\n",
    "* corr() 함수"
   ]
  },
  {
   "cell_type": "code",
   "execution_count": 55,
   "id": "97aaafe9-d264-4a35-94ff-fdacd7fdf406",
   "metadata": {},
   "outputs": [
    {
     "data": {
      "text/plain": [
       "-0.3460351605045768"
      ]
     },
     "execution_count": 55,
     "metadata": {},
     "output_type": "execute_result"
    }
   ],
   "source": [
    "#전국의 면적과 인구수의 상관계수 구하기\n",
    "data['면적'].corr(data['인구수'])"
   ]
  },
  {
   "cell_type": "code",
   "execution_count": 58,
   "id": "a1bf341a-d05c-4038-a4fc-1ff274baf4a4",
   "metadata": {},
   "outputs": [
    {
     "data": {
      "text/plain": [
       "0.6644268188909778"
      ]
     },
     "execution_count": 58,
     "metadata": {},
     "output_type": "execute_result"
    }
   ],
   "source": [
    "#서울의 면적과 인구수의 상관계수 구하기\n",
    "seoul_df = data.loc[data['광역시도'] == '서울특별시']\n",
    "seoul_df['면적'].corr(seoul_df['인구수'])"
   ]
  },
  {
   "cell_type": "code",
   "execution_count": 59,
   "id": "f9b0a118-1eba-4176-951a-10a59edba7fe",
   "metadata": {},
   "outputs": [
    {
     "data": {
      "text/plain": [
       "-0.21572485071590813"
      ]
     },
     "execution_count": 59,
     "metadata": {},
     "output_type": "execute_result"
    }
   ],
   "source": [
    "#경기도의 면적과 인구수의 상관계수 구하기\n",
    "gy_df['면적'].corr(gy_df['인구수'])"
   ]
  },
  {
   "cell_type": "code",
   "execution_count": 63,
   "id": "bed7b75d-7cf3-423c-8d7b-a9f47e77cedc",
   "metadata": {},
   "outputs": [
    {
     "name": "stdout",
     "output_type": "stream",
     "text": [
      "<class 'pandas.core.series.Series'>\n"
     ]
    },
    {
     "data": {
      "text/plain": [
       "인구수           202520\n",
       "shortName         강릉\n",
       "x                 11\n",
       "y                  4\n",
       "면적           1040.07\n",
       "광역시도             강원도\n",
       "행정구역             강릉시\n",
       "Name: 0, dtype: object"
      ]
     },
     "execution_count": 63,
     "metadata": {},
     "output_type": "execute_result"
    }
   ],
   "source": [
    "#인덱스가 0인 행 하나만 선택\n",
    "print(type(data.loc[0]))\n",
    "data.loc[0]"
   ]
  },
  {
   "cell_type": "code",
   "execution_count": 64,
   "id": "b7130503-3fa0-40af-8be8-8cc1e7e52d92",
   "metadata": {},
   "outputs": [
    {
     "name": "stdout",
     "output_type": "stream",
     "text": [
      "<class 'pandas.core.series.Series'>\n"
     ]
    },
    {
     "data": {
      "text/plain": [
       "seq\n",
       "0      1040.07\n",
       "1       664.19\n",
       "2       180.01\n",
       "3      1185.80\n",
       "4       105.25\n",
       "        ...   \n",
       "224     882.47\n",
       "225      81.84\n",
       "226     406.08\n",
       "227     932.51\n",
       "228     983.70\n",
       "Name: 면적, Length: 229, dtype: float64"
      ]
     },
     "execution_count": 64,
     "metadata": {},
     "output_type": "execute_result"
    }
   ],
   "source": [
    "#열 하나만 선택\n",
    "print(type(data['면적']))\n",
    "data['면적']"
   ]
  },
  {
   "cell_type": "markdown",
   "id": "48dbd020-6707-4674-9e68-c29b0afaea85",
   "metadata": {},
   "source": [
    "### GroupBy 기능 사용하기\n",
    "* 광역시도별 인구수의 합계\n",
    "* ~별에 해당하는 컬럼명이나 컬럼값을 groupby() 함수의 인자로 전달한다. \n",
    "* Series 객체의 groupby() 함수는 컬럼의 값을 인자로 전달하고, DataFrame 객체의 groupby() 함수는 컬럼명을 인자로 전달합니다. "
   ]
  },
  {
   "cell_type": "code",
   "execution_count": 68,
   "id": "cb9932f2-c8bb-4d38-9b39-d03baf4afcc2",
   "metadata": {},
   "outputs": [
    {
     "data": {
      "text/plain": [
       "광역시도\n",
       "경기도        11744210\n",
       "서울특별시       9394807\n",
       "부산광역시       3323591\n",
       "경상남도        3144487\n",
       "인천광역시       2766575\n",
       "경상북도        2508964\n",
       "대구광역시       2378450\n",
       "충청남도        1946129\n",
       "전라북도        1739048\n",
       "전라남도        1700563\n",
       "충청북도        1484720\n",
       "대전광역시       1467677\n",
       "광주광역시       1438209\n",
       "강원도         1429438\n",
       "울산광역시       1105585\n",
       "제주특별자치도      575873\n",
       "세종특별자치시      191233\n",
       "Name: 인구수, dtype: int64"
      ]
     },
     "execution_count": 68,
     "metadata": {},
     "output_type": "execute_result"
    }
   ],
   "source": [
    "# Series 객체 사용 - 광역시도별 인구수의 합계 \n",
    "# SeriesGroupBy object\n",
    "data['인구수'].groupby(data['광역시도']).sum().sort_values(ascending=False)"
   ]
  },
  {
   "cell_type": "code",
   "execution_count": 70,
   "id": "2a4d6383-b599-42b3-8296-605ce8c11fb1",
   "metadata": {},
   "outputs": [
    {
     "data": {
      "text/html": [
       "<div>\n",
       "<style scoped>\n",
       "    .dataframe tbody tr th:only-of-type {\n",
       "        vertical-align: middle;\n",
       "    }\n",
       "\n",
       "    .dataframe tbody tr th {\n",
       "        vertical-align: top;\n",
       "    }\n",
       "\n",
       "    .dataframe thead th {\n",
       "        text-align: right;\n",
       "    }\n",
       "</style>\n",
       "<table border=\"1\" class=\"dataframe\">\n",
       "  <thead>\n",
       "    <tr style=\"text-align: right;\">\n",
       "      <th></th>\n",
       "      <th>인구수</th>\n",
       "      <th>x</th>\n",
       "      <th>y</th>\n",
       "      <th>면적</th>\n",
       "    </tr>\n",
       "    <tr>\n",
       "      <th>광역시도</th>\n",
       "      <th></th>\n",
       "      <th></th>\n",
       "      <th></th>\n",
       "      <th></th>\n",
       "    </tr>\n",
       "  </thead>\n",
       "  <tbody>\n",
       "    <tr>\n",
       "      <th>강원도</th>\n",
       "      <td>1429438</td>\n",
       "      <td>173</td>\n",
       "      <td>68</td>\n",
       "      <td>16874.810</td>\n",
       "    </tr>\n",
       "    <tr>\n",
       "      <th>경기도</th>\n",
       "      <td>11744210</td>\n",
       "      <td>182</td>\n",
       "      <td>162</td>\n",
       "      <td>10179.743</td>\n",
       "    </tr>\n",
       "    <tr>\n",
       "      <th>경상남도</th>\n",
       "      <td>3144487</td>\n",
       "      <td>123</td>\n",
       "      <td>313</td>\n",
       "      <td>10437.460</td>\n",
       "    </tr>\n",
       "    <tr>\n",
       "      <th>경상북도</th>\n",
       "      <td>2508964</td>\n",
       "      <td>229</td>\n",
       "      <td>240</td>\n",
       "      <td>19021.850</td>\n",
       "    </tr>\n",
       "    <tr>\n",
       "      <th>광주광역시</th>\n",
       "      <td>1438209</td>\n",
       "      <td>12</td>\n",
       "      <td>99</td>\n",
       "      <td>501.280</td>\n",
       "    </tr>\n",
       "    <tr>\n",
       "      <th>대구광역시</th>\n",
       "      <td>2378450</td>\n",
       "      <td>74</td>\n",
       "      <td>111</td>\n",
       "      <td>885.690</td>\n",
       "    </tr>\n",
       "    <tr>\n",
       "      <th>대전광역시</th>\n",
       "      <td>1467677</td>\n",
       "      <td>23</td>\n",
       "      <td>66</td>\n",
       "      <td>539.640</td>\n",
       "    </tr>\n",
       "    <tr>\n",
       "      <th>부산광역시</th>\n",
       "      <td>3323591</td>\n",
       "      <td>162</td>\n",
       "      <td>276</td>\n",
       "      <td>763.240</td>\n",
       "    </tr>\n",
       "    <tr>\n",
       "      <th>서울특별시</th>\n",
       "      <td>9394807</td>\n",
       "      <td>142</td>\n",
       "      <td>111</td>\n",
       "      <td>605.390</td>\n",
       "    </tr>\n",
       "    <tr>\n",
       "      <th>세종특별자치시</th>\n",
       "      <td>191233</td>\n",
       "      <td>4</td>\n",
       "      <td>11</td>\n",
       "      <td>465.230</td>\n",
       "    </tr>\n",
       "    <tr>\n",
       "      <th>울산광역시</th>\n",
       "      <td>1105585</td>\n",
       "      <td>58</td>\n",
       "      <td>71</td>\n",
       "      <td>980.220</td>\n",
       "    </tr>\n",
       "    <tr>\n",
       "      <th>인천광역시</th>\n",
       "      <td>2766575</td>\n",
       "      <td>13</td>\n",
       "      <td>61</td>\n",
       "      <td>1022.910</td>\n",
       "    </tr>\n",
       "    <tr>\n",
       "      <th>전라남도</th>\n",
       "      <td>1700563</td>\n",
       "      <td>44</td>\n",
       "      <td>438</td>\n",
       "      <td>12008.390</td>\n",
       "    </tr>\n",
       "    <tr>\n",
       "      <th>전라북도</th>\n",
       "      <td>1739048</td>\n",
       "      <td>46</td>\n",
       "      <td>219</td>\n",
       "      <td>7907.220</td>\n",
       "    </tr>\n",
       "    <tr>\n",
       "      <th>제주특별자치도</th>\n",
       "      <td>575873</td>\n",
       "      <td>8</td>\n",
       "      <td>49</td>\n",
       "      <td>1848.480</td>\n",
       "    </tr>\n",
       "    <tr>\n",
       "      <th>충청남도</th>\n",
       "      <td>1946129</td>\n",
       "      <td>39</td>\n",
       "      <td>160</td>\n",
       "      <td>8272.270</td>\n",
       "    </tr>\n",
       "    <tr>\n",
       "      <th>충청북도</th>\n",
       "      <td>1484720</td>\n",
       "      <td>69</td>\n",
       "      <td>124</td>\n",
       "      <td>7397.310</td>\n",
       "    </tr>\n",
       "  </tbody>\n",
       "</table>\n",
       "</div>"
      ],
      "text/plain": [
       "              인구수    x    y         면적\n",
       "광역시도                                  \n",
       "강원도       1429438  173   68  16874.810\n",
       "경기도      11744210  182  162  10179.743\n",
       "경상남도      3144487  123  313  10437.460\n",
       "경상북도      2508964  229  240  19021.850\n",
       "광주광역시     1438209   12   99    501.280\n",
       "대구광역시     2378450   74  111    885.690\n",
       "대전광역시     1467677   23   66    539.640\n",
       "부산광역시     3323591  162  276    763.240\n",
       "서울특별시     9394807  142  111    605.390\n",
       "세종특별자치시    191233    4   11    465.230\n",
       "울산광역시     1105585   58   71    980.220\n",
       "인천광역시     2766575   13   61   1022.910\n",
       "전라남도      1700563   44  438  12008.390\n",
       "전라북도      1739048   46  219   7907.220\n",
       "제주특별자치도    575873    8   49   1848.480\n",
       "충청남도      1946129   39  160   8272.270\n",
       "충청북도      1484720   69  124   7397.310"
      ]
     },
     "execution_count": 70,
     "metadata": {},
     "output_type": "execute_result"
    }
   ],
   "source": [
    "# DataFrame 객체 사용 - 광역시도별 인구수의 합계 \n",
    "# DataFrameGroupBy object\n",
    "data.groupby('광역시도').sum()"
   ]
  },
  {
   "cell_type": "code",
   "execution_count": 72,
   "id": "d4417ed8-48a9-4f81-9d1c-39927938a8b7",
   "metadata": {},
   "outputs": [
    {
     "data": {
      "text/plain": [
       "광역시도\n",
       "강원도         1429438\n",
       "경기도        11744210\n",
       "경상남도        3144487\n",
       "경상북도        2508964\n",
       "광주광역시       1438209\n",
       "대구광역시       2378450\n",
       "대전광역시       1467677\n",
       "부산광역시       3323591\n",
       "서울특별시       9394807\n",
       "세종특별자치시      191233\n",
       "울산광역시       1105585\n",
       "인천광역시       2766575\n",
       "전라남도        1700563\n",
       "전라북도        1739048\n",
       "제주특별자치도      575873\n",
       "충청남도        1946129\n",
       "충청북도        1484720\n",
       "Name: 인구수, dtype: int64"
      ]
     },
     "execution_count": 72,
     "metadata": {},
     "output_type": "execute_result"
    }
   ],
   "source": [
    "data.groupby('광역시도')['인구수'].sum()"
   ]
  },
  {
   "cell_type": "code",
   "execution_count": 75,
   "id": "aba01a3d-68c8-4326-821b-456bf032fdd6",
   "metadata": {},
   "outputs": [],
   "source": [
    "#광역시도별, 행정구역별 인구수의 합계\n",
    "groupby_df = data.groupby(['광역시도','행정구역'])['인구수'].sum()\n",
    "groupby_df.to_excel('data/광역시도별행정구역별인구수의합계.xlsx', sheet_name='인구수')"
   ]
  },
  {
   "cell_type": "markdown",
   "id": "4c4a179f-28e8-487e-afa3-90230d03e32e",
   "metadata": {},
   "source": [
    "#### 엑셀 수치데이터에 콤마찍기"
   ]
  },
  {
   "cell_type": "code",
   "execution_count": 77,
   "id": "f3553fd5-c354-4aaa-8210-61d74fb0ca59",
   "metadata": {},
   "outputs": [],
   "source": [
    "# Create a Pandas Excel writer using XlsxWriter as the engine.\n",
    "writer = pd.ExcelWriter('data/광역시도별인구수의합계1.xlsx', engine='xlsxwriter')\n",
    "\n",
    "# Convert the dataframe to an XlsxWriter Excel object.\n",
    "groupby_df.to_excel(writer, sheet_name='인구수합계')\n",
    "\n",
    "# Get the xlsxwriter workbook and worksheet objects.\n",
    "workbook  = writer.book\n",
    "worksheet = writer.sheets['인구수합계']\n",
    "\n",
    "# Set a currency number format for a column.\n",
    "num_format = workbook.add_format({'num_format': '#,###'})\n",
    "worksheet.set_column('C:C', None, num_format)\n",
    "\n",
    "# Close the Pandas Excel writer and output the Excel file.\n",
    "writer.save()"
   ]
  },
  {
   "cell_type": "code",
   "execution_count": 81,
   "id": "5189cbe5-2e9d-4c93-9504-b2d924be507f",
   "metadata": {},
   "outputs": [],
   "source": [
    "# agg() 함수 사용 - 그룹핑한 데이터를 여러개의 집계함수를 사용해서 새로운 DataFrame 객체 생성하기\n",
    "group_agg_df = data.groupby('광역시도')['인구수'].agg(['max','mean','std']).fillna(0).sort_values(by='std',ascending=False)"
   ]
  },
  {
   "cell_type": "code",
   "execution_count": 83,
   "id": "c6213f61-7bcf-40d8-a96e-51a46fbb3b97",
   "metadata": {},
   "outputs": [
    {
     "data": {
      "text/html": [
       "<style  type=\"text/css\" >\n",
       "</style><table id=\"T_b4430_\" ><thead>    <tr>        <th class=\"blank level0\" ></th>        <th class=\"col_heading level0 col0\" >max</th>        <th class=\"col_heading level0 col1\" >mean</th>        <th class=\"col_heading level0 col2\" >std</th>    </tr>    <tr>        <th class=\"index_name level0\" >광역시도</th>        <th class=\"blank\" ></th>        <th class=\"blank\" ></th>        <th class=\"blank\" ></th>    </tr></thead><tbody>\n",
       "                <tr>\n",
       "                        <th id=\"T_b4430_level0_row0\" class=\"row_heading level0 row0\" >경기도</th>\n",
       "                        <td id=\"T_b4430_row0_col0\" class=\"data row0 col0\" >1125461.00</td>\n",
       "                        <td id=\"T_b4430_row0_col1\" class=\"data row0 col1\" >378845.48</td>\n",
       "                        <td id=\"T_b4430_row0_col2\" class=\"data row0 col2\" >304548.40</td>\n",
       "            </tr>\n",
       "            <tr>\n",
       "                        <th id=\"T_b4430_level0_row1\" class=\"row_heading level0 row1\" >경상남도</th>\n",
       "                        <td id=\"T_b4430_row1_col0\" class=\"data row1 col0\" >1010040.00</td>\n",
       "                        <td id=\"T_b4430_row1_col1\" class=\"data row1 col1\" >174693.72</td>\n",
       "                        <td id=\"T_b4430_row1_col2\" class=\"data row1 col2\" >245796.47</td>\n",
       "            </tr>\n",
       "            <tr>\n",
       "                        <th id=\"T_b4430_level0_row2\" class=\"row_heading level0 row2\" >충청북도</th>\n",
       "                        <td id=\"T_b4430_row2_col0\" class=\"data row2 col0\" >790216.00</td>\n",
       "                        <td id=\"T_b4430_row2_col1\" class=\"data row2 col1\" >134974.55</td>\n",
       "                        <td id=\"T_b4430_row2_col2\" class=\"data row2 col2\" >223460.36</td>\n",
       "            </tr>\n",
       "            <tr>\n",
       "                        <th id=\"T_b4430_level0_row3\" class=\"row_heading level0 row3\" >제주특별자치도</th>\n",
       "                        <td id=\"T_b4430_row3_col0\" class=\"data row3 col0\" >430504.00</td>\n",
       "                        <td id=\"T_b4430_row3_col1\" class=\"data row3 col1\" >287936.50</td>\n",
       "                        <td id=\"T_b4430_row3_col2\" class=\"data row3 col2\" >201620.89</td>\n",
       "            </tr>\n",
       "            <tr>\n",
       "                        <th id=\"T_b4430_level0_row4\" class=\"row_heading level0 row4\" >인천광역시</th>\n",
       "                        <td id=\"T_b4430_row4_col0\" class=\"data row4 col0\" >527153.00</td>\n",
       "                        <td id=\"T_b4430_row4_col1\" class=\"data row4 col1\" >276657.50</td>\n",
       "                        <td id=\"T_b4430_row4_col2\" class=\"data row4 col2\" >199353.60</td>\n",
       "            </tr>\n",
       "            <tr>\n",
       "                        <th id=\"T_b4430_level0_row5\" class=\"row_heading level0 row5\" >대구광역시</th>\n",
       "                        <td id=\"T_b4430_row5_col0\" class=\"data row5 col0\" >584517.00</td>\n",
       "                        <td id=\"T_b4430_row5_col1\" class=\"data row5 col1\" >297306.25</td>\n",
       "                        <td id=\"T_b4430_row5_col2\" class=\"data row5 col2\" >174375.39</td>\n",
       "            </tr>\n",
       "            <tr>\n",
       "                        <th id=\"T_b4430_level0_row6\" class=\"row_heading level0 row6\" >전라북도</th>\n",
       "                        <td id=\"T_b4430_row6_col0\" class=\"data row6 col0\" >630708.00</td>\n",
       "                        <td id=\"T_b4430_row6_col1\" class=\"data row6 col1\" >124217.71</td>\n",
       "                        <td id=\"T_b4430_row6_col2\" class=\"data row6 col2\" >168327.13</td>\n",
       "            </tr>\n",
       "            <tr>\n",
       "                        <th id=\"T_b4430_level0_row7\" class=\"row_heading level0 row7\" >충청남도</th>\n",
       "                        <td id=\"T_b4430_row7_col0\" class=\"data row7 col0\" >584912.00</td>\n",
       "                        <td id=\"T_b4430_row7_col1\" class=\"data row7 col1\" >129741.93</td>\n",
       "                        <td id=\"T_b4430_row7_col2\" class=\"data row7 col2\" >141125.11</td>\n",
       "            </tr>\n",
       "            <tr>\n",
       "                        <th id=\"T_b4430_level0_row8\" class=\"row_heading level0 row8\" >광주광역시</th>\n",
       "                        <td id=\"T_b4430_row8_col0\" class=\"data row8 col0\" >439683.00</td>\n",
       "                        <td id=\"T_b4430_row8_col1\" class=\"data row8 col1\" >287641.80</td>\n",
       "                        <td id=\"T_b4430_row8_col2\" class=\"data row8 col2\" >137076.68</td>\n",
       "            </tr>\n",
       "            <tr>\n",
       "                        <th id=\"T_b4430_level0_row9\" class=\"row_heading level0 row9\" >서울특별시</th>\n",
       "                        <td id=\"T_b4430_row9_col0\" class=\"data row9 col0\" >615487.00</td>\n",
       "                        <td id=\"T_b4430_row9_col1\" class=\"data row9 col1\" >375792.28</td>\n",
       "                        <td id=\"T_b4430_row9_col2\" class=\"data row9 col2\" >125231.25</td>\n",
       "            </tr>\n",
       "            <tr>\n",
       "                        <th id=\"T_b4430_level0_row10\" class=\"row_heading level0 row10\" >경상북도</th>\n",
       "                        <td id=\"T_b4430_row10_col0\" class=\"data row10 col0\" >488395.00</td>\n",
       "                        <td id=\"T_b4430_row10_col1\" class=\"data row10 col1\" >109085.39</td>\n",
       "                        <td id=\"T_b4430_row10_col2\" class=\"data row10 col2\" >124954.74</td>\n",
       "            </tr>\n",
       "            <tr>\n",
       "                        <th id=\"T_b4430_level0_row11\" class=\"row_heading level0 row11\" >대전광역시</th>\n",
       "                        <td id=\"T_b4430_row11_col0\" class=\"data row11 col0\" >475094.00</td>\n",
       "                        <td id=\"T_b4430_row11_col1\" class=\"data row11 col1\" >293535.40</td>\n",
       "                        <td id=\"T_b4430_row11_col2\" class=\"data row11 col2\" >111853.57</td>\n",
       "            </tr>\n",
       "            <tr>\n",
       "                        <th id=\"T_b4430_level0_row12\" class=\"row_heading level0 row12\" >부산광역시</th>\n",
       "                        <td id=\"T_b4430_row12_col0\" class=\"data row12 col0\" >397134.00</td>\n",
       "                        <td id=\"T_b4430_row12_col1\" class=\"data row12 col1\" >207724.44</td>\n",
       "                        <td id=\"T_b4430_row12_col2\" class=\"data row12 col2\" >106246.04</td>\n",
       "            </tr>\n",
       "            <tr>\n",
       "                        <th id=\"T_b4430_level0_row13\" class=\"row_heading level0 row13\" >강원도</th>\n",
       "                        <td id=\"T_b4430_row13_col0\" class=\"data row13 col0\" >313851.00</td>\n",
       "                        <td id=\"T_b4430_row13_col1\" class=\"data row13 col1\" >79413.22</td>\n",
       "                        <td id=\"T_b4430_row13_col2\" class=\"data row13 col2\" >87316.38</td>\n",
       "            </tr>\n",
       "            <tr>\n",
       "                        <th id=\"T_b4430_level0_row14\" class=\"row_heading level0 row14\" >전라남도</th>\n",
       "                        <td id=\"T_b4430_row14_col0\" class=\"data row14 col0\" >263166.00</td>\n",
       "                        <td id=\"T_b4430_row14_col1\" class=\"data row14 col1\" >77298.32</td>\n",
       "                        <td id=\"T_b4430_row14_col2\" class=\"data row14 col2\" >74413.25</td>\n",
       "            </tr>\n",
       "            <tr>\n",
       "                        <th id=\"T_b4430_level0_row15\" class=\"row_heading level0 row15\" >울산광역시</th>\n",
       "                        <td id=\"T_b4430_row15_col0\" class=\"data row15 col0\" >327270.00</td>\n",
       "                        <td id=\"T_b4430_row15_col1\" class=\"data row15 col1\" >221117.00</td>\n",
       "                        <td id=\"T_b4430_row15_col2\" class=\"data row15 col2\" >64163.29</td>\n",
       "            </tr>\n",
       "            <tr>\n",
       "                        <th id=\"T_b4430_level0_row16\" class=\"row_heading level0 row16\" >세종특별자치시</th>\n",
       "                        <td id=\"T_b4430_row16_col0\" class=\"data row16 col0\" >191233.00</td>\n",
       "                        <td id=\"T_b4430_row16_col1\" class=\"data row16 col1\" >191233.00</td>\n",
       "                        <td id=\"T_b4430_row16_col2\" class=\"data row16 col2\" >0.00</td>\n",
       "            </tr>\n",
       "    </tbody></table>"
      ],
      "text/plain": [
       "<pandas.io.formats.style.Styler at 0x16e74ac87c0>"
      ]
     },
     "execution_count": 83,
     "metadata": {},
     "output_type": "execute_result"
    }
   ],
   "source": [
    "# DataFrame 객체의 style 설정\n",
    "group_agg_df.style.format('{0:.2f}')"
   ]
  },
  {
   "cell_type": "markdown",
   "id": "9544a881-f81c-475d-9f4a-8192193684a2",
   "metadata": {},
   "source": [
    "#### 시각화\n",
    "* %matplotlib inline 설정 (jupyter 에서는 show() 함수를 호출하지 않아도 plot이 출력된다)\n",
    "* 한글폰트 설정이 필요함\n",
    "* Plot에 대한 설정은 matplotlib의 함수를 사용하고, Plot을 그려주는 기능은 seaborn()의 함수를 사용합니다. "
   ]
  },
  {
   "cell_type": "code",
   "execution_count": 84,
   "id": "18228019-2040-4212-8279-eb6279b9bd10",
   "metadata": {},
   "outputs": [],
   "source": [
    "%matplotlib inline"
   ]
  },
  {
   "cell_type": "code",
   "execution_count": 86,
   "id": "c6a0c800-1147-43eb-8bdc-d1b9eee92994",
   "metadata": {},
   "outputs": [
    {
     "name": "stdout",
     "output_type": "stream",
     "text": [
      "matplotlib  3.3.4\n",
      "seaborn  0.11.1\n"
     ]
    }
   ],
   "source": [
    "import matplotlib\n",
    "import matplotlib.pyplot as plt\n",
    "import matplotlib.font_manager as fm\n",
    "import seaborn as sns\n",
    "\n",
    "print('matplotlib ', matplotlib.__version__)\n",
    "print('seaborn ', sns.__version__)"
   ]
  },
  {
   "cell_type": "code",
   "execution_count": 89,
   "id": "d4d7e33e-ca1b-41ed-81bd-fbcc3ff9afe7",
   "metadata": {},
   "outputs": [
    {
     "data": {
      "text/plain": [
       "[('Matura MT Script Capitals', 'C:\\\\Windows\\\\Fonts\\\\MATURASC.TTF'),\n",
       " ('Malgun Gothic', 'C:\\\\Windows\\\\Fonts\\\\malgun.ttf'),\n",
       " ('Maiandra GD', 'C:\\\\windows\\\\Fonts\\\\MAIAN.TTF'),\n",
       " ('Malgun Gothic', 'C:\\\\Windows\\\\Fonts\\\\malgunbd.ttf'),\n",
       " ('Malgun Gothic', 'C:\\\\windows\\\\Fonts\\\\malgun.ttf'),\n",
       " ('Malgun Gothic', 'C:\\\\Windows\\\\Fonts\\\\malgunsl.ttf'),\n",
       " ('Malgun Gothic', 'C:\\\\windows\\\\Fonts\\\\malgunsl.ttf'),\n",
       " ('Marlett', 'C:\\\\windows\\\\Fonts\\\\marlett.ttf'),\n",
       " ('Maiandra GD', 'C:\\\\Windows\\\\Fonts\\\\MAIAN.TTF'),\n",
       " ('Magic R', 'C:\\\\windows\\\\Fonts\\\\HMKMMAG.TTF'),\n",
       " ('Matura MT Script Capitals', 'C:\\\\windows\\\\Fonts\\\\MATURASC.TTF'),\n",
       " ('Magic R', 'C:\\\\Windows\\\\Fonts\\\\HMKMMAG.TTF'),\n",
       " ('Magneto', 'C:\\\\Windows\\\\Fonts\\\\MAGNETOB.TTF'),\n",
       " ('Malgun Gothic', 'C:\\\\windows\\\\Fonts\\\\malgunbd.ttf'),\n",
       " ('Magneto', 'C:\\\\windows\\\\Fonts\\\\MAGNETOB.TTF')]"
      ]
     },
     "execution_count": 89,
     "metadata": {},
     "output_type": "execute_result"
    }
   ],
   "source": [
    "# 폰트이름과 폰트파일 정보 출력 \n",
    "[ (font.name, font.fname) for font in fm.fontManager.ttflist if 'Ma' in font.name]"
   ]
  },
  {
   "cell_type": "code",
   "execution_count": 91,
   "id": "45e78875-990a-45e0-a288-decdcadc3c15",
   "metadata": {},
   "outputs": [],
   "source": [
    "# font name을 알고 있다면 생략가능\n",
    "#한글폰트 path 설정\n",
    "font_path = 'C:\\\\windows\\\\Fonts\\\\malgun.ttf'\n",
    "#font의 파일정보로 font name 을 알아내기\n",
    "font_prop = fm.FontProperties(fname=font_path).get_name()\n",
    "\n",
    "# matplotlib의 rc(run command) 함수를 사용해서 font name 설정\n",
    "matplotlib.rc('font', family=font_prop)"
   ]
  },
  {
   "cell_type": "markdown",
   "id": "17613766-c121-4ff1-b1d6-62acd2341d60",
   "metadata": {},
   "source": [
    "#### Figure, Axes, Plot \n",
    "* Axes는 Plot이 실제 그려지는 공간\n",
    "* Figure는 Axes 보다 더 상위의 공간\n",
    "  : Figure을 여러개의 Axes로 분할할 수 있다.\n",
    "* seaborn의 barplot() 함수(막대그래프) 사용  "
   ]
  },
  {
   "cell_type": "code",
   "execution_count": 92,
   "id": "96d0989b-4996-4cff-a5eb-f1f456cf8e56",
   "metadata": {},
   "outputs": [
    {
     "data": {
      "text/html": [
       "<div>\n",
       "<style scoped>\n",
       "    .dataframe tbody tr th:only-of-type {\n",
       "        vertical-align: middle;\n",
       "    }\n",
       "\n",
       "    .dataframe tbody tr th {\n",
       "        vertical-align: top;\n",
       "    }\n",
       "\n",
       "    .dataframe thead th {\n",
       "        text-align: right;\n",
       "    }\n",
       "</style>\n",
       "<table border=\"1\" class=\"dataframe\">\n",
       "  <thead>\n",
       "    <tr style=\"text-align: right;\">\n",
       "      <th></th>\n",
       "      <th>인구수</th>\n",
       "      <th>shortName</th>\n",
       "      <th>x</th>\n",
       "      <th>y</th>\n",
       "      <th>면적</th>\n",
       "      <th>광역시도</th>\n",
       "      <th>행정구역</th>\n",
       "    </tr>\n",
       "    <tr>\n",
       "      <th>seq</th>\n",
       "      <th></th>\n",
       "      <th></th>\n",
       "      <th></th>\n",
       "      <th></th>\n",
       "      <th></th>\n",
       "      <th></th>\n",
       "      <th></th>\n",
       "    </tr>\n",
       "  </thead>\n",
       "  <tbody>\n",
       "    <tr>\n",
       "      <th>124</th>\n",
       "      <td>526157</td>\n",
       "      <td>서울강남</td>\n",
       "      <td>6</td>\n",
       "      <td>7</td>\n",
       "      <td>39.5</td>\n",
       "      <td>서울특별시</td>\n",
       "      <td>강남구</td>\n",
       "    </tr>\n",
       "    <tr>\n",
       "      <th>125</th>\n",
       "      <td>432028</td>\n",
       "      <td>서울강동</td>\n",
       "      <td>8</td>\n",
       "      <td>5</td>\n",
       "      <td>24.6</td>\n",
       "      <td>서울특별시</td>\n",
       "      <td>강동구</td>\n",
       "    </tr>\n",
       "    <tr>\n",
       "      <th>126</th>\n",
       "      <td>310292</td>\n",
       "      <td>서울강북</td>\n",
       "      <td>5</td>\n",
       "      <td>2</td>\n",
       "      <td>23.6</td>\n",
       "      <td>서울특별시</td>\n",
       "      <td>강북구</td>\n",
       "    </tr>\n",
       "  </tbody>\n",
       "</table>\n",
       "</div>"
      ],
      "text/plain": [
       "        인구수 shortName  x  y    면적   광역시도 행정구역\n",
       "seq                                          \n",
       "124  526157      서울강남  6  7  39.5  서울특별시  강남구\n",
       "125  432028      서울강동  8  5  24.6  서울특별시  강동구\n",
       "126  310292      서울강북  5  2  23.6  서울특별시  강북구"
      ]
     },
     "execution_count": 92,
     "metadata": {},
     "output_type": "execute_result"
    }
   ],
   "source": [
    "seoul_df.head(3)"
   ]
  },
  {
   "cell_type": "code",
   "execution_count": 99,
   "id": "9af67a20-e56d-407b-997a-d3cbd3211ad7",
   "metadata": {},
   "outputs": [
    {
     "name": "stdout",
     "output_type": "stream",
     "text": [
      "Figure(1296x864)\n",
      "AxesSubplot(0.125,0.536818;0.775x0.343182)\n",
      "AxesSubplot(0.125,0.125;0.775x0.343182)\n"
     ]
    },
    {
     "data": {
      "text/plain": [
       "<AxesSubplot:xlabel='행정구역', ylabel='면적'>"
      ]
     },
     "execution_count": 99,
     "metadata": {},
     "output_type": "execute_result"
    },
    {
     "data": {
      "image/png": "[encoded data removed]",
      "text/plain": [
       "<Figure size 1296x864 with 2 Axes>"
      ]
     },
     "metadata": {
      "needs_background": "light"
     },
     "output_type": "display_data"
    }
   ],
   "source": [
    "figure, (axes1,axes2) = plt.subplots(nrows=2, ncols=1)\n",
    "figure.set_size_inches(18,12)\n",
    "print(figure)\n",
    "print(axes1)\n",
    "print(axes2)\n",
    "sns.barplot(x='행정구역', y='인구수', data=seoul_df.sort_values(by='인구수',ascending=False), ax=axes1)\n",
    "sns.barplot(x='행정구역', y='면적', data=seoul_df.sort_values(by='면적',ascending=False), ax=axes2)"
   ]
  },
  {
   "cell_type": "code",
   "execution_count": null,
   "id": "473bad86-19b7-46d9-9a5e-214825981ef2",
   "metadata": {},
   "outputs": [],
   "source": [
    "# 광역시도 이름을 인자로 받아서 인구수와 면적을 그려주는 함수\n",
    "def show_pop_area(sido_name):\n",
    "    sido_df = data.loc[data['광역시도'] == sido_name]\n",
    "    figure, (axes1,axes2) = plt.subplots(nrows=2, ncols=1)\n",
    "    figure.set_size_inches(18,12)\n",
    "    sns.barplot(x='행정구역', y='인구수', data=sido_df.sort_values(by='인구수',ascending=False), ax=axes1)\n",
    "    sns.barplot(x='행정구역', y='면적', data=sido_df.sort_values(by='면적',ascending=False), ax=axes2)"
   ]
  }
 ],
 "metadata": {
  "kernelspec": {
   "display_name": "Python 3",
   "language": "python",
   "name": "python3"
  },
  "language_info": {
   "codemirror_mode": {
    "name": "ipython",
    "version": 3
   },
   "file_extension": ".py",
   "mimetype": "text/x-python",
   "name": "python",
   "nbconvert_exporter": "python",
   "pygments_lexer": "ipython3",
   "version": "3.8.8"
  }
 },
 "nbformat": 4,
 "nbformat_minor": 5
}
