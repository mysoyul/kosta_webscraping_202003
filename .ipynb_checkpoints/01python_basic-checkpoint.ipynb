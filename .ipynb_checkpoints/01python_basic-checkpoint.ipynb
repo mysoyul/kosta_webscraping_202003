{
 "cells": [
  {
   "cell_type": "markdown",
   "id": "b40e9881-4488-4676-9dd4-1e909049d354",
   "metadata": {},
   "source": [
    "### 함수선언\n",
    "* 인자를 2개 받아서 연산하기\n",
    "* 셀실행 단축키 \n",
    " 1. ctrl + enter : 셀 실행 만\n",
    " 2. shift + enter : 셀 실행 + 커서 아래로 \n",
    " 3. alt + enter : 셀 실행 + 하위 셀 추가\n",
    " 4. 셀의 유형 변경하는 단축키 ESC + m (마크다운) , ESC + y (코드)"
   ]
  },
  {
   "cell_type": "code",
   "execution_count": 1,
   "id": "0d66a055-316e-4772-adba-b58139167a30",
   "metadata": {},
   "outputs": [],
   "source": [
    "def add(n1, n2):\n",
    "    return n1 + n2"
   ]
  },
  {
   "cell_type": "code",
   "execution_count": 2,
   "id": "6b8a09ba-183b-483a-a90b-e95afb4c3b66",
   "metadata": {},
   "outputs": [
    {
     "data": {
      "text/plain": [
       "function"
      ]
     },
     "execution_count": 2,
     "metadata": {},
     "output_type": "execute_result"
    }
   ],
   "source": [
    "type(add)"
   ]
  },
  {
   "cell_type": "code",
   "execution_count": 6,
   "id": "8c13be3d-800d-4040-a773-982a841cba30",
   "metadata": {},
   "outputs": [
    {
     "data": {
      "text/plain": [
       "30"
      ]
     },
     "execution_count": 6,
     "metadata": {},
     "output_type": "execute_result"
    }
   ],
   "source": [
    "add(10,20)"
   ]
  },
  {
   "cell_type": "markdown",
   "id": "3e1e8854-9261-4846-a5ba-86e81a1facf4",
   "metadata": {},
   "source": [
    "\\begin{equation}\n",
    "e^x=\\sum_{i=0}^\\infty \\frac{1}{i!}x^i\n",
    "\\end{equation}"
   ]
  },
  {
   "cell_type": "markdown",
   "id": "e1703e27-2672-4242-9ed7-832a4e1c132b",
   "metadata": {},
   "source": [
    "| This | is   |\n",
    "|------|------|\n",
    "|   a  | table|"
   ]
  },
  {
   "cell_type": "code",
   "execution_count": 18,
   "id": "30da37fc-34f6-4aec-917d-472897c94e9b",
   "metadata": {},
   "outputs": [
    {
     "name": "stdout",
     "output_type": "stream",
     "text": [
      "[0, 4, 16, 36, 64]\n"
     ]
    }
   ],
   "source": [
    "squares = []\n",
    "for i in range(10):   \n",
    "    if i % 2 == 0:\n",
    "        squares.append(i * i)\n",
    "\n",
    "print(squares)"
   ]
  },
  {
   "cell_type": "code",
   "execution_count": 19,
   "id": "3a3a2971-585d-4b14-a908-3c6d8e9ec9d6",
   "metadata": {},
   "outputs": [
    {
     "data": {
      "text/plain": [
       "[0, 4, 16, 36, 64]"
      ]
     },
     "execution_count": 19,
     "metadata": {},
     "output_type": "execute_result"
    }
   ],
   "source": [
    "# list comprehension\n",
    "\n",
    "squares2 = [i*i for i in range(10) if i % 2 == 0]\n",
    "squares2"
   ]
  },
  {
   "cell_type": "markdown",
   "id": "943492dc-2f57-4a4a-9e16-89ed2c072311",
   "metadata": {},
   "source": [
    "### 파이썬의 자료구조\n",
    "* Dict { } : key=value\n",
    "* List [ ] : 배열\n",
    "* Tuple ( ) : Read Only 배열\n",
    "* Set  : 중복을 허용하지 않는 배열"
   ]
  },
  {
   "cell_type": "code",
   "execution_count": 53,
   "id": "78ddd84a-182d-4256-8205-c1c644d2629c",
   "metadata": {},
   "outputs": [],
   "source": [
    "my_dict = {'name':'파이썬'}\n",
    "my_dict2 = dict()"
   ]
  },
  {
   "cell_type": "code",
   "execution_count": 54,
   "id": "5c854285-4b2e-46fd-9ef9-5cc6f61a3a90",
   "metadata": {},
   "outputs": [
    {
     "name": "stdout",
     "output_type": "stream",
     "text": [
      "<class 'dict'> <class 'dict'>\n"
     ]
    }
   ],
   "source": [
    "print(type(my_dict), type(my_dict2))"
   ]
  },
  {
   "cell_type": "code",
   "execution_count": 55,
   "id": "99d1bf59-d238-4cd4-b824-da01564299aa",
   "metadata": {},
   "outputs": [
    {
     "name": "stdout",
     "output_type": "stream",
     "text": [
      "파이썬\n"
     ]
    }
   ],
   "source": [
    "if 'name' in my_dict:\n",
    "    print(my_dict['name'])    \n",
    "else:\n",
    "    print('key not found')"
   ]
  },
  {
   "cell_type": "code",
   "execution_count": 42,
   "id": "7d151ba9-7b39-4268-8b22-9643c594706c",
   "metadata": {},
   "outputs": [
    {
     "name": "stdout",
     "output_type": "stream",
     "text": [
      "None\n",
      "key not found\n"
     ]
    }
   ],
   "source": [
    "value = my_dict.get('name1')\n",
    "print(value)\n",
    "if value is None:\n",
    "    print('key not found')\n",
    "else:\n",
    "    print(value)"
   ]
  },
  {
   "cell_type": "code",
   "execution_count": 44,
   "id": "83092b2a-4795-4348-9293-88179032a782",
   "metadata": {},
   "outputs": [
    {
     "name": "stdout",
     "output_type": "stream",
     "text": [
      "{'name': '파이썬', 'addr': '주소'}\n"
     ]
    }
   ],
   "source": [
    "my_dict['addr']='주소'\n",
    "print(my_dict)"
   ]
  },
  {
   "cell_type": "code",
   "execution_count": 56,
   "id": "58f48060-9932-4101-a3e7-6822d7fdf7ac",
   "metadata": {},
   "outputs": [
    {
     "name": "stdout",
     "output_type": "stream",
     "text": [
      "name = 파이썬\n"
     ]
    }
   ],
   "source": [
    "for key,val in my_dict.items():\n",
    "    print(f'{key} = {val}')"
   ]
  },
  {
   "cell_type": "code",
   "execution_count": 59,
   "id": "ca095b28-4dd8-4fbd-9045-4b213505fa78",
   "metadata": {},
   "outputs": [
    {
     "data": {
      "text/plain": [
       "['aa', 'bb', 'cc']"
      ]
     },
     "execution_count": 59,
     "metadata": {},
     "output_type": "execute_result"
    }
   ],
   "source": [
    "my_list = ['aa','bb']\n",
    "my_list.append('cc')\n",
    "my_list"
   ]
  },
  {
   "cell_type": "code",
   "execution_count": 61,
   "id": "22026fe9-b8f3-477f-8f68-b55871034cea",
   "metadata": {},
   "outputs": [
    {
     "name": "stdout",
     "output_type": "stream",
     "text": [
      "<class 'tuple'>\n"
     ]
    }
   ],
   "source": [
    "my_tuple = ('aa','bb')\n",
    "print(type(my_tuple))"
   ]
  },
  {
   "cell_type": "code",
   "execution_count": 64,
   "id": "59c196fe-8cc3-47ea-9e21-253b5775852d",
   "metadata": {},
   "outputs": [
    {
     "name": "stdout",
     "output_type": "stream",
     "text": [
      "<class 'int'>\n",
      "<class 'tuple'>\n"
     ]
    }
   ],
   "source": [
    "value = (1)\n",
    "print(type(value))\n",
    "\n",
    "value2 = (1,)\n",
    "print(type(value2))"
   ]
  },
  {
   "cell_type": "code",
   "execution_count": 65,
   "id": "42490246-86d4-4347-8838-c25861c41acf",
   "metadata": {},
   "outputs": [
    {
     "data": {
      "text/plain": [
       "{1, 2, 3, 5}"
      ]
     },
     "execution_count": 65,
     "metadata": {},
     "output_type": "execute_result"
    }
   ],
   "source": [
    "my_set = set([1,2,3,3,5,5])\n",
    "my_set"
   ]
  }
 ],
 "metadata": {
  "kernelspec": {
   "display_name": "Python 3",
   "language": "python",
   "name": "python3"
  },
  "language_info": {
   "codemirror_mode": {
    "name": "ipython",
    "version": 3
   },
   "file_extension": ".py",
   "mimetype": "text/x-python",
   "name": "python",
   "nbconvert_exporter": "python",
   "pygments_lexer": "ipython3",
   "version": "3.8.8"
  }
 },
 "nbformat": 4,
 "nbformat_minor": 5
}
