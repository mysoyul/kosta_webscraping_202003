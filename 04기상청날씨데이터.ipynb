{
 "cells": [
  {
   "cell_type": "markdown",
   "id": "38d9dc1b-d5f0-4f99-9040-7dea2f777ed9",
   "metadata": {},
   "source": [
    "### 기상청 날씨 데이터 파싱\n",
    "* BeautifulSoup의 find(), find_all(), select() , select_one() 비교 \n",
    "* 파싱한 데이터를 dict, list에 저장\n",
    "* 자료구조에 저장된 데이터를 json 파일로 저장하기"
   ]
  },
  {
   "cell_type": "code",
   "execution_count": null,
   "id": "5c5f94f8-ec47-45cc-a585-2e4c9b9810c8",
   "metadata": {},
   "outputs": [],
   "source": [
    "import requests"
   ]
  }
 ],
 "metadata": {
  "kernelspec": {
   "display_name": "Python 3",
   "language": "python",
   "name": "python3"
  },
  "language_info": {
   "codemirror_mode": {
    "name": "ipython",
    "version": 3
   },
   "file_extension": ".py",
   "mimetype": "text/x-python",
   "name": "python",
   "nbconvert_exporter": "python",
   "pygments_lexer": "ipython3",
   "version": "3.8.8"
  }
 },
 "nbformat": 4,
 "nbformat_minor": 5
}
