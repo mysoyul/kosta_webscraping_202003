{
 "cells": [
  {
   "cell_type": "markdown",
   "id": "38d9dc1b-d5f0-4f99-9040-7dea2f777ed9",
   "metadata": {},
   "source": [
    "### 기상청 날씨 데이터 파싱\n",
    "* BeautifulSoup의 find(), find_all(), select() , select_one() 비교 \n",
    "* 파싱한 데이터를 dict, list에 저장\n",
    "* 자료구조에 저장된 데이터를 json 파일로 저장하기"
   ]
  },
  {
   "cell_type": "code",
   "execution_count": 7,
   "id": "5c5f94f8-ec47-45cc-a585-2e4c9b9810c8",
   "metadata": {},
   "outputs": [
    {
     "name": "stdout",
     "output_type": "stream",
     "text": [
      "200\n",
      "<class 'bs4.element.Tag'> <title>기상청 육상 중기예보</title>\n",
      "<class 'bs4.element.ResultSet'> [<title>기상청 육상 중기예보</title>, <title>전국 육상 중기예보 - 2022년 03월 14일 (월)요일 06:00 발표</title>, <title>전국 육상중기예보</title>]\n",
      "==find()  <class 'bs4.element.Tag'>\n",
      "==select_one()  <class 'bs4.element.Tag'>\n",
      "==find_all()  <class 'bs4.element.ResultSet'>\n",
      "==select()  <class 'bs4.element.ResultSet'>\n"
     ]
    }
   ],
   "source": [
    "import requests\n",
    "from bs4 import BeautifulSoup\n",
    "\n",
    "url = 'http://www.kma.go.kr/weather/forecast/mid-term-rss3.jsp'\n",
    "\n",
    "res = requests.get(url)\n",
    "print(res.status_code)\n",
    "\n",
    "if res.ok:\n",
    "    soup = BeautifulSoup(res.text, 'html.parser')\n",
    "    \n",
    "    title_tag = soup.find('title')\n",
    "    print(type(title_tag), title_tag)\n",
    "    \n",
    "    title_all_tag = soup.find_all('title')\n",
    "    print(type(title_all_tag), title_all_tag)\n",
    "    \n",
    "    location_tag = soup.find('location', attrs={'wl_ver':3})\n",
    "    print('==find() ', type(location_tag))\n",
    "\n",
    "    location_tag2 = soup.select_one(\"location[wl_ver='3']\")\n",
    "    print('==select_one() ',type(location_tag2))\n",
    "\n",
    "    loc_tag_all = soup.findAll('location', attrs={'wl_ver':3})\n",
    "    print('==find_all() ', type(loc_tag_all))\n",
    "\n",
    "    loc_tag_all2 = soup.select(\"location[wl_ver='3']\")\n",
    "    print('==select() ', type(loc_tag_all2))"
   ]
  },
  {
   "cell_type": "code",
   "execution_count": 10,
   "id": "596af4b3-0b9f-49d6-8d98-8a87baace1ab",
   "metadata": {},
   "outputs": [
    {
     "name": "stdout",
     "output_type": "stream",
     "text": [
      "{'province': '서울ㆍ인천ㆍ경기도', 'city': '서울', 'datas': [{'mode': 'A02', 'tmEf': '2022-03-17 00:00', 'wf': '구름많음', 'tmn': '7', 'tmx': '14'}, {'mode': 'A02', 'tmEf': '2022-03-17 12:00', 'wf': '흐리고 비', 'tmn': '7', 'tmx': '14'}, {'mode': 'A02', 'tmEf': '2022-03-18 00:00', 'wf': '흐리고 비', 'tmn': '6', 'tmx': '13'}, {'mode': 'A02', 'tmEf': '2022-03-18 12:00', 'wf': '흐림', 'tmn': '6', 'tmx': '13'}, {'mode': 'A02', 'tmEf': '2022-03-19 00:00', 'wf': '흐림', 'tmn': '3', 'tmx': '9'}, {'mode': 'A02', 'tmEf': '2022-03-19 12:00', 'wf': '흐림', 'tmn': '3', 'tmx': '9'}, {'mode': 'A02', 'tmEf': '2022-03-20 00:00', 'wf': '구름많음', 'tmn': '1', 'tmx': '9'}, {'mode': 'A02', 'tmEf': '2022-03-20 12:00', 'wf': '맑음', 'tmn': '1', 'tmx': '9'}, {'mode': 'A02', 'tmEf': '2022-03-21 00:00', 'wf': '맑음', 'tmn': '1', 'tmx': '10'}, {'mode': 'A02', 'tmEf': '2022-03-21 12:00', 'wf': '구름많음', 'tmn': '1', 'tmx': '10'}, {'mode': 'A01', 'tmEf': '2022-03-22 00:00', 'wf': '맑음', 'tmn': '1', 'tmx': '10'}, {'mode': 'A01', 'tmEf': '2022-03-23 00:00', 'wf': '맑음', 'tmn': '2', 'tmx': '11'}, {'mode': 'A01', 'tmEf': '2022-03-24 00:00', 'wf': '구름많음', 'tmn': '2', 'tmx': '11'}]}\n"
     ]
    }
   ],
   "source": [
    "'''\n",
    "<location wl_ver=\"3\">\n",
    "    <province>서울ㆍ인천ㆍ경기도</province>\n",
    "    <city>서울</city>\n",
    "    <data>\n",
    "        <mode>A02</mode>\n",
    "        <tmEf>2022-01-31 00:00</tmEf>\n",
    "        <wf>맑음</wf>\n",
    "        <tmn>-6</tmn>\n",
    "        <tmx>4</tmx>\n",
    "        <reliability/>\n",
    "        <rnSt>0</rnSt>\n",
    "    </data>\n",
    "    <data>\n",
    "        <mode>A02</mode>\n",
    "        <tmEf>2022-01-31 12:00</tmEf>\n",
    "        <wf>구름많음</wf>\n",
    "        <tmn>-6</tmn>\n",
    "        <tmx>4</tmx>\n",
    "        <reliability/>\n",
    "        <rnSt>40</rnSt>\n",
    "    </data>\n",
    "</location>\n",
    "{\n",
    "  \"province\":\"서울ㆍ인천ㆍ경기도\",\n",
    "   \"city\":\"서울\",\n",
    "   \"datas\":[{\"modev:”A02”,”tmEf”:”2022-01-31 00:00”,”wf”:”맑음”},\n",
    "          {“mode”:”A02”,”tmEf”:”2022-01-31 12:00”,”wf”:”구름많음”},{},{}]\n",
    "}\n",
    "\n",
    "'''\n",
    "import requests\n",
    "from bs4 import BeautifulSoup\n",
    "\n",
    "url = 'http://www.kma.go.kr/weather/forecast/mid-term-rss3.jsp'\n",
    "\n",
    "res = requests.get(url)\n",
    "if res.ok:\n",
    "    soup = BeautifulSoup(res.text, 'html.parser')\n",
    "    location_tag = soup.find('location', attrs={'wl_ver':3})\n",
    "    location_dict = {} #dict()\n",
    "\n",
    "    location_dict['province'] = location_tag.find('province').text\n",
    "    location_dict['city'] = location_tag.find('city').text\n",
    "\n",
    "    data_tags = location_tag.find_all('data')\n",
    "    data_list = []\n",
    "    for data_tag in data_tags:\n",
    "        data_dict = {}\n",
    "        data_dict['mode'] = data_tag.find('mode').text\n",
    "        data_dict['tmEf'] = data_tag.find('tmef').text\n",
    "        data_dict['wf'] = data_tag.find('wf').text\n",
    "        data_dict['tmn'] = data_tag.find('tmn').text\n",
    "        data_dict['tmx'] = data_tag.find('tmx').text\n",
    "        data_list.append(data_dict)\n",
    "\n",
    "    location_dict['datas'] = data_list\n",
    "    print(location_dict)"
   ]
  },
  {
   "cell_type": "markdown",
   "id": "097bc9a5-a161-4a0b-8b38-12cc635f75d1",
   "metadata": {},
   "source": [
    "### 전국날씨 데이터 파싱"
   ]
  },
  {
   "cell_type": "code",
   "execution_count": 16,
   "id": "e24a9c09-0cd9-40ef-aeba-f5a5f62b09ad",
   "metadata": {},
   "outputs": [
    {
     "name": "stdout",
     "output_type": "stream",
     "text": [
      "41\n"
     ]
    }
   ],
   "source": [
    "import requests\n",
    "from bs4 import BeautifulSoup\n",
    "\n",
    "url = 'http://www.kma.go.kr/weather/forecast/mid-term-rss3.jsp'\n",
    "\n",
    "res = requests.get(url)\n",
    "if res.ok:\n",
    "    soup = BeautifulSoup(res.text, 'html.parser')\n",
    "    location_tags = soup.find_all('location', attrs={'wl_ver':3})\n",
    "    print(len(location_tags))\n",
    "    \n",
    "    # 41개의 location 태그들을 저장할 리스트 선언    \n",
    "    location_list = list()\n",
    "    for location_tag in location_tags:\n",
    "        # 1개 locaiton 태그 하나를 저장할 딕셔너리 선언\n",
    "        location_dict = {} #dict()\n",
    "        location_dict['province'] = location_tag.find('province').text\n",
    "        location_dict['city'] = location_tag.find('city').text\n",
    "        \n",
    "        data_tags = location_tag.find_all('data')\n",
    "        # 1개의 location 하위에 있는 12개의 data 태그들을 저장할 리스트 선언\n",
    "        data_list = []\n",
    "        for data_tag in data_tags:\n",
    "            # 1개의 data 태그 하나를 저장할 딕셔너리 선언\n",
    "            data_dict = {}\n",
    "            data_dict['mode'] = data_tag.find('mode').text\n",
    "            data_dict['tmEf'] = data_tag.find('tmef').text\n",
    "            data_dict['wf'] = data_tag.find('wf').text\n",
    "            data_dict['tmn'] = data_tag.find('tmn').text\n",
    "            data_dict['tmx'] = data_tag.find('tmx').text\n",
    "            data_list.append(data_dict)\n",
    "\n",
    "        location_dict['datas'] = data_list\n",
    "\n",
    "        location_list.append(location_dict)\n",
    "\n",
    "#location_list"
   ]
  },
  {
   "cell_type": "markdown",
   "id": "7595656a-a252-43cc-b001-0a1d21a56308",
   "metadata": {},
   "source": [
    "### Json 파일로 저장하기"
   ]
  },
  {
   "cell_type": "code",
   "execution_count": 20,
   "id": "c0c4dcc1-f65c-4f94-8514-1bf3e0654e57",
   "metadata": {},
   "outputs": [],
   "source": [
    "import json\n",
    "\n",
    "with open('data/weather.json','w', encoding='utf-8') as file:\n",
    "    json.dump(location_list, file)"
   ]
  },
  {
   "cell_type": "code",
   "execution_count": null,
   "id": "c771f345-32da-49c7-b860-ada003a0e1e9",
   "metadata": {},
   "outputs": [],
   "source": []
  }
 ],
 "metadata": {
  "kernelspec": {
   "display_name": "Python 3",
   "language": "python",
   "name": "python3"
  },
  "language_info": {
   "codemirror_mode": {
    "name": "ipython",
    "version": 3
   },
   "file_extension": ".py",
   "mimetype": "text/x-python",
   "name": "python",
   "nbconvert_exporter": "python",
   "pygments_lexer": "ipython3",
   "version": "3.8.8"
  }
 },
 "nbformat": 4,
 "nbformat_minor": 5
}
