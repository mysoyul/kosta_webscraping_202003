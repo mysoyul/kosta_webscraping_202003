{
 "cells": [
  {
   "cell_type": "markdown",
   "id": "4cd4226c-21e5-45e1-a98a-3c1c4025a55f",
   "metadata": {},
   "source": [
    "#### 행정구역 정보 읽고, 분석하기\n",
    "1. read_csv() 함수로 csv file 읽기\n",
    "2. loc 과 iloc를 사용해서 특정행과 열을 선택하기\n",
    "3. 컬럼명 변경하기\n",
    "4. 상관관계 분석 (인구수와 면적간의 상관관계)\n",
    "5. 시각화"
   ]
  },
  {
   "cell_type": "code",
   "execution_count": 1,
   "id": "85356de6-dda0-484c-b4dd-5d1e5482fc3d",
   "metadata": {},
   "outputs": [
    {
     "name": "stdout",
     "output_type": "stream",
     "text": [
      "1.2.4\n"
     ]
    }
   ],
   "source": [
    "import pandas as pd\n",
    "\n",
    "print(pd.__version__)"
   ]
  },
  {
   "cell_type": "code",
   "execution_count": 2,
   "id": "24c91468-5a43-4c1b-a1c1-1b5c8ba00650",
   "metadata": {},
   "outputs": [
    {
     "name": "stdout",
     "output_type": "stream",
     "text": [
      "<class 'pandas.core.frame.DataFrame'>\n",
      "(229, 8)\n"
     ]
    }
   ],
   "source": [
    "data = pd.read_csv('data/data_draw_korea.csv')\n",
    "print(type(data))\n",
    "print(data.shape)"
   ]
  },
  {
   "cell_type": "code",
   "execution_count": 3,
   "id": "23bde704-c2f2-4f46-a8cc-702595badb18",
   "metadata": {},
   "outputs": [
    {
     "data": {
      "text/html": [
       "<div>\n",
       "<style scoped>\n",
       "    .dataframe tbody tr th:only-of-type {\n",
       "        vertical-align: middle;\n",
       "    }\n",
       "\n",
       "    .dataframe tbody tr th {\n",
       "        vertical-align: top;\n",
       "    }\n",
       "\n",
       "    .dataframe thead th {\n",
       "        text-align: right;\n",
       "    }\n",
       "</style>\n",
       "<table border=\"1\" class=\"dataframe\">\n",
       "  <thead>\n",
       "    <tr style=\"text-align: right;\">\n",
       "      <th></th>\n",
       "      <th>Unnamed: 0</th>\n",
       "      <th>인구수</th>\n",
       "      <th>shortName</th>\n",
       "      <th>x</th>\n",
       "      <th>y</th>\n",
       "      <th>면적</th>\n",
       "      <th>광역시도</th>\n",
       "      <th>행정구역</th>\n",
       "    </tr>\n",
       "  </thead>\n",
       "  <tbody>\n",
       "    <tr>\n",
       "      <th>0</th>\n",
       "      <td>0</td>\n",
       "      <td>202520</td>\n",
       "      <td>강릉</td>\n",
       "      <td>11</td>\n",
       "      <td>4</td>\n",
       "      <td>1040.07</td>\n",
       "      <td>강원도</td>\n",
       "      <td>강릉시</td>\n",
       "    </tr>\n",
       "    <tr>\n",
       "      <th>1</th>\n",
       "      <td>1</td>\n",
       "      <td>25589</td>\n",
       "      <td>고성(강원)</td>\n",
       "      <td>9</td>\n",
       "      <td>0</td>\n",
       "      <td>664.19</td>\n",
       "      <td>강원도</td>\n",
       "      <td>고성군</td>\n",
       "    </tr>\n",
       "    <tr>\n",
       "      <th>2</th>\n",
       "      <td>2</td>\n",
       "      <td>86747</td>\n",
       "      <td>동해</td>\n",
       "      <td>11</td>\n",
       "      <td>5</td>\n",
       "      <td>180.01</td>\n",
       "      <td>강원도</td>\n",
       "      <td>동해시</td>\n",
       "    </tr>\n",
       "  </tbody>\n",
       "</table>\n",
       "</div>"
      ],
      "text/plain": [
       "   Unnamed: 0     인구수 shortName   x  y       면적 광역시도 행정구역\n",
       "0           0  202520        강릉  11  4  1040.07  강원도  강릉시\n",
       "1           1   25589    고성(강원)   9  0   664.19  강원도  고성군\n",
       "2           2   86747        동해  11  5   180.01  강원도  동해시"
      ]
     },
     "execution_count": 3,
     "metadata": {},
     "output_type": "execute_result"
    }
   ],
   "source": [
    "data.head(3)"
   ]
  },
  {
   "cell_type": "code",
   "execution_count": 4,
   "id": "f2b5b656-0666-4063-95c2-3ac166c67a9f",
   "metadata": {},
   "outputs": [
    {
     "data": {
      "text/html": [
       "<div>\n",
       "<style scoped>\n",
       "    .dataframe tbody tr th:only-of-type {\n",
       "        vertical-align: middle;\n",
       "    }\n",
       "\n",
       "    .dataframe tbody tr th {\n",
       "        vertical-align: top;\n",
       "    }\n",
       "\n",
       "    .dataframe thead th {\n",
       "        text-align: right;\n",
       "    }\n",
       "</style>\n",
       "<table border=\"1\" class=\"dataframe\">\n",
       "  <thead>\n",
       "    <tr style=\"text-align: right;\">\n",
       "      <th></th>\n",
       "      <th>Unnamed: 0</th>\n",
       "      <th>인구수</th>\n",
       "      <th>shortName</th>\n",
       "      <th>x</th>\n",
       "      <th>y</th>\n",
       "      <th>면적</th>\n",
       "      <th>광역시도</th>\n",
       "      <th>행정구역</th>\n",
       "    </tr>\n",
       "  </thead>\n",
       "  <tbody>\n",
       "    <tr>\n",
       "      <th>224</th>\n",
       "      <td>224</td>\n",
       "      <td>127462</td>\n",
       "      <td>제천</td>\n",
       "      <td>8</td>\n",
       "      <td>10</td>\n",
       "      <td>882.47</td>\n",
       "      <td>충청북도</td>\n",
       "      <td>제천시</td>\n",
       "    </tr>\n",
       "    <tr>\n",
       "      <th>225</th>\n",
       "      <td>225</td>\n",
       "      <td>34480</td>\n",
       "      <td>증평</td>\n",
       "      <td>6</td>\n",
       "      <td>11</td>\n",
       "      <td>81.84</td>\n",
       "      <td>충청북도</td>\n",
       "      <td>증평군</td>\n",
       "    </tr>\n",
       "    <tr>\n",
       "      <th>226</th>\n",
       "      <td>226</td>\n",
       "      <td>62809</td>\n",
       "      <td>진천</td>\n",
       "      <td>5</td>\n",
       "      <td>11</td>\n",
       "      <td>406.08</td>\n",
       "      <td>충청북도</td>\n",
       "      <td>진천군</td>\n",
       "    </tr>\n",
       "    <tr>\n",
       "      <th>227</th>\n",
       "      <td>227</td>\n",
       "      <td>790216</td>\n",
       "      <td>청주</td>\n",
       "      <td>6</td>\n",
       "      <td>12</td>\n",
       "      <td>932.51</td>\n",
       "      <td>충청북도</td>\n",
       "      <td>청주시</td>\n",
       "    </tr>\n",
       "    <tr>\n",
       "      <th>228</th>\n",
       "      <td>228</td>\n",
       "      <td>198077</td>\n",
       "      <td>충주</td>\n",
       "      <td>6</td>\n",
       "      <td>10</td>\n",
       "      <td>983.70</td>\n",
       "      <td>충청북도</td>\n",
       "      <td>충주시</td>\n",
       "    </tr>\n",
       "  </tbody>\n",
       "</table>\n",
       "</div>"
      ],
      "text/plain": [
       "     Unnamed: 0     인구수 shortName  x   y      면적  광역시도 행정구역\n",
       "224         224  127462        제천  8  10  882.47  충청북도  제천시\n",
       "225         225   34480        증평  6  11   81.84  충청북도  증평군\n",
       "226         226   62809        진천  5  11  406.08  충청북도  진천군\n",
       "227         227  790216        청주  6  12  932.51  충청북도  청주시\n",
       "228         228  198077        충주  6  10  983.70  충청북도  충주시"
      ]
     },
     "execution_count": 4,
     "metadata": {},
     "output_type": "execute_result"
    }
   ],
   "source": [
    "data.tail()"
   ]
  },
  {
   "cell_type": "code",
   "execution_count": 5,
   "id": "b202bfd3-dbfc-4d0c-9756-84f56bc0b1d2",
   "metadata": {},
   "outputs": [
    {
     "data": {
      "text/html": [
       "<div>\n",
       "<style scoped>\n",
       "    .dataframe tbody tr th:only-of-type {\n",
       "        vertical-align: middle;\n",
       "    }\n",
       "\n",
       "    .dataframe tbody tr th {\n",
       "        vertical-align: top;\n",
       "    }\n",
       "\n",
       "    .dataframe thead th {\n",
       "        text-align: right;\n",
       "    }\n",
       "</style>\n",
       "<table border=\"1\" class=\"dataframe\">\n",
       "  <thead>\n",
       "    <tr style=\"text-align: right;\">\n",
       "      <th></th>\n",
       "      <th>Unnamed: 0</th>\n",
       "      <th>인구수</th>\n",
       "      <th>shortName</th>\n",
       "      <th>x</th>\n",
       "      <th>y</th>\n",
       "      <th>면적</th>\n",
       "      <th>광역시도</th>\n",
       "      <th>행정구역</th>\n",
       "    </tr>\n",
       "  </thead>\n",
       "  <tbody>\n",
       "    <tr>\n",
       "      <th>47</th>\n",
       "      <td>47</td>\n",
       "      <td>150061</td>\n",
       "      <td>하남</td>\n",
       "      <td>9</td>\n",
       "      <td>5</td>\n",
       "      <td>93.10</td>\n",
       "      <td>경기도</td>\n",
       "      <td>하남시</td>\n",
       "    </tr>\n",
       "    <tr>\n",
       "      <th>223</th>\n",
       "      <td>223</td>\n",
       "      <td>86441</td>\n",
       "      <td>음성</td>\n",
       "      <td>5</td>\n",
       "      <td>10</td>\n",
       "      <td>521.05</td>\n",
       "      <td>충청북도</td>\n",
       "      <td>음성군</td>\n",
       "    </tr>\n",
       "    <tr>\n",
       "      <th>53</th>\n",
       "      <td>53</td>\n",
       "      <td>41388</td>\n",
       "      <td>남해</td>\n",
       "      <td>6</td>\n",
       "      <td>19</td>\n",
       "      <td>357.00</td>\n",
       "      <td>경상남도</td>\n",
       "      <td>남해군</td>\n",
       "    </tr>\n",
       "    <tr>\n",
       "      <th>19</th>\n",
       "      <td>19</td>\n",
       "      <td>955384</td>\n",
       "      <td>고양</td>\n",
       "      <td>4</td>\n",
       "      <td>2</td>\n",
       "      <td>267.33</td>\n",
       "      <td>경기도</td>\n",
       "      <td>고양시</td>\n",
       "    </tr>\n",
       "    <tr>\n",
       "      <th>139</th>\n",
       "      <td>139</td>\n",
       "      <td>279939</td>\n",
       "      <td>서울성동</td>\n",
       "      <td>7</td>\n",
       "      <td>5</td>\n",
       "      <td>16.85</td>\n",
       "      <td>서울특별시</td>\n",
       "      <td>성동구</td>\n",
       "    </tr>\n",
       "  </tbody>\n",
       "</table>\n",
       "</div>"
      ],
      "text/plain": [
       "     Unnamed: 0     인구수 shortName  x   y      면적   광역시도 행정구역\n",
       "47           47  150061        하남  9   5   93.10    경기도  하남시\n",
       "223         223   86441        음성  5  10  521.05   충청북도  음성군\n",
       "53           53   41388        남해  6  19  357.00   경상남도  남해군\n",
       "19           19  955384        고양  4   2  267.33    경기도  고양시\n",
       "139         139  279939      서울성동  7   5   16.85  서울특별시  성동구"
      ]
     },
     "execution_count": 5,
     "metadata": {},
     "output_type": "execute_result"
    }
   ],
   "source": [
    "data.sample(5)"
   ]
  },
  {
   "cell_type": "code",
   "execution_count": 6,
   "id": "c4b2f6ed-2bf5-47c7-b6e4-2c5391cb00de",
   "metadata": {},
   "outputs": [
    {
     "name": "stdout",
     "output_type": "stream",
     "text": [
      "컬럼명 : Index(['Unnamed: 0', '인구수', 'shortName', 'x', 'y', '면적', '광역시도', '행정구역'], dtype='object')\n",
      "인덱스 : RangeIndex(start=0, stop=229, step=1)\n"
     ]
    }
   ],
   "source": [
    "print(f'컬럼명 : {data.columns}')\n",
    "print(f'인덱스 : {data.index}')"
   ]
  },
  {
   "cell_type": "code",
   "execution_count": 7,
   "id": "663331e0-9fa8-49de-97f3-2bb4d6cfcaef",
   "metadata": {},
   "outputs": [
    {
     "name": "stdout",
     "output_type": "stream",
     "text": [
      "<class 'numpy.ndarray'>\n"
     ]
    },
    {
     "data": {
      "text/plain": [
       "array([[0, 202520, '강릉', ..., 1040.07, '강원도', '강릉시'],\n",
       "       [1, 25589, '고성(강원)', ..., 664.19, '강원도', '고성군'],\n",
       "       [2, 86747, '동해', ..., 180.01, '강원도', '동해시'],\n",
       "       ...,\n",
       "       [226, 62809, '진천', ..., 406.08, '충청북도', '진천군'],\n",
       "       [227, 790216, '청주', ..., 932.51, '충청북도', '청주시'],\n",
       "       [228, 198077, '충주', ..., 983.7, '충청북도', '충주시']], dtype=object)"
      ]
     },
     "execution_count": 7,
     "metadata": {},
     "output_type": "execute_result"
    }
   ],
   "source": [
    "print(type(data.values))\n",
    "data.values"
   ]
  },
  {
   "cell_type": "code",
   "execution_count": 8,
   "id": "6e6b1181-2613-44aa-b408-12e712c0527f",
   "metadata": {},
   "outputs": [
    {
     "name": "stdout",
     "output_type": "stream",
     "text": [
      "<class 'pandas.core.frame.DataFrame'>\n",
      "RangeIndex: 229 entries, 0 to 228\n",
      "Data columns (total 8 columns):\n",
      " #   Column      Non-Null Count  Dtype  \n",
      "---  ------      --------------  -----  \n",
      " 0   Unnamed: 0  229 non-null    int64  \n",
      " 1   인구수         229 non-null    int64  \n",
      " 2   shortName   229 non-null    object \n",
      " 3   x           229 non-null    int64  \n",
      " 4   y           229 non-null    int64  \n",
      " 5   면적          229 non-null    float64\n",
      " 6   광역시도        229 non-null    object \n",
      " 7   행정구역        229 non-null    object \n",
      "dtypes: float64(1), int64(4), object(3)\n",
      "memory usage: 14.4+ KB\n"
     ]
    }
   ],
   "source": [
    "data.info()"
   ]
  },
  {
   "cell_type": "code",
   "execution_count": 9,
   "id": "1edbc03a-18f2-4578-88b4-cb7bb52bd14e",
   "metadata": {},
   "outputs": [
    {
     "data": {
      "text/plain": [
       "dtype('int64')"
      ]
     },
     "execution_count": 9,
     "metadata": {},
     "output_type": "execute_result"
    }
   ],
   "source": [
    "# 인구수 컬럼의 타입 확인\n",
    "data['인구수'].dtypes"
   ]
  },
  {
   "cell_type": "code",
   "execution_count": 10,
   "id": "c4f13ac9-e509-4870-baf4-0fb1e2acf41b",
   "metadata": {},
   "outputs": [
    {
     "data": {
      "text/html": [
       "<div>\n",
       "<style scoped>\n",
       "    .dataframe tbody tr th:only-of-type {\n",
       "        vertical-align: middle;\n",
       "    }\n",
       "\n",
       "    .dataframe tbody tr th {\n",
       "        vertical-align: top;\n",
       "    }\n",
       "\n",
       "    .dataframe thead th {\n",
       "        text-align: right;\n",
       "    }\n",
       "</style>\n",
       "<table border=\"1\" class=\"dataframe\">\n",
       "  <thead>\n",
       "    <tr style=\"text-align: right;\">\n",
       "      <th></th>\n",
       "      <th>Unnamed: 0</th>\n",
       "      <th>인구수</th>\n",
       "      <th>x</th>\n",
       "      <th>y</th>\n",
       "      <th>면적</th>\n",
       "    </tr>\n",
       "  </thead>\n",
       "  <tbody>\n",
       "    <tr>\n",
       "      <th>count</th>\n",
       "      <td>229.000000</td>\n",
       "      <td>2.290000e+02</td>\n",
       "      <td>229.000000</td>\n",
       "      <td>229.000000</td>\n",
       "      <td>229.000000</td>\n",
       "    </tr>\n",
       "    <tr>\n",
       "      <th>mean</th>\n",
       "      <td>114.000000</td>\n",
       "      <td>2.110898e+05</td>\n",
       "      <td>6.117904</td>\n",
       "      <td>11.262009</td>\n",
       "      <td>435.419795</td>\n",
       "    </tr>\n",
       "    <tr>\n",
       "      <th>std</th>\n",
       "      <td>66.250786</td>\n",
       "      <td>2.074378e+05</td>\n",
       "      <td>3.320469</td>\n",
       "      <td>6.040898</td>\n",
       "      <td>381.612549</td>\n",
       "    </tr>\n",
       "    <tr>\n",
       "      <th>min</th>\n",
       "      <td>0.000000</td>\n",
       "      <td>8.392000e+03</td>\n",
       "      <td>0.000000</td>\n",
       "      <td>0.000000</td>\n",
       "      <td>2.800000</td>\n",
       "    </tr>\n",
       "    <tr>\n",
       "      <th>25%</th>\n",
       "      <td>57.000000</td>\n",
       "      <td>4.955900e+04</td>\n",
       "      <td>3.000000</td>\n",
       "      <td>6.000000</td>\n",
       "      <td>54.000000</td>\n",
       "    </tr>\n",
       "    <tr>\n",
       "      <th>50%</th>\n",
       "      <td>114.000000</td>\n",
       "      <td>1.401590e+05</td>\n",
       "      <td>6.000000</td>\n",
       "      <td>11.000000</td>\n",
       "      <td>436.400000</td>\n",
       "    </tr>\n",
       "    <tr>\n",
       "      <th>75%</th>\n",
       "      <td>171.000000</td>\n",
       "      <td>3.216180e+05</td>\n",
       "      <td>9.000000</td>\n",
       "      <td>16.000000</td>\n",
       "      <td>692.800000</td>\n",
       "    </tr>\n",
       "    <tr>\n",
       "      <th>max</th>\n",
       "      <td>228.000000</td>\n",
       "      <td>1.125461e+06</td>\n",
       "      <td>13.000000</td>\n",
       "      <td>25.000000</td>\n",
       "      <td>1817.940000</td>\n",
       "    </tr>\n",
       "  </tbody>\n",
       "</table>\n",
       "</div>"
      ],
      "text/plain": [
       "       Unnamed: 0           인구수           x           y           면적\n",
       "count  229.000000  2.290000e+02  229.000000  229.000000   229.000000\n",
       "mean   114.000000  2.110898e+05    6.117904   11.262009   435.419795\n",
       "std     66.250786  2.074378e+05    3.320469    6.040898   381.612549\n",
       "min      0.000000  8.392000e+03    0.000000    0.000000     2.800000\n",
       "25%     57.000000  4.955900e+04    3.000000    6.000000    54.000000\n",
       "50%    114.000000  1.401590e+05    6.000000   11.000000   436.400000\n",
       "75%    171.000000  3.216180e+05    9.000000   16.000000   692.800000\n",
       "max    228.000000  1.125461e+06   13.000000   25.000000  1817.940000"
      ]
     },
     "execution_count": 10,
     "metadata": {},
     "output_type": "execute_result"
    }
   ],
   "source": [
    "# describe() 함수\n",
    "data.describe()"
   ]
  },
  {
   "cell_type": "code",
   "execution_count": 11,
   "id": "85a857df-1d70-438c-be60-e74ebd5d4722",
   "metadata": {},
   "outputs": [
    {
     "name": "stdout",
     "output_type": "stream",
     "text": [
      "<class 'pandas.core.series.Series'>\n"
     ]
    },
    {
     "data": {
      "text/plain": [
       "0      202520\n",
       "1       25589\n",
       "2       86747\n",
       "3       63986\n",
       "4       76733\n",
       "        ...  \n",
       "224    127462\n",
       "225     34480\n",
       "226     62809\n",
       "227    790216\n",
       "228    198077\n",
       "Name: 인구수, Length: 229, dtype: int64"
      ]
     },
     "execution_count": 11,
     "metadata": {},
     "output_type": "execute_result"
    }
   ],
   "source": [
    "# 인구수 1개의 컬럼 선택\n",
    "print(type(data['인구수']))\n",
    "data['인구수']"
   ]
  },
  {
   "cell_type": "code",
   "execution_count": 12,
   "id": "c0e754ee-2a85-4bee-8eb0-d50ca86390be",
   "metadata": {},
   "outputs": [
    {
     "name": "stdout",
     "output_type": "stream",
     "text": [
      "인구수 최대값 1125461\n",
      "인구수 최소값 8392\n",
      "인구수 평균 211089.77729257641\n",
      "인구수 표준편차 207437.8370475227\n",
      "인구수 중간값 140159.0\n"
     ]
    },
    {
     "data": {
      "text/plain": [
       "0.25     49559.0\n",
       "0.75    321618.0\n",
       "Name: 인구수, dtype: float64"
      ]
     },
     "execution_count": 12,
     "metadata": {},
     "output_type": "execute_result"
    }
   ],
   "source": [
    "# 인구수 컬럼의 집계함수\n",
    "print(f\"인구수 최대값 {data['인구수'].max()}\")\n",
    "print(f\"인구수 최소값 {data['인구수'].min()}\")\n",
    "print(f\"인구수 평균 {data['인구수'].mean()}\")\n",
    "print(f\"인구수 표준편차 {data['인구수'].std()}\")\n",
    "print(f\"인구수 중간값 {data['인구수'].median()}\")\n",
    "data['인구수'].quantile([0.25, 0.75])"
   ]
  },
  {
   "cell_type": "code",
   "execution_count": 13,
   "id": "a8b81fd9-65d9-4af3-9f5f-7d14be0c21d1",
   "metadata": {},
   "outputs": [
    {
     "data": {
      "text/plain": [
       "array(['강원도', '경기도', '경상남도', '경상북도', '광주광역시', '대구광역시', '대전광역시', '부산광역시',\n",
       "       '서울특별시', '세종특별자치시', '울산광역시', '인천광역시', '전라남도', '전라북도', '제주특별자치도',\n",
       "       '충청남도', '충청북도'], dtype=object)"
      ]
     },
     "execution_count": 13,
     "metadata": {},
     "output_type": "execute_result"
    }
   ],
   "source": [
    "# unique한 광역시도명\n",
    "data['광역시도'].unique()"
   ]
  },
  {
   "cell_type": "code",
   "execution_count": 14,
   "id": "d8b4bdcf-cec0-4a26-aa69-54def2bc490e",
   "metadata": {},
   "outputs": [
    {
     "data": {
      "text/plain": [
       "경기도        31\n",
       "서울특별시      25\n",
       "경상북도       23\n",
       "전라남도       22\n",
       "강원도        18\n",
       "경상남도       18\n",
       "부산광역시      16\n",
       "충청남도       15\n",
       "전라북도       14\n",
       "충청북도       11\n",
       "인천광역시      10\n",
       "대구광역시       8\n",
       "대전광역시       5\n",
       "광주광역시       5\n",
       "울산광역시       5\n",
       "제주특별자치도     2\n",
       "세종특별자치시     1\n",
       "Name: 광역시도, dtype: int64"
      ]
     },
     "execution_count": 14,
     "metadata": {},
     "output_type": "execute_result"
    }
   ],
   "source": [
    "# 광역시도 row counting\n",
    "data['광역시도'].value_counts()"
   ]
  },
  {
   "cell_type": "code",
   "execution_count": 22,
   "id": "156ee472-9728-4388-92bc-5551ee1b5c6f",
   "metadata": {},
   "outputs": [
    {
     "ename": "SyntaxError",
     "evalue": "invalid syntax (<ipython-input-22-bb3078784971>, line 5)",
     "output_type": "error",
     "traceback": [
      "\u001b[1;36m  File \u001b[1;32m\"<ipython-input-22-bb3078784971>\"\u001b[1;36m, line \u001b[1;32m5\u001b[0m\n\u001b[1;33m    .(drop=True)\u001b[0m\n\u001b[1;37m     ^\u001b[0m\n\u001b[1;31mSyntaxError\u001b[0m\u001b[1;31m:\u001b[0m invalid syntax\n"
     ]
    }
   ],
   "source": [
    "#경기도 만 선택\n",
    "# df.loc[행선택 , 열선택]\n",
    "# 인구수가 많은 순서대로 정렬\n",
    "gy_df = data.loc[data['광역시도'] == '경기도','인구수':'행정구역'].sort_values(by='인구수', ascending=False)\\\n",
    ".reset_index(drop=True)\n",
    "gy_"
   ]
  },
  {
   "cell_type": "code",
   "execution_count": null,
   "id": "7c10bf5f-d078-43bc-bfa3-a05ea7b1bc0a",
   "metadata": {},
   "outputs": [],
   "source": []
  },
  {
   "cell_type": "code",
   "execution_count": null,
   "id": "722fa27e-aaae-4b34-96ac-f03b44f8defb",
   "metadata": {},
   "outputs": [],
   "source": [
    "#경기도 인구수의 평균과 표준편찬"
   ]
  }
 ],
 "metadata": {
  "kernelspec": {
   "display_name": "Python 3",
   "language": "python",
   "name": "python3"
  },
  "language_info": {
   "codemirror_mode": {
    "name": "ipython",
    "version": 3
   },
   "file_extension": ".py",
   "mimetype": "text/x-python",
   "name": "python",
   "nbconvert_exporter": "python",
   "pygments_lexer": "ipython3",
   "version": "3.8.8"
  }
 },
 "nbformat": 4,
 "nbformat_minor": 5
}
