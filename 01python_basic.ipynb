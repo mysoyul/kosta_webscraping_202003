{
 "cells": [
  {
   "cell_type": "markdown",
   "id": "b40e9881-4488-4676-9dd4-1e909049d354",
   "metadata": {},
   "source": [
    "### 함수선언\n",
    "* 인자를 2개 받아서 연산하기\n",
    "* 셀실행 단축키 \n",
    " 1. ctrl + enter : 셀 실행 만\n",
    " 2. shift + enter : 셀 실행 + 커서 아래로 \n",
    " 3. alt + enter : 셀 실행 + 하위 셀 추가\n",
    " 4. 셀의 유형 변경하는 단축키 ESC + m (마크다운) , ESC + y (코드)"
   ]
  },
  {
   "cell_type": "code",
   "execution_count": 1,
   "id": "0d66a055-316e-4772-adba-b58139167a30",
   "metadata": {},
   "outputs": [],
   "source": [
    "def add(n1, n2):\n",
    "    return n1 + n2"
   ]
  },
  {
   "cell_type": "code",
   "execution_count": 2,
   "id": "6b8a09ba-183b-483a-a90b-e95afb4c3b66",
   "metadata": {},
   "outputs": [
    {
     "data": {
      "text/plain": [
       "function"
      ]
     },
     "execution_count": 2,
     "metadata": {},
     "output_type": "execute_result"
    }
   ],
   "source": [
    "type(add)"
   ]
  },
  {
   "cell_type": "code",
   "execution_count": 6,
   "id": "8c13be3d-800d-4040-a773-982a841cba30",
   "metadata": {},
   "outputs": [
    {
     "data": {
      "text/plain": [
       "30"
      ]
     },
     "execution_count": 6,
     "metadata": {},
     "output_type": "execute_result"
    }
   ],
   "source": [
    "add(10,20)"
   ]
  },
  {
   "cell_type": "markdown",
   "id": "3e1e8854-9261-4846-a5ba-86e81a1facf4",
   "metadata": {},
   "source": [
    "\\begin{equation}\n",
    "e^x=\\sum_{i=0}^\\infty \\frac{1}{i!}x^i\n",
    "\\end{equation}"
   ]
  },
  {
   "cell_type": "markdown",
   "id": "e1703e27-2672-4242-9ed7-832a4e1c132b",
   "metadata": {},
   "source": [
    "| This | is   |\n",
    "|------|------|\n",
    "|   a  | table|"
   ]
  },
  {
   "cell_type": "code",
   "execution_count": null,
   "id": "30da37fc-34f6-4aec-917d-472897c94e9b",
   "metadata": {},
   "outputs": [],
   "source": []
  }
 ],
 "metadata": {
  "kernelspec": {
   "display_name": "Python 3",
   "language": "python",
   "name": "python3"
  },
  "language_info": {
   "codemirror_mode": {
    "name": "ipython",
    "version": 3
   },
   "file_extension": ".py",
   "mimetype": "text/x-python",
   "name": "python",
   "nbconvert_exporter": "python",
   "pygments_lexer": "ipython3",
   "version": "3.8.8"
  }
 },
 "nbformat": 4,
 "nbformat_minor": 5
}
