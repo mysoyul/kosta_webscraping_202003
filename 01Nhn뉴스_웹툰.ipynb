{
 "cells": [
  {
   "cell_type": "markdown",
   "id": "1f0235c4-11d1-4e7b-bbce-23b4564514d6",
   "metadata": {},
   "source": [
    "## 뉴스 제목 가져오기\n"
   ]
  },
  {
   "cell_type": "code",
   "execution_count": 33,
   "id": "fb05970c-71e9-49f4-a325-12e5650f965e",
   "metadata": {},
   "outputs": [],
   "source": [
    "import requests\n",
    "import bs4\n",
    "from bs4 import BeautifulSoup\n",
    "from urllib.parse import urljoin"
   ]
  },
  {
   "cell_type": "code",
   "execution_count": 3,
   "id": "ab033982-cae0-4206-adee-bc5220ae7dde",
   "metadata": {},
   "outputs": [
    {
     "name": "stdout",
     "output_type": "stream",
     "text": [
      "Name: requests\n",
      "Version: 2.25.1\n",
      "Summary: Python HTTP for Humans.\n",
      "Home-page: https://requests.readthedocs.io\n",
      "Author: Kenneth Reitz\n",
      "Author-email: me@kennethreitz.org\n",
      "License: Apache 2.0\n",
      "Location: c:\\users\\vega2\\anaconda3\\lib\\site-packages\n",
      "Requires: certifi, idna, chardet, urllib3\n",
      "Required-by: Sphinx, jupyterlab-server, conda, conda-repo-cli, conda-build, anaconda-project, anaconda-client\n"
     ]
    }
   ],
   "source": [
    "!pip show requests"
   ]
  },
  {
   "cell_type": "code",
   "execution_count": 4,
   "id": "d1cecfc4-8d3a-4c54-9ae1-1e3af69d7b3a",
   "metadata": {},
   "outputs": [],
   "source": [
    "#! pip install --upgrade requests"
   ]
  },
  {
   "cell_type": "code",
   "execution_count": 5,
   "id": "d8e9da4c-f3ff-42e6-a9ec-ecb21c6fc68e",
   "metadata": {},
   "outputs": [
    {
     "name": "stdout",
     "output_type": "stream",
     "text": [
      "requests version 2.25.1\n"
     ]
    }
   ],
   "source": [
    "print('requests version' , requests.__version__ )"
   ]
  },
  {
   "cell_type": "code",
   "execution_count": 10,
   "id": "a62c8820-0318-456e-a1c2-637c383299a8",
   "metadata": {},
   "outputs": [
    {
     "name": "stdout",
     "output_type": "stream",
     "text": [
      "bs4 version 4.9.3\n"
     ]
    }
   ],
   "source": [
    "print('bs4 version', bs4.__version__)"
   ]
  },
  {
   "cell_type": "code",
   "execution_count": 35,
   "id": "05d07f32-968c-48af-b3a7-3b6fb13594cb",
   "metadata": {},
   "outputs": [
    {
     "name": "stdout",
     "output_type": "stream",
     "text": [
      "True\n",
      "200\n"
     ]
    }
   ],
   "source": [
    "# 생활/문화 뉴스\n",
    "url = 'https://news.naver.com/main/main.naver?mode=LSD&mid=shm&sid1=103'\n",
    "# 요청 헤더 : 브라우저 정보 \n",
    "req_header = {\n",
    "    'user-agent':'Mozilla/5.0 (Windows NT 10.0; Win64; x64) AppleWebKit/537.36 (KHTML, like Gecko) Chrome/99.0.4844.51 Safari/537.36'\n",
    "}\n",
    "\n",
    "res = requests.get(url, headers=req_header)\n",
    "print(res.ok) # 200\n",
    "print(res.status_code)\n",
    "#print(type(res))\n",
    "if res.ok:\n",
    "    # 소스보기에서 보여지는 텍스트\n",
    "    html = res.text\n",
    "    # parser 역힐을 하는 BeautifulSoup 객체 생성\n",
    "    soup = BeautifulSoup(html, 'html.parser')\n",
    "    #print(len(soup.select(\"a[href*='read.naver']\")))\n",
    "    # a 태그를 찾기 : href 속성의 값에 read.naver 문자열이 부분적으로 매칭되는 a tag\n",
    "    atag_list = soup.select(\"a[href*='read.naver']\")\n",
    "    for atag in atag_list:\n",
    "        #print(type(atag), atag)\n",
    "        #<a href=\"\">제목</a> atag.text => 제목\n",
    "        title = atag.text.strip()\n",
    "        if title:\n",
    "            href = urljoin(url, atag['href'])\n",
    "            #print(title, href)\n",
    "else:\n",
    "    print('Error 발생 : ', res.status_code)"
   ]
  },
  {
   "cell_type": "markdown",
   "id": "372b9541-50ea-4bf0-bd31-2785d63d4fb0",
   "metadata": {},
   "source": [
    "### 웹툰 이미지 다운로드 하기\n",
    "* referer 헤더를 반드시 설정해야 합니다."
   ]
  },
  {
   "cell_type": "code",
   "execution_count": 36,
   "id": "2b09e890-9f86-46c4-8e18-13fa496087d2",
   "metadata": {},
   "outputs": [],
   "source": [
    "import requests\n",
    "import os\n",
    "\n",
    "req_header = {\n",
    "    'referer':'https://comic.naver.com/webtoon/detail?titleId=183559&no=531&weekday=mon'\n",
    "}"
   ]
  },
  {
   "cell_type": "code",
   "execution_count": null,
   "id": "24b3df2c-5ab8-4a49-806e-4dc022fe3e35",
   "metadata": {},
   "outputs": [],
   "source": []
  }
 ],
 "metadata": {
  "kernelspec": {
   "display_name": "Python 3",
   "language": "python",
   "name": "python3"
  },
  "language_info": {
   "codemirror_mode": {
    "name": "ipython",
    "version": 3
   },
   "file_extension": ".py",
   "mimetype": "text/x-python",
   "name": "python",
   "nbconvert_exporter": "python",
   "pygments_lexer": "ipython3",
   "version": "3.8.8"
  }
 },
 "nbformat": 4,
 "nbformat_minor": 5
}
